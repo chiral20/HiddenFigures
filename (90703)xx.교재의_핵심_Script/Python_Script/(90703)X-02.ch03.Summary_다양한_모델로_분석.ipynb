{
 "cells": [
  {
   "cell_type": "markdown",
   "metadata": {},
   "source": [
    "# 3. 다양한 모델로 분석하기"
   ]
  },
  {
   "cell_type": "code",
   "execution_count": 1,
   "metadata": {},
   "outputs": [],
   "source": [
    "import numpy as np\n",
    "import pandas as pd\n",
    "import matplotlib.pyplot as plt\n",
    "\n",
    "%matplotlib inline"
   ]
  },
  {
   "cell_type": "markdown",
   "metadata": {},
   "source": [
    "## 3.1. 선형모델 분석"
   ]
  },
  {
   "cell_type": "markdown",
   "metadata": {},
   "source": [
    "### 3.1.1. 선형 회귀 기초 (p76)"
   ]
  },
  {
   "cell_type": "markdown",
   "metadata": {},
   "source": [
    "#### 3.1.1.1. 모델 선택"
   ]
  },
  {
   "cell_type": "code",
   "execution_count": 2,
   "metadata": {},
   "outputs": [],
   "source": [
    "from sklearn.linear_model import LinearRegression"
   ]
  },
  {
   "cell_type": "markdown",
   "metadata": {},
   "source": [
    "#### 3.1.1.2. 지도학습용 데이터 준비"
   ]
  },
  {
   "cell_type": "code",
   "execution_count": 3,
   "metadata": {},
   "outputs": [],
   "source": [
    "boston = pd.read_csv('data/boston.csv') # boston지역의 부동산 데이터"
   ]
  },
  {
   "cell_type": "code",
   "execution_count": 4,
   "metadata": {},
   "outputs": [
    {
     "data": {
      "text/html": [
       "<div>\n",
       "<style scoped>\n",
       "    .dataframe tbody tr th:only-of-type {\n",
       "        vertical-align: middle;\n",
       "    }\n",
       "\n",
       "    .dataframe tbody tr th {\n",
       "        vertical-align: top;\n",
       "    }\n",
       "\n",
       "    .dataframe thead th {\n",
       "        text-align: right;\n",
       "    }\n",
       "</style>\n",
       "<table border=\"1\" class=\"dataframe\">\n",
       "  <thead>\n",
       "    <tr style=\"text-align: right;\">\n",
       "      <th></th>\n",
       "      <th>Price</th>\n",
       "      <th>CRIM</th>\n",
       "      <th>ZN</th>\n",
       "      <th>INDUS</th>\n",
       "      <th>CHAS</th>\n",
       "      <th>NOX</th>\n",
       "      <th>RM</th>\n",
       "      <th>AGE</th>\n",
       "      <th>DIS</th>\n",
       "      <th>RAD</th>\n",
       "      <th>TAX</th>\n",
       "      <th>PTRATIO</th>\n",
       "      <th>B</th>\n",
       "      <th>LSTAT</th>\n",
       "    </tr>\n",
       "  </thead>\n",
       "  <tbody>\n",
       "    <tr>\n",
       "      <th>0</th>\n",
       "      <td>24.0</td>\n",
       "      <td>0.00632</td>\n",
       "      <td>18.0</td>\n",
       "      <td>2.31</td>\n",
       "      <td>0.0</td>\n",
       "      <td>0.538</td>\n",
       "      <td>6.575</td>\n",
       "      <td>65.2</td>\n",
       "      <td>4.0900</td>\n",
       "      <td>1.0</td>\n",
       "      <td>296.0</td>\n",
       "      <td>15.3</td>\n",
       "      <td>396.90</td>\n",
       "      <td>4.98</td>\n",
       "    </tr>\n",
       "    <tr>\n",
       "      <th>1</th>\n",
       "      <td>21.6</td>\n",
       "      <td>0.02731</td>\n",
       "      <td>0.0</td>\n",
       "      <td>7.07</td>\n",
       "      <td>0.0</td>\n",
       "      <td>0.469</td>\n",
       "      <td>6.421</td>\n",
       "      <td>78.9</td>\n",
       "      <td>4.9671</td>\n",
       "      <td>2.0</td>\n",
       "      <td>242.0</td>\n",
       "      <td>17.8</td>\n",
       "      <td>396.90</td>\n",
       "      <td>9.14</td>\n",
       "    </tr>\n",
       "    <tr>\n",
       "      <th>2</th>\n",
       "      <td>34.7</td>\n",
       "      <td>0.02729</td>\n",
       "      <td>0.0</td>\n",
       "      <td>7.07</td>\n",
       "      <td>0.0</td>\n",
       "      <td>0.469</td>\n",
       "      <td>7.185</td>\n",
       "      <td>61.1</td>\n",
       "      <td>4.9671</td>\n",
       "      <td>2.0</td>\n",
       "      <td>242.0</td>\n",
       "      <td>17.8</td>\n",
       "      <td>392.83</td>\n",
       "      <td>4.03</td>\n",
       "    </tr>\n",
       "    <tr>\n",
       "      <th>3</th>\n",
       "      <td>33.4</td>\n",
       "      <td>0.03237</td>\n",
       "      <td>0.0</td>\n",
       "      <td>2.18</td>\n",
       "      <td>0.0</td>\n",
       "      <td>0.458</td>\n",
       "      <td>6.998</td>\n",
       "      <td>45.8</td>\n",
       "      <td>6.0622</td>\n",
       "      <td>3.0</td>\n",
       "      <td>222.0</td>\n",
       "      <td>18.7</td>\n",
       "      <td>394.63</td>\n",
       "      <td>2.94</td>\n",
       "    </tr>\n",
       "    <tr>\n",
       "      <th>4</th>\n",
       "      <td>36.2</td>\n",
       "      <td>0.06905</td>\n",
       "      <td>0.0</td>\n",
       "      <td>2.18</td>\n",
       "      <td>0.0</td>\n",
       "      <td>0.458</td>\n",
       "      <td>7.147</td>\n",
       "      <td>54.2</td>\n",
       "      <td>6.0622</td>\n",
       "      <td>3.0</td>\n",
       "      <td>222.0</td>\n",
       "      <td>18.7</td>\n",
       "      <td>396.90</td>\n",
       "      <td>5.33</td>\n",
       "    </tr>\n",
       "  </tbody>\n",
       "</table>\n",
       "</div>"
      ],
      "text/plain": [
       "   Price     CRIM    ZN  INDUS  CHAS    NOX     RM   AGE     DIS  RAD    TAX  \\\n",
       "0   24.0  0.00632  18.0   2.31   0.0  0.538  6.575  65.2  4.0900  1.0  296.0   \n",
       "1   21.6  0.02731   0.0   7.07   0.0  0.469  6.421  78.9  4.9671  2.0  242.0   \n",
       "2   34.7  0.02729   0.0   7.07   0.0  0.469  7.185  61.1  4.9671  2.0  242.0   \n",
       "3   33.4  0.03237   0.0   2.18   0.0  0.458  6.998  45.8  6.0622  3.0  222.0   \n",
       "4   36.2  0.06905   0.0   2.18   0.0  0.458  7.147  54.2  6.0622  3.0  222.0   \n",
       "\n",
       "   PTRATIO       B  LSTAT  \n",
       "0     15.3  396.90   4.98  \n",
       "1     17.8  396.90   9.14  \n",
       "2     17.8  392.83   4.03  \n",
       "3     18.7  394.63   2.94  \n",
       "4     18.7  396.90   5.33  "
      ]
     },
     "execution_count": 4,
     "metadata": {},
     "output_type": "execute_result"
    }
   ],
   "source": [
    "boston[:5]"
   ]
  },
  {
   "cell_type": "code",
   "execution_count": 5,
   "metadata": {},
   "outputs": [],
   "source": [
    "y = boston.values[:, 0].astype('float32') # 회귀\n",
    "X = boston.values[:,1:].astype('float32')"
   ]
  },
  {
   "cell_type": "code",
   "execution_count": 6,
   "metadata": {},
   "outputs": [
    {
     "data": {
      "text/plain": [
       "((506, 13), (506,))"
      ]
     },
     "execution_count": 6,
     "metadata": {},
     "output_type": "execute_result"
    }
   ],
   "source": [
    "X.shape, y.shape # 특징의 갯수 13개"
   ]
  },
  {
   "cell_type": "code",
   "execution_count": 7,
   "metadata": {},
   "outputs": [],
   "source": [
    "from sklearn.model_selection import train_test_split # 훈련, 시험 데이터의 분리"
   ]
  },
  {
   "cell_type": "code",
   "execution_count": 8,
   "metadata": {},
   "outputs": [],
   "source": [
    "X_train, X_test, y_train, y_test = train_test_split(X, y) "
   ]
  },
  {
   "cell_type": "markdown",
   "metadata": {},
   "source": [
    "#### 3.1.1.3. 모델 훈련 및 평가"
   ]
  },
  {
   "cell_type": "code",
   "execution_count": 9,
   "metadata": {},
   "outputs": [],
   "source": [
    "model = LinearRegression().fit(X_train, y_train)"
   ]
  },
  {
   "cell_type": "code",
   "execution_count": 10,
   "metadata": {},
   "outputs": [
    {
     "name": "stdout",
     "output_type": "stream",
     "text": [
      "[-1.0756143e-01  5.0331660e-02 -7.1866962e-04  2.0853946e+00\n",
      " -1.7543549e+01  4.0833817e+00 -1.0016712e-02 -1.6021624e+00\n",
      "  2.6284868e-01 -1.2543456e-02 -9.5158428e-01  8.0629084e-03\n",
      " -4.4732183e-01] 35.879997\n"
     ]
    }
   ],
   "source": [
    "w = model.coef_  # p77의 설명 참고 & 13차원짜리 초평면의 기울기라고 보면 된다\n",
    "b = model.intercept_ # 단일한 스칼라 값이다\n",
    "print(w,b)"
   ]
  },
  {
   "cell_type": "code",
   "execution_count": 11,
   "metadata": {},
   "outputs": [
    {
     "data": {
      "text/plain": [
       "((13,), ())"
      ]
     },
     "execution_count": 11,
     "metadata": {},
     "output_type": "execute_result"
    }
   ],
   "source": [
    "w.shape, b.shape"
   ]
  },
  {
   "cell_type": "code",
   "execution_count": 12,
   "metadata": {},
   "outputs": [
    {
     "data": {
      "text/plain": [
       "array([-0.10756143,  0.05033166, -0.00071867], dtype=float32)"
      ]
     },
     "execution_count": 12,
     "metadata": {},
     "output_type": "execute_result"
    }
   ],
   "source": [
    "w[:3]"
   ]
  },
  {
   "cell_type": "code",
   "execution_count": 13,
   "metadata": {},
   "outputs": [
    {
     "data": {
      "text/plain": [
       "35.879997"
      ]
     },
     "execution_count": 13,
     "metadata": {},
     "output_type": "execute_result"
    }
   ],
   "source": [
    "b"
   ]
  },
  {
   "cell_type": "raw",
   "metadata": {},
   "source": [
    "Q : 가중치와 특성과의 관계?\n",
    "A : 의미를 부여하기 어렵다"
   ]
  },
  {
   "cell_type": "code",
   "execution_count": 14,
   "metadata": {},
   "outputs": [],
   "source": [
    "feature_name =boston.columns[1:]"
   ]
  },
  {
   "cell_type": "code",
   "execution_count": 15,
   "metadata": {},
   "outputs": [
    {
     "data": {
      "text/plain": [
       "Index(['CRIM', 'ZN', 'INDUS'], dtype='object')"
      ]
     },
     "execution_count": 15,
     "metadata": {},
     "output_type": "execute_result"
    }
   ],
   "source": [
    "feature_name[:3]"
   ]
  },
  {
   "cell_type": "code",
   "execution_count": 16,
   "metadata": {},
   "outputs": [
    {
     "data": {
      "text/plain": [
       "<matplotlib.axes._subplots.AxesSubplot at 0x267cfae4c50>"
      ]
     },
     "execution_count": 16,
     "metadata": {},
     "output_type": "execute_result"
    },
    {
     "data": {
      "image/png": "[encoded data removed]",
      "text/plain": [
       "<Figure size 432x288 with 1 Axes>"
      ]
     },
     "metadata": {
      "needs_background": "light"
     },
     "output_type": "display_data"
    }
   ],
   "source": [
    "pd.Series(w, index = feature_name).plot(kind ='barh')"
   ]
  },
  {
   "cell_type": "markdown",
   "metadata": {},
   "source": [
    "#### (참고) boston 데이터에 대한 설명\n",
    "* CRIM: 범죄율\n",
    "* INDUS: 비소매상업지역 면적 비율\n",
    "* NOX: 일산화질소 농도\n",
    "* RM: 주택당 방 수\n",
    "* LSTAT: 인구 중 하위 계층 비율\n",
    "* B: 인구 중 흑인 비율\n",
    "* PTRATIO: 학생/교사 비율\n",
    "* ZN: 25,000 평방피트를 초과 거주지역 비율\n",
    "* CHAS: 찰스강의 경계에 위치한 경우는 1, 아니면 0\n",
    "* AGE: 1940년 이전에 건축된 주택의 비율\n",
    "* RAD: 방사형 고속도로까지의 거리\n",
    "* DIS: 직업센터의 거리\n",
    "* TAX: 재산세율"
   ]
  },
  {
   "cell_type": "code",
   "execution_count": 17,
   "metadata": {},
   "outputs": [
    {
     "data": {
      "text/plain": [
       "(0.7387381005138522, 0.7338680011239513)"
      ]
     },
     "execution_count": 17,
     "metadata": {},
     "output_type": "execute_result"
    }
   ],
   "source": [
    "model.score(X_train, y_train), model.score(X_test, y_test)"
   ]
  },
  {
   "cell_type": "markdown",
   "metadata": {},
   "source": [
    "#### 3.1.1.4. 결과 요약"
   ]
  },
  {
   "cell_type": "markdown",
   "metadata": {},
   "source": [
    "위 결과는 (0.77371941021470347, 0.58995412112407264) (<-- 이것은 R^2로 계산한 것이며, 실행할 때마다 위 결과와 지금 코멘트값이 다를 것임)\n",
    "\n",
    "훈련점수가 0.77로 만족스럽지 못하고, 시험점수도 0.59로 만족스럽지는 않다.\n",
    "과대적합이기도 하지만\n",
    "\n",
    "1. 먼저 과소적합에서 벗어나야 한다.\n",
    "2. 그 뒤에 과대적합을 확인하는 방법을 쓴다.\n",
    "\n",
    "그러려면 (과소적합을 벗어나려면)\n",
    "1. 모델을 바꿔봐야 한다.\n",
    "2. 또는 파라미터를 바꿔봐야한다.\n",
    "3. 또는 데이터에 손을 대는 일도 있다. (아래 설명 참고)\n",
    "   --> 예를 들면, 새로운 특성을 추가해서 (차원을 추가해서)"
   ]
  },
  {
   "cell_type": "markdown",
   "metadata": {},
   "source": [
    "#### 3.1.1.5. 선형모델 성능 개선 방법\n",
    "\n",
    "1. 업무전문가의 도메인 지식을 접목해서 특징(feature)을 발굴한다\n",
    "\n",
    "또는\n",
    "2. 데이터 공학 (또는 도메인 지식을 통해서 다른 특징을 찾아내어 feature를 증가시킨다 --> 차원을 확장)\n",
    "\n",
    "   x1, x2가 있는데 원래 있던 특성을 수학적으로 조합한다  \n",
    "\n",
    "   x3 = (x1)^2\n",
    "   \n",
    "   x4 = x1 * x2\n",
    "   \n",
    "   x5 = (x2)^2"
   ]
  },
  {
   "cell_type": "markdown",
   "metadata": {},
   "source": [
    "### 3.1.2. 특성공학 (feature engineering)"
   ]
  },
  {
   "cell_type": "markdown",
   "metadata": {},
   "source": [
    "  #### (참고) 교재 p290 : 4.5 상호작용과 다항식\n",
    "\n",
    "  *  특성공학으로 특성 차원을 강제적으로 확대\n",
    "  \n",
    "    --> 기존의 x를 조합해서 새로운 x'으로 만들어 내는 것"
   ]
  },
  {
   "cell_type": "markdown",
   "metadata": {},
   "source": [
    "#### 3.1.2.1. 특성공학용 라이브러리 적재"
   ]
  },
  {
   "cell_type": "code",
   "execution_count": 18,
   "metadata": {},
   "outputs": [],
   "source": [
    "from sklearn.preprocessing import PolynomialFeatures"
   ]
  },
  {
   "cell_type": "markdown",
   "metadata": {},
   "source": [
    "#### 3.1.2.2. 다항식의 생성으로 차원확장"
   ]
  },
  {
   "cell_type": "code",
   "execution_count": 19,
   "metadata": {},
   "outputs": [],
   "source": [
    "poly = PolynomialFeatures(degree = 2) # x1, x2 -> x1,x2 외에 x1*x1, X1*X2, x2*x2로 하라는 것"
   ]
  },
  {
   "cell_type": "code",
   "execution_count": 20,
   "metadata": {},
   "outputs": [
    {
     "data": {
      "text/plain": [
       "PolynomialFeatures(degree=2, include_bias=True, interaction_only=False)"
      ]
     },
     "execution_count": 20,
     "metadata": {},
     "output_type": "execute_result"
    }
   ],
   "source": [
    "poly.fit(X_train) # 학습이라기보다는 데이터의 맞춤으로 보는 것이 낫다"
   ]
  },
  {
   "cell_type": "code",
   "execution_count": 21,
   "metadata": {},
   "outputs": [],
   "source": [
    "XX_train = poly.transform(X_train)"
   ]
  },
  {
   "cell_type": "code",
   "execution_count": 22,
   "metadata": {},
   "outputs": [],
   "source": [
    "XX_test = poly.transform(X_test)"
   ]
  },
  {
   "cell_type": "code",
   "execution_count": 23,
   "metadata": {},
   "outputs": [
    {
     "data": {
      "text/plain": [
       "((379, 13), (379, 105))"
      ]
     },
     "execution_count": 23,
     "metadata": {},
     "output_type": "execute_result"
    }
   ],
   "source": [
    "X_train.shape, XX_train.shape  # 차원이 늘어났음을 알 수 있다 (13차원 -> 105차원)"
   ]
  },
  {
   "cell_type": "markdown",
   "metadata": {},
   "source": [
    "#### 3.1.2.3. 모델 훈련 및 평가"
   ]
  },
  {
   "cell_type": "code",
   "execution_count": 24,
   "metadata": {},
   "outputs": [
    {
     "data": {
      "text/plain": [
       "(0.6952858645611313, 0.6544296317708029)"
      ]
     },
     "execution_count": 24,
     "metadata": {},
     "output_type": "execute_result"
    }
   ],
   "source": [
    "model = LinearRegression().fit(XX_train, y_train)\n",
    "model.score(XX_train, y_train), model.score(XX_test, y_test)"
   ]
  },
  {
   "cell_type": "markdown",
   "metadata": {},
   "source": [
    "#### 3.1.2.4. 평가결과의 해석"
   ]
  },
  {
   "cell_type": "markdown",
   "metadata": {},
   "source": [
    "위 결과를 보면 '(0.90800506763255706, 0.6557083726666536)'  <- 이 숫자는 실행할 때마다 변경될 것이나, 두 숫자의 규모는 크게 변하지는 않을 것임\n",
    "\n",
    "1. 훈련데이터의 과소적합은 해소되었다 (앞의 분석에서 '0.77371941021470347' -> '0.90800506763255706' 으로 개선\n",
    "2. 시험데이터의 정확도는 크게 개선되지 않고, 심한 과적합의 효과가 있다"
   ]
  },
  {
   "cell_type": "markdown",
   "metadata": {},
   "source": [
    "현재 문제는 시험의 정확도가 좋지 않다는 것이다. \n",
    "\n",
    "개선할 방법이 두 가지가 있는데,\n",
    "\n",
    "첫번째, 지금까지 활용하지 않은 분야 전문성(부동산) 지식을 활용하는 방법과\n",
    "\n",
    "두번째, 모델을 튜닝해보는 것\n",
    "\n",
    "      1) 모델의 파라미터를 튜닝해보는 것\n",
    "  \n",
    "      2) 모델을 교체하는 것\n",
    "\n",
    "분야 전문성 지식을 활용하기 전에, 두번째 방법인 모델 튜닝을 더 해본다. (교육의 목적에 부합하므로)\n",
    "\n",
    "but 아쉽게도 선형모델은 모델 튜닝을 할 것이 없다. (튜닝할 파라미터가 없다)\n",
    "\n",
    "그러므로 모델을 교체한다"
   ]
  },
  {
   "cell_type": "markdown",
   "metadata": {},
   "source": [
    "### 3.1.3. 리지회귀 사용 (기본 파라미터)"
   ]
  },
  {
   "cell_type": "markdown",
   "metadata": {},
   "source": [
    "* 리지회귀 : 선형회귀인데, 표현력 조정이 가능한 모델 (교재 p78의 내용 참고)"
   ]
  },
  {
   "cell_type": "markdown",
   "metadata": {},
   "source": [
    "#### 3.1.3.1. 리지회귀 라이브러리 적재"
   ]
  },
  {
   "cell_type": "code",
   "execution_count": 25,
   "metadata": {},
   "outputs": [],
   "source": [
    "from sklearn.linear_model import Ridge"
   ]
  },
  {
   "cell_type": "markdown",
   "metadata": {},
   "source": [
    "#### 3.1.3.2. 모델 훈련 및 평가"
   ]
  },
  {
   "cell_type": "code",
   "execution_count": 26,
   "metadata": {},
   "outputs": [
    {
     "name": "stderr",
     "output_type": "stream",
     "text": [
      "C:\\Users\\jhhong\\Anaconda3\\lib\\site-packages\\sklearn\\linear_model\\ridge.py:125: LinAlgWarning: Ill-conditioned matrix (rcond=5.92488e-14): result may not be accurate.\n",
      "  overwrite_a=True).T\n"
     ]
    },
    {
     "data": {
      "text/plain": [
       "(0.9226037653742037, 0.8684088141343292)"
      ]
     },
     "execution_count": 26,
     "metadata": {},
     "output_type": "execute_result"
    }
   ],
   "source": [
    "ridge = Ridge(alpha = 1.0).fit(XX_train, y_train) # 선형모델이지만 alpha 로 모델 표현력 조정이 가능\n",
    "train_score = ridge.score(XX_train, y_train)\n",
    "test_score = ridge.score(XX_test, y_test)\n",
    "train_score, test_score\n",
    "  # 아래의 경고는 데이터간 스케일 조정이 되지 않아서..."
   ]
  },
  {
   "cell_type": "markdown",
   "metadata": {},
   "source": [
    "#### 3.1.3.3. 평가 결과의 해석"
   ]
  },
  {
   "cell_type": "markdown",
   "metadata": {},
   "source": [
    "(0.9358964603511476, 0.79876829908634706) <-- test의 정확도가 많이 향상되었다"
   ]
  },
  {
   "cell_type": "markdown",
   "metadata": {},
   "source": [
    "### 3.1.4. 리지회귀 모델 튜닝"
   ]
  },
  {
   "cell_type": "markdown",
   "metadata": {},
   "source": [
    "#### 3.1.4.1. 파라미터를 조절"
   ]
  },
  {
   "cell_type": "code",
   "execution_count": 27,
   "metadata": {},
   "outputs": [
    {
     "name": "stderr",
     "output_type": "stream",
     "text": [
      "C:\\Users\\jhhong\\Anaconda3\\lib\\site-packages\\sklearn\\linear_model\\ridge.py:125: LinAlgWarning: Ill-conditioned matrix (rcond=5.92488e-17): result may not be accurate.\n",
      "  overwrite_a=True).T\n",
      "C:\\Users\\jhhong\\Anaconda3\\lib\\site-packages\\sklearn\\linear_model\\ridge.py:125: LinAlgWarning: Ill-conditioned matrix (rcond=5.92488e-16): result may not be accurate.\n",
      "  overwrite_a=True).T\n",
      "C:\\Users\\jhhong\\Anaconda3\\lib\\site-packages\\sklearn\\linear_model\\ridge.py:125: LinAlgWarning: Ill-conditioned matrix (rcond=4.95913e-15): result may not be accurate.\n",
      "  overwrite_a=True).T\n",
      "C:\\Users\\jhhong\\Anaconda3\\lib\\site-packages\\sklearn\\linear_model\\ridge.py:125: LinAlgWarning: Ill-conditioned matrix (rcond=5.92488e-14): result may not be accurate.\n",
      "  overwrite_a=True).T\n",
      "C:\\Users\\jhhong\\Anaconda3\\lib\\site-packages\\sklearn\\linear_model\\ridge.py:125: LinAlgWarning: Ill-conditioned matrix (rcond=4.72257e-13): result may not be accurate.\n",
      "  overwrite_a=True).T\n",
      "C:\\Users\\jhhong\\Anaconda3\\lib\\site-packages\\sklearn\\linear_model\\ridge.py:125: LinAlgWarning: Ill-conditioned matrix (rcond=4.12559e-12): result may not be accurate.\n",
      "  overwrite_a=True).T\n",
      "C:\\Users\\jhhong\\Anaconda3\\lib\\site-packages\\sklearn\\linear_model\\ridge.py:125: LinAlgWarning: Ill-conditioned matrix (rcond=3.32908e-11): result may not be accurate.\n",
      "  overwrite_a=True).T\n"
     ]
    }
   ],
   "source": [
    "alpha_range = [0.001, 0.01, 0.1, 1., 10., 100., 1000.] # 10 가 커지도록\n",
    "result_train = {}\n",
    "for alpha in alpha_range:\n",
    "    ridge = Ridge(alpha = alpha).fit(XX_train, y_train) # 선형모델이지만 alpha 로 모델 표현력 조정이 가능\n",
    "    train_score = ridge.score(XX_train, y_train)\n",
    "    test_score = ridge.score(XX_test, y_test)\n",
    "    result_train[alpha] = {'train': train_score, 'test' : test_score}"
   ]
  },
  {
   "cell_type": "code",
   "execution_count": 28,
   "metadata": {},
   "outputs": [],
   "source": [
    "table_result_train = pd.DataFrame(result_train).T # 결과 데이터를 분석 편의상 가로, 세로를 전환 "
   ]
  },
  {
   "cell_type": "markdown",
   "metadata": {},
   "source": [
    "#### 3.1.4.2. 그리드 서치 결과의 시각화 "
   ]
  },
  {
   "cell_type": "code",
   "execution_count": 29,
   "metadata": {},
   "outputs": [
    {
     "data": {
      "text/plain": [
       "<matplotlib.axes._subplots.AxesSubplot at 0x267cfe2d8d0>"
      ]
     },
     "execution_count": 29,
     "metadata": {},
     "output_type": "execute_result"
    },
    {
     "data": {
      "image/png": "[encoded data removed]",
      "text/plain": [
       "<Figure size 432x288 with 1 Axes>"
      ]
     },
     "metadata": {
      "needs_background": "light"
     },
     "output_type": "display_data"
    }
   ],
   "source": [
    "style = {'train': 'go--', 'test' : 'ro--'}\n",
    "table_result_train.plot(style = style, logx=True)"
   ]
  },
  {
   "cell_type": "code",
   "execution_count": 30,
   "metadata": {},
   "outputs": [
    {
     "data": {
      "text/html": [
       "<div>\n",
       "<style scoped>\n",
       "    .dataframe tbody tr th:only-of-type {\n",
       "        vertical-align: middle;\n",
       "    }\n",
       "\n",
       "    .dataframe tbody tr th {\n",
       "        vertical-align: top;\n",
       "    }\n",
       "\n",
       "    .dataframe thead th {\n",
       "        text-align: right;\n",
       "    }\n",
       "</style>\n",
       "<table border=\"1\" class=\"dataframe\">\n",
       "  <thead>\n",
       "    <tr style=\"text-align: right;\">\n",
       "      <th></th>\n",
       "      <th>test</th>\n",
       "      <th>train</th>\n",
       "    </tr>\n",
       "  </thead>\n",
       "  <tbody>\n",
       "    <tr>\n",
       "      <th>0.001</th>\n",
       "      <td>0.860528</td>\n",
       "      <td>0.930567</td>\n",
       "    </tr>\n",
       "    <tr>\n",
       "      <th>0.010</th>\n",
       "      <td>0.860510</td>\n",
       "      <td>0.930037</td>\n",
       "    </tr>\n",
       "    <tr>\n",
       "      <th>0.100</th>\n",
       "      <td>0.863636</td>\n",
       "      <td>0.927764</td>\n",
       "    </tr>\n",
       "    <tr>\n",
       "      <th>1.000</th>\n",
       "      <td>0.868409</td>\n",
       "      <td>0.922604</td>\n",
       "    </tr>\n",
       "    <tr>\n",
       "      <th>10.000</th>\n",
       "      <td>0.877655</td>\n",
       "      <td>0.914482</td>\n",
       "    </tr>\n",
       "    <tr>\n",
       "      <th>100.000</th>\n",
       "      <td>0.881697</td>\n",
       "      <td>0.901502</td>\n",
       "    </tr>\n",
       "    <tr>\n",
       "      <th>1000.000</th>\n",
       "      <td>0.883098</td>\n",
       "      <td>0.888155</td>\n",
       "    </tr>\n",
       "  </tbody>\n",
       "</table>\n",
       "</div>"
      ],
      "text/plain": [
       "              test     train\n",
       "0.001     0.860528  0.930567\n",
       "0.010     0.860510  0.930037\n",
       "0.100     0.863636  0.927764\n",
       "1.000     0.868409  0.922604\n",
       "10.000    0.877655  0.914482\n",
       "100.000   0.881697  0.901502\n",
       "1000.000  0.883098  0.888155"
      ]
     },
     "execution_count": 30,
     "metadata": {},
     "output_type": "execute_result"
    }
   ],
   "source": [
    "table_result_train"
   ]
  },
  {
   "cell_type": "markdown",
   "metadata": {},
   "source": [
    "#### 3.1.4.3. 평가결과의 해석"
   ]
  },
  {
   "cell_type": "markdown",
   "metadata": {},
   "source": [
    "훈련점수가 낮아지는 것은 과대적합하지 않으려는 시도에 따른 현상이고, \n",
    "\n",
    "훈련점수를 희생하면서 시험점수를 높이면서 과소적합을 해소하기 위함이다.\n",
    "\n",
    "위 결과에서 과대적합을 피하면서 훈련점수와 시험점서의 차이가 작은 것을 찾는다."
   ]
  },
  {
   "cell_type": "markdown",
   "metadata": {},
   "source": [
    "alpha값에 따른 학습 매개변수 변화 수집 (가중치 벡터 w의 변화를 살펴봄)"
   ]
  },
  {
   "cell_type": "code",
   "execution_count": 31,
   "metadata": {},
   "outputs": [
    {
     "name": "stderr",
     "output_type": "stream",
     "text": [
      "C:\\Users\\jhhong\\Anaconda3\\lib\\site-packages\\sklearn\\linear_model\\ridge.py:125: LinAlgWarning: Ill-conditioned matrix (rcond=5.92488e-17): result may not be accurate.\n",
      "  overwrite_a=True).T\n",
      "C:\\Users\\jhhong\\Anaconda3\\lib\\site-packages\\sklearn\\linear_model\\ridge.py:125: LinAlgWarning: Ill-conditioned matrix (rcond=5.92488e-16): result may not be accurate.\n",
      "  overwrite_a=True).T\n",
      "C:\\Users\\jhhong\\Anaconda3\\lib\\site-packages\\sklearn\\linear_model\\ridge.py:125: LinAlgWarning: Ill-conditioned matrix (rcond=4.95913e-15): result may not be accurate.\n",
      "  overwrite_a=True).T\n",
      "C:\\Users\\jhhong\\Anaconda3\\lib\\site-packages\\sklearn\\linear_model\\ridge.py:125: LinAlgWarning: Ill-conditioned matrix (rcond=5.92488e-14): result may not be accurate.\n",
      "  overwrite_a=True).T\n",
      "C:\\Users\\jhhong\\Anaconda3\\lib\\site-packages\\sklearn\\linear_model\\ridge.py:125: LinAlgWarning: Ill-conditioned matrix (rcond=4.72257e-13): result may not be accurate.\n",
      "  overwrite_a=True).T\n",
      "C:\\Users\\jhhong\\Anaconda3\\lib\\site-packages\\sklearn\\linear_model\\ridge.py:125: LinAlgWarning: Ill-conditioned matrix (rcond=4.12559e-12): result may not be accurate.\n",
      "  overwrite_a=True).T\n",
      "C:\\Users\\jhhong\\Anaconda3\\lib\\site-packages\\sklearn\\linear_model\\ridge.py:125: LinAlgWarning: Ill-conditioned matrix (rcond=3.32908e-11): result may not be accurate.\n",
      "  overwrite_a=True).T\n"
     ]
    }
   ],
   "source": [
    "alpha_range = [0.001, 0.01, 0.1, 1., 10., 100., 1000.] # 10 가 커지도록\n",
    "change_weight = {} # 가중치의 변화\n",
    "result_train = {} # 훈련결과\n",
    "for alpha in alpha_range:\n",
    "    ridge = Ridge(alpha = alpha).fit(XX_train, y_train) # 선형모델이지만 alpha 로 모델 표현력 조정이 가능\n",
    "    w = ridge.coef_\n",
    "    change_weight[alpha] = w\n",
    "    train_score = ridge.score(XX_train, y_train)\n",
    "    test_score = ridge.score(XX_test, y_test)\n",
    "    result_train[alpha] = {'train': train_score, 'test' : test_score}"
   ]
  },
  {
   "cell_type": "code",
   "execution_count": 32,
   "metadata": {},
   "outputs": [],
   "source": [
    "table_result_train = pd.DataFrame(result_train).T"
   ]
  },
  {
   "cell_type": "code",
   "execution_count": 33,
   "metadata": {},
   "outputs": [
    {
     "data": {
      "text/plain": [
       "<matplotlib.axes._subplots.AxesSubplot at 0x267d10515f8>"
      ]
     },
     "execution_count": 33,
     "metadata": {},
     "output_type": "execute_result"
    },
    {
     "data": {
      "image/png": "[encoded data removed]",
      "text/plain": [
       "<Figure size 432x288 with 1 Axes>"
      ]
     },
     "metadata": {
      "needs_background": "light"
     },
     "output_type": "display_data"
    }
   ],
   "source": [
    "style = {'train': 'go--', 'test' : 'ro--'}\n",
    "table_result_train.plot(style = style, logx=True)"
   ]
  },
  {
   "cell_type": "code",
   "execution_count": 34,
   "metadata": {},
   "outputs": [
    {
     "data": {
      "text/plain": [
       "array([ 0.0000000e+00,  1.3410593e-04, -5.0570767e-02,  6.5564027e-04,\n",
       "        3.3795022e-04,  1.2563748e-03,  1.9251838e-02,  4.3869857e-02,\n",
       "       -8.2077701e-03,  9.0081384e-03, -3.6360677e-02, -8.5718725e-03,\n",
       "        9.6279807e-02,  9.4220927e-03, -2.1951912e-04,  5.8560889e-02,\n",
       "        4.9910963e-02,  8.7917499e-02, -4.8074038e-03,  5.7557706e-02,\n",
       "       -7.3966607e-03, -8.2183048e-02, -4.2518806e-02,  6.6469325e-04,\n",
       "       -9.3370359e-03,  2.6613707e-04,  3.9904253e-03,  2.7342857e-04,\n",
       "        1.0928351e-03, -6.1141192e-03,  5.4999888e-03,  6.3534558e-02,\n",
       "        5.0272763e-04, -3.2227729e-03, -7.7412096e-03,  5.1657151e-04,\n",
       "        2.0243274e-03, -1.3860976e-03, -4.2468589e-03,  2.1644527e-02,\n",
       "       -2.4264893e-02,  9.8922178e-03,  3.3260189e-02,  6.7304899e-03,\n",
       "       -1.4003898e-02,  2.0205133e-02,  7.6346099e-04, -6.4522550e-02,\n",
       "       -1.1328562e-04, -2.7139749e-02,  3.3799419e-04, -3.5501418e-03,\n",
       "       -4.4825412e-02, -2.0992834e-02,  2.0743338e-03,  2.1083878e-02,\n",
       "        9.0054255e-03,  5.3316489e-02, -4.8733330e-03,  5.9300460e-02,\n",
       "        1.1087834e-03,  1.2087216e-02,  3.2226067e-02,  4.1296538e-03,\n",
       "       -1.8093776e-02, -4.3937188e-02,  7.3597478e-03, -1.5415909e-03,\n",
       "        4.4407148e-02,  2.3473465e-01,  2.7009569e-02,  5.3632170e-02,\n",
       "       -1.3692540e-01, -1.2264443e-02,  8.9305997e-02,  1.2129061e-02,\n",
       "       -7.7311866e-02,  4.5338247e-04,  1.4178114e-02,  5.9342557e-03,\n",
       "       -2.3196594e-04, -2.9230700e-03, -8.6912262e-04, -1.2692582e-03,\n",
       "        1.5420337e-01, -2.4929356e-03, -2.7701948e-03, -5.2000158e-02,\n",
       "       -4.9216091e-03,  4.2423503e-03, -1.1497586e-01,  4.1403314e-03,\n",
       "        8.0328494e-02, -1.0663847e-03, -2.0731306e-02, -2.6710910e-05,\n",
       "        7.0864889e-03,  2.6760639e-05, -7.3556899e-04, -4.9982458e-02,\n",
       "       -2.7710234e-03,  1.3883072e-02, -3.8936083e-05, -3.5791832e-05,\n",
       "        2.3769995e-02], dtype=float32)"
      ]
     },
     "execution_count": 34,
     "metadata": {},
     "output_type": "execute_result"
    }
   ],
   "source": [
    "w"
   ]
  },
  {
   "cell_type": "code",
   "execution_count": 35,
   "metadata": {},
   "outputs": [],
   "source": [
    "size_w_vector = {} # 가중치벡터 크기\n",
    "for alpha, w in change_weight.items():\n",
    "    size_w_vector[alpha] = np.sum(w**2)"
   ]
  },
  {
   "cell_type": "code",
   "execution_count": 36,
   "metadata": {},
   "outputs": [
    {
     "data": {
      "text/plain": [
       "0.001       8011.349609\n",
       "0.010       3018.380371\n",
       "0.100        724.855347\n",
       "1.000        107.832497\n",
       "10.000        17.713747\n",
       "100.000        1.817679\n",
       "1000.000       0.210266\n",
       "dtype: float64"
      ]
     },
     "execution_count": 36,
     "metadata": {},
     "output_type": "execute_result"
    }
   ],
   "source": [
    "pd.Series(size_w_vector)"
   ]
  },
  {
   "cell_type": "code",
   "execution_count": 37,
   "metadata": {},
   "outputs": [
    {
     "data": {
      "text/plain": [
       "<matplotlib.axes._subplots.AxesSubplot at 0x267d12bbe48>"
      ]
     },
     "execution_count": 37,
     "metadata": {},
     "output_type": "execute_result"
    },
    {
     "data": {
      "image/png": "[encoded data removed]",
      "text/plain": [
       "<Figure size 432x288 with 1 Axes>"
      ]
     },
     "metadata": {
      "needs_background": "light"
     },
     "output_type": "display_data"
    }
   ],
   "source": [
    "pd.Series(size_w_vector).plot(logx = True)"
   ]
  },
  {
   "cell_type": "code",
   "execution_count": 38,
   "metadata": {},
   "outputs": [],
   "source": [
    "w_alpha_1000 = change_weight[1000]\n",
    "w_alpha_0001 = change_weight[0.001]"
   ]
  },
  {
   "cell_type": "code",
   "execution_count": 39,
   "metadata": {},
   "outputs": [
    {
     "data": {
      "text/plain": [
       "[<matplotlib.lines.Line2D at 0x267d1464ef0>]"
      ]
     },
     "execution_count": 39,
     "metadata": {},
     "output_type": "execute_result"
    },
    {
     "data": {
      "image/png": "[encoded data removed]",
      "text/plain": [
       "<Figure size 432x288 with 1 Axes>"
      ]
     },
     "metadata": {
      "needs_background": "light"
     },
     "output_type": "display_data"
    }
   ],
   "source": [
    "plt.plot(w_alpha_0001, 'go')"
   ]
  },
  {
   "cell_type": "code",
   "execution_count": 40,
   "metadata": {},
   "outputs": [
    {
     "data": {
      "text/plain": [
       "[<matplotlib.lines.Line2D at 0x267d14b3780>]"
      ]
     },
     "execution_count": 40,
     "metadata": {},
     "output_type": "execute_result"
    },
    {
     "data": {
      "image/png": "[encoded data removed]",
      "text/plain": [
       "<Figure size 432x288 with 1 Axes>"
      ]
     },
     "metadata": {
      "needs_background": "light"
     },
     "output_type": "display_data"
    }
   ],
   "source": [
    "plt.plot(w_alpha_1000, 'bo')"
   ]
  },
  {
   "cell_type": "code",
   "execution_count": 41,
   "metadata": {
    "scrolled": true
   },
   "outputs": [
    {
     "data": {
      "text/plain": [
       "(-1, 1)"
      ]
     },
     "execution_count": 41,
     "metadata": {},
     "output_type": "execute_result"
    },
    {
     "data": {
      "image/png": "[encoded data removed]",
      "text/plain": [
       "<Figure size 432x288 with 1 Axes>"
      ]
     },
     "metadata": {
      "needs_background": "light"
     },
     "output_type": "display_data"
    }
   ],
   "source": [
    "# 두 플롯을 한꺼번에 그리기\n",
    "plt.plot(w_alpha_1000, 'bo')\n",
    "plt.plot(w_alpha_0001, 'go')\n",
    "plt.ylim(-1, 1)"
   ]
  },
  {
   "cell_type": "markdown",
   "metadata": {},
   "source": [
    "(교재 p81 참고)\n",
    "\n",
    "alpha = 1000 와 alpha = 0.001 일 때, 모델의 계수를 보면 alpha가 작을수록 계수가 커지는 것을 알 수 있다."
   ]
  },
  {
   "cell_type": "markdown",
   "metadata": {},
   "source": [
    "선형분류\n",
    " 1. 퍼셉트론\n",
    " 2. 로지스틱 회귀"
   ]
  },
  {
   "cell_type": "markdown",
   "metadata": {},
   "source": [
    "### 3.1.5. 선형분류 (퍼셉트론)"
   ]
  },
  {
   "cell_type": "markdown",
   "metadata": {},
   "source": [
    "#### 3.1.5.1. 데이터 적재"
   ]
  },
  {
   "cell_type": "code",
   "execution_count": 42,
   "metadata": {},
   "outputs": [],
   "source": [
    "cancer = pd.read_csv('data/cancer.csv')"
   ]
  },
  {
   "cell_type": "code",
   "execution_count": 43,
   "metadata": {},
   "outputs": [],
   "source": [
    "y = cancer.values[:, 0]\n",
    "X = cancer.values[:, 1:].astype('float32')"
   ]
  },
  {
   "cell_type": "markdown",
   "metadata": {},
   "source": [
    "#### 3.1.5.2. 분석 데이터 준비"
   ]
  },
  {
   "cell_type": "code",
   "execution_count": 44,
   "metadata": {},
   "outputs": [],
   "source": [
    "X_train, X_test, y_train, y_test = train_test_split(X, y) "
   ]
  },
  {
   "cell_type": "markdown",
   "metadata": {},
   "source": [
    "#### 3.1.5.3. 퍼셉트론 라이브러리 적재"
   ]
  },
  {
   "cell_type": "markdown",
   "metadata": {},
   "source": [
    "1958년 퍼셉트론 : 최초의 학습 알고리즘"
   ]
  },
  {
   "cell_type": "code",
   "execution_count": 45,
   "metadata": {},
   "outputs": [],
   "source": [
    "from sklearn.linear_model import Perceptron"
   ]
  },
  {
   "cell_type": "markdown",
   "metadata": {},
   "source": [
    "#### 3.1.5.4. 모델 훈련 및 평가"
   ]
  },
  {
   "cell_type": "code",
   "execution_count": 46,
   "metadata": {},
   "outputs": [
    {
     "name": "stderr",
     "output_type": "stream",
     "text": [
      "C:\\Users\\jhhong\\Anaconda3\\lib\\site-packages\\sklearn\\linear_model\\stochastic_gradient.py:183: FutureWarning: max_iter and tol parameters have been added in Perceptron in 0.19. If max_iter is set but tol is left unset, the default value for tol in 0.19 and 0.20 will be None (which is equivalent to -infinity, so it has no effect) but will change in 0.21 to 1e-3. Specify tol to silence this warning.\n",
      "  FutureWarning)\n"
     ]
    }
   ],
   "source": [
    "perceptron = Perceptron(max_iter= 10).fit(X_train, y_train) # 최대학습횟수 10회"
   ]
  },
  {
   "cell_type": "code",
   "execution_count": 47,
   "metadata": {},
   "outputs": [
    {
     "data": {
      "text/plain": [
       "(0.9061032863849765, 0.8811188811188811)"
      ]
     },
     "execution_count": 47,
     "metadata": {},
     "output_type": "execute_result"
    }
   ],
   "source": [
    "perceptron.score(X_train, y_train), perceptron.score(X_test, y_test)"
   ]
  },
  {
   "cell_type": "markdown",
   "metadata": {},
   "source": [
    "### 3.1.6. 선형분류 (로지스틱 회귀분석, 기본 파라미터)"
   ]
  },
  {
   "cell_type": "markdown",
   "metadata": {},
   "source": [
    "#### 3.1.6.1. 로지스틱 회귀분석 라이브러리 적재"
   ]
  },
  {
   "cell_type": "markdown",
   "metadata": {},
   "source": [
    "1961년 로지스틱 회귀 : 퍼셉트론의 개선"
   ]
  },
  {
   "cell_type": "code",
   "execution_count": 48,
   "metadata": {},
   "outputs": [],
   "source": [
    "from sklearn.linear_model import Perceptron, LogisticRegression"
   ]
  },
  {
   "cell_type": "markdown",
   "metadata": {},
   "source": [
    "#### 3.1.6.2. 모델 훈련 및 평가"
   ]
  },
  {
   "cell_type": "code",
   "execution_count": 49,
   "metadata": {},
   "outputs": [
    {
     "name": "stderr",
     "output_type": "stream",
     "text": [
      "C:\\Users\\jhhong\\Anaconda3\\lib\\site-packages\\sklearn\\linear_model\\logistic.py:433: FutureWarning: Default solver will be changed to 'lbfgs' in 0.22. Specify a solver to silence this warning.\n",
      "  FutureWarning)\n"
     ]
    }
   ],
   "source": [
    "logreg = LogisticRegression(C=1.0).fit(X_train, y_train) # 표현력 조절"
   ]
  },
  {
   "cell_type": "code",
   "execution_count": 50,
   "metadata": {},
   "outputs": [
    {
     "data": {
      "text/plain": [
       "(0.960093896713615, 0.951048951048951)"
      ]
     },
     "execution_count": 50,
     "metadata": {},
     "output_type": "execute_result"
    }
   ],
   "source": [
    "logreg.score(X_train, y_train), logreg.score(X_test, y_test)"
   ]
  },
  {
   "cell_type": "markdown",
   "metadata": {},
   "source": [
    "정확도 (0.9647887323943662, 0.916083916083916)로 나타난다 <-- 이 수치는 코드를 실행할 때마다 달라질 것임\n",
    "\n",
    "그렇더라도, 퍼셉트론보다 로지스틱 회귀분석의 분류가 더 정확도가 높다는 것을 확인할 수 있다."
   ]
  },
  {
   "cell_type": "markdown",
   "metadata": {},
   "source": [
    "#### 3.1.6.3. 로지스틱 회귀분석의 장점"
   ]
  },
  {
   "cell_type": "markdown",
   "metadata": {},
   "source": [
    "(p161) 2.4 분류예측의 불확실성을 추정할 수 있다는 것이 장점"
   ]
  },
  {
   "cell_type": "code",
   "execution_count": 51,
   "metadata": {},
   "outputs": [],
   "source": [
    "prob  = logreg.predict_proba(X_test) # 예측확률"
   ]
  },
  {
   "cell_type": "code",
   "execution_count": 52,
   "metadata": {},
   "outputs": [
    {
     "data": {
      "text/html": [
       "<div>\n",
       "<style scoped>\n",
       "    .dataframe tbody tr th:only-of-type {\n",
       "        vertical-align: middle;\n",
       "    }\n",
       "\n",
       "    .dataframe tbody tr th {\n",
       "        vertical-align: top;\n",
       "    }\n",
       "\n",
       "    .dataframe thead th {\n",
       "        text-align: right;\n",
       "    }\n",
       "</style>\n",
       "<table border=\"1\" class=\"dataframe\">\n",
       "  <thead>\n",
       "    <tr style=\"text-align: right;\">\n",
       "      <th></th>\n",
       "      <th>악성</th>\n",
       "      <th>양성</th>\n",
       "    </tr>\n",
       "  </thead>\n",
       "  <tbody>\n",
       "    <tr>\n",
       "      <th>0</th>\n",
       "      <td>9.968063e-01</td>\n",
       "      <td>0.003194</td>\n",
       "    </tr>\n",
       "    <tr>\n",
       "      <th>1</th>\n",
       "      <td>9.696396e-01</td>\n",
       "      <td>0.030360</td>\n",
       "    </tr>\n",
       "    <tr>\n",
       "      <th>2</th>\n",
       "      <td>6.372740e-08</td>\n",
       "      <td>1.000000</td>\n",
       "    </tr>\n",
       "    <tr>\n",
       "      <th>3</th>\n",
       "      <td>9.704512e-01</td>\n",
       "      <td>0.029549</td>\n",
       "    </tr>\n",
       "    <tr>\n",
       "      <th>4</th>\n",
       "      <td>9.421687e-01</td>\n",
       "      <td>0.057831</td>\n",
       "    </tr>\n",
       "    <tr>\n",
       "      <th>5</th>\n",
       "      <td>9.998590e-01</td>\n",
       "      <td>0.000141</td>\n",
       "    </tr>\n",
       "    <tr>\n",
       "      <th>6</th>\n",
       "      <td>3.803261e-01</td>\n",
       "      <td>0.619674</td>\n",
       "    </tr>\n",
       "    <tr>\n",
       "      <th>7</th>\n",
       "      <td>3.279152e-03</td>\n",
       "      <td>0.996721</td>\n",
       "    </tr>\n",
       "    <tr>\n",
       "      <th>8</th>\n",
       "      <td>9.498656e-01</td>\n",
       "      <td>0.050134</td>\n",
       "    </tr>\n",
       "    <tr>\n",
       "      <th>9</th>\n",
       "      <td>9.822550e-01</td>\n",
       "      <td>0.017745</td>\n",
       "    </tr>\n",
       "    <tr>\n",
       "      <th>10</th>\n",
       "      <td>9.992673e-01</td>\n",
       "      <td>0.000733</td>\n",
       "    </tr>\n",
       "    <tr>\n",
       "      <th>11</th>\n",
       "      <td>3.693224e-09</td>\n",
       "      <td>1.000000</td>\n",
       "    </tr>\n",
       "    <tr>\n",
       "      <th>12</th>\n",
       "      <td>2.847340e-08</td>\n",
       "      <td>1.000000</td>\n",
       "    </tr>\n",
       "    <tr>\n",
       "      <th>13</th>\n",
       "      <td>9.684526e-01</td>\n",
       "      <td>0.031547</td>\n",
       "    </tr>\n",
       "    <tr>\n",
       "      <th>14</th>\n",
       "      <td>5.091651e-08</td>\n",
       "      <td>1.000000</td>\n",
       "    </tr>\n",
       "    <tr>\n",
       "      <th>15</th>\n",
       "      <td>9.967534e-01</td>\n",
       "      <td>0.003247</td>\n",
       "    </tr>\n",
       "    <tr>\n",
       "      <th>16</th>\n",
       "      <td>9.763664e-01</td>\n",
       "      <td>0.023634</td>\n",
       "    </tr>\n",
       "    <tr>\n",
       "      <th>17</th>\n",
       "      <td>4.521947e-07</td>\n",
       "      <td>1.000000</td>\n",
       "    </tr>\n",
       "    <tr>\n",
       "      <th>18</th>\n",
       "      <td>9.348102e-01</td>\n",
       "      <td>0.065190</td>\n",
       "    </tr>\n",
       "    <tr>\n",
       "      <th>19</th>\n",
       "      <td>9.959844e-01</td>\n",
       "      <td>0.004016</td>\n",
       "    </tr>\n",
       "    <tr>\n",
       "      <th>20</th>\n",
       "      <td>3.207273e-04</td>\n",
       "      <td>0.999679</td>\n",
       "    </tr>\n",
       "    <tr>\n",
       "      <th>21</th>\n",
       "      <td>9.994384e-01</td>\n",
       "      <td>0.000562</td>\n",
       "    </tr>\n",
       "    <tr>\n",
       "      <th>22</th>\n",
       "      <td>9.797531e-01</td>\n",
       "      <td>0.020247</td>\n",
       "    </tr>\n",
       "    <tr>\n",
       "      <th>23</th>\n",
       "      <td>1.140648e-05</td>\n",
       "      <td>0.999989</td>\n",
       "    </tr>\n",
       "    <tr>\n",
       "      <th>24</th>\n",
       "      <td>5.832874e-04</td>\n",
       "      <td>0.999417</td>\n",
       "    </tr>\n",
       "    <tr>\n",
       "      <th>25</th>\n",
       "      <td>8.261917e-01</td>\n",
       "      <td>0.173808</td>\n",
       "    </tr>\n",
       "    <tr>\n",
       "      <th>26</th>\n",
       "      <td>9.844895e-01</td>\n",
       "      <td>0.015511</td>\n",
       "    </tr>\n",
       "    <tr>\n",
       "      <th>27</th>\n",
       "      <td>8.873282e-01</td>\n",
       "      <td>0.112672</td>\n",
       "    </tr>\n",
       "    <tr>\n",
       "      <th>28</th>\n",
       "      <td>9.945815e-01</td>\n",
       "      <td>0.005418</td>\n",
       "    </tr>\n",
       "    <tr>\n",
       "      <th>29</th>\n",
       "      <td>5.055734e-01</td>\n",
       "      <td>0.494427</td>\n",
       "    </tr>\n",
       "    <tr>\n",
       "      <th>...</th>\n",
       "      <td>...</td>\n",
       "      <td>...</td>\n",
       "    </tr>\n",
       "    <tr>\n",
       "      <th>113</th>\n",
       "      <td>9.992689e-01</td>\n",
       "      <td>0.000731</td>\n",
       "    </tr>\n",
       "    <tr>\n",
       "      <th>114</th>\n",
       "      <td>5.466037e-02</td>\n",
       "      <td>0.945340</td>\n",
       "    </tr>\n",
       "    <tr>\n",
       "      <th>115</th>\n",
       "      <td>9.973954e-01</td>\n",
       "      <td>0.002605</td>\n",
       "    </tr>\n",
       "    <tr>\n",
       "      <th>116</th>\n",
       "      <td>9.520445e-01</td>\n",
       "      <td>0.047956</td>\n",
       "    </tr>\n",
       "    <tr>\n",
       "      <th>117</th>\n",
       "      <td>9.914192e-01</td>\n",
       "      <td>0.008581</td>\n",
       "    </tr>\n",
       "    <tr>\n",
       "      <th>118</th>\n",
       "      <td>1.966900e-01</td>\n",
       "      <td>0.803310</td>\n",
       "    </tr>\n",
       "    <tr>\n",
       "      <th>119</th>\n",
       "      <td>9.936395e-01</td>\n",
       "      <td>0.006361</td>\n",
       "    </tr>\n",
       "    <tr>\n",
       "      <th>120</th>\n",
       "      <td>6.679261e-06</td>\n",
       "      <td>0.999993</td>\n",
       "    </tr>\n",
       "    <tr>\n",
       "      <th>121</th>\n",
       "      <td>4.461841e-01</td>\n",
       "      <td>0.553816</td>\n",
       "    </tr>\n",
       "    <tr>\n",
       "      <th>122</th>\n",
       "      <td>3.165690e-12</td>\n",
       "      <td>1.000000</td>\n",
       "    </tr>\n",
       "    <tr>\n",
       "      <th>123</th>\n",
       "      <td>9.978030e-01</td>\n",
       "      <td>0.002197</td>\n",
       "    </tr>\n",
       "    <tr>\n",
       "      <th>124</th>\n",
       "      <td>3.041268e-05</td>\n",
       "      <td>0.999970</td>\n",
       "    </tr>\n",
       "    <tr>\n",
       "      <th>125</th>\n",
       "      <td>9.971730e-01</td>\n",
       "      <td>0.002827</td>\n",
       "    </tr>\n",
       "    <tr>\n",
       "      <th>126</th>\n",
       "      <td>9.055383e-01</td>\n",
       "      <td>0.094462</td>\n",
       "    </tr>\n",
       "    <tr>\n",
       "      <th>127</th>\n",
       "      <td>2.708253e-04</td>\n",
       "      <td>0.999729</td>\n",
       "    </tr>\n",
       "    <tr>\n",
       "      <th>128</th>\n",
       "      <td>5.076140e-08</td>\n",
       "      <td>1.000000</td>\n",
       "    </tr>\n",
       "    <tr>\n",
       "      <th>129</th>\n",
       "      <td>8.332187e-01</td>\n",
       "      <td>0.166781</td>\n",
       "    </tr>\n",
       "    <tr>\n",
       "      <th>130</th>\n",
       "      <td>2.025018e-01</td>\n",
       "      <td>0.797498</td>\n",
       "    </tr>\n",
       "    <tr>\n",
       "      <th>131</th>\n",
       "      <td>9.995298e-01</td>\n",
       "      <td>0.000470</td>\n",
       "    </tr>\n",
       "    <tr>\n",
       "      <th>132</th>\n",
       "      <td>1.625439e-02</td>\n",
       "      <td>0.983746</td>\n",
       "    </tr>\n",
       "    <tr>\n",
       "      <th>133</th>\n",
       "      <td>8.345440e-08</td>\n",
       "      <td>1.000000</td>\n",
       "    </tr>\n",
       "    <tr>\n",
       "      <th>134</th>\n",
       "      <td>8.089675e-03</td>\n",
       "      <td>0.991910</td>\n",
       "    </tr>\n",
       "    <tr>\n",
       "      <th>135</th>\n",
       "      <td>9.471746e-01</td>\n",
       "      <td>0.052825</td>\n",
       "    </tr>\n",
       "    <tr>\n",
       "      <th>136</th>\n",
       "      <td>1.873740e-02</td>\n",
       "      <td>0.981263</td>\n",
       "    </tr>\n",
       "    <tr>\n",
       "      <th>137</th>\n",
       "      <td>9.890881e-01</td>\n",
       "      <td>0.010912</td>\n",
       "    </tr>\n",
       "    <tr>\n",
       "      <th>138</th>\n",
       "      <td>9.959878e-01</td>\n",
       "      <td>0.004012</td>\n",
       "    </tr>\n",
       "    <tr>\n",
       "      <th>139</th>\n",
       "      <td>9.567730e-01</td>\n",
       "      <td>0.043227</td>\n",
       "    </tr>\n",
       "    <tr>\n",
       "      <th>140</th>\n",
       "      <td>9.957030e-01</td>\n",
       "      <td>0.004297</td>\n",
       "    </tr>\n",
       "    <tr>\n",
       "      <th>141</th>\n",
       "      <td>9.972596e-01</td>\n",
       "      <td>0.002740</td>\n",
       "    </tr>\n",
       "    <tr>\n",
       "      <th>142</th>\n",
       "      <td>0.000000e+00</td>\n",
       "      <td>1.000000</td>\n",
       "    </tr>\n",
       "  </tbody>\n",
       "</table>\n",
       "<p>143 rows × 2 columns</p>\n",
       "</div>"
      ],
      "text/plain": [
       "               악성        양성\n",
       "0    9.968063e-01  0.003194\n",
       "1    9.696396e-01  0.030360\n",
       "2    6.372740e-08  1.000000\n",
       "3    9.704512e-01  0.029549\n",
       "4    9.421687e-01  0.057831\n",
       "5    9.998590e-01  0.000141\n",
       "6    3.803261e-01  0.619674\n",
       "7    3.279152e-03  0.996721\n",
       "8    9.498656e-01  0.050134\n",
       "9    9.822550e-01  0.017745\n",
       "10   9.992673e-01  0.000733\n",
       "11   3.693224e-09  1.000000\n",
       "12   2.847340e-08  1.000000\n",
       "13   9.684526e-01  0.031547\n",
       "14   5.091651e-08  1.000000\n",
       "15   9.967534e-01  0.003247\n",
       "16   9.763664e-01  0.023634\n",
       "17   4.521947e-07  1.000000\n",
       "18   9.348102e-01  0.065190\n",
       "19   9.959844e-01  0.004016\n",
       "20   3.207273e-04  0.999679\n",
       "21   9.994384e-01  0.000562\n",
       "22   9.797531e-01  0.020247\n",
       "23   1.140648e-05  0.999989\n",
       "24   5.832874e-04  0.999417\n",
       "25   8.261917e-01  0.173808\n",
       "26   9.844895e-01  0.015511\n",
       "27   8.873282e-01  0.112672\n",
       "28   9.945815e-01  0.005418\n",
       "29   5.055734e-01  0.494427\n",
       "..            ...       ...\n",
       "113  9.992689e-01  0.000731\n",
       "114  5.466037e-02  0.945340\n",
       "115  9.973954e-01  0.002605\n",
       "116  9.520445e-01  0.047956\n",
       "117  9.914192e-01  0.008581\n",
       "118  1.966900e-01  0.803310\n",
       "119  9.936395e-01  0.006361\n",
       "120  6.679261e-06  0.999993\n",
       "121  4.461841e-01  0.553816\n",
       "122  3.165690e-12  1.000000\n",
       "123  9.978030e-01  0.002197\n",
       "124  3.041268e-05  0.999970\n",
       "125  9.971730e-01  0.002827\n",
       "126  9.055383e-01  0.094462\n",
       "127  2.708253e-04  0.999729\n",
       "128  5.076140e-08  1.000000\n",
       "129  8.332187e-01  0.166781\n",
       "130  2.025018e-01  0.797498\n",
       "131  9.995298e-01  0.000470\n",
       "132  1.625439e-02  0.983746\n",
       "133  8.345440e-08  1.000000\n",
       "134  8.089675e-03  0.991910\n",
       "135  9.471746e-01  0.052825\n",
       "136  1.873740e-02  0.981263\n",
       "137  9.890881e-01  0.010912\n",
       "138  9.959878e-01  0.004012\n",
       "139  9.567730e-01  0.043227\n",
       "140  9.957030e-01  0.004297\n",
       "141  9.972596e-01  0.002740\n",
       "142  0.000000e+00  1.000000\n",
       "\n",
       "[143 rows x 2 columns]"
      ]
     },
     "execution_count": 52,
     "metadata": {},
     "output_type": "execute_result"
    }
   ],
   "source": [
    "pd.DataFrame(prob, columns=['악성','양성']) "
   ]
  },
  {
   "cell_type": "markdown",
   "metadata": {},
   "source": [
    "위 표를 읽는 법 (맨 위의 데이터 읽는 법 --> 0.95로 악성으로 예측, 0.5로 양성일 확률)  <- 코드 실행할 때마다 값이 달라지므로 유의\n",
    "\n",
    "4번째 결과는 악성 0,양성은 1.0의 확률이 된다는 것 (부동소숫점 연산의 특성으로 0으로 본다)   <- 코드 실행할 때마다 값이 달라지므로 유의\n",
    "\n",
    "퍼셉트론에서는 1과 0 이분법적으로 보이지만, 시그모이드에서는 연속적인 값으로 확인할 수 있다는 것이 특징"
   ]
  },
  {
   "cell_type": "code",
   "execution_count": 53,
   "metadata": {},
   "outputs": [
    {
     "data": {
      "text/html": [
       "<div>\n",
       "<style scoped>\n",
       "    .dataframe tbody tr th:only-of-type {\n",
       "        vertical-align: middle;\n",
       "    }\n",
       "\n",
       "    .dataframe tbody tr th {\n",
       "        vertical-align: top;\n",
       "    }\n",
       "\n",
       "    .dataframe thead th {\n",
       "        text-align: right;\n",
       "    }\n",
       "</style>\n",
       "<table border=\"1\" class=\"dataframe\">\n",
       "  <thead>\n",
       "    <tr style=\"text-align: right;\">\n",
       "      <th></th>\n",
       "      <th>악성</th>\n",
       "      <th>양성</th>\n",
       "    </tr>\n",
       "  </thead>\n",
       "  <tbody>\n",
       "    <tr>\n",
       "      <th>37</th>\n",
       "      <td>0.994942</td>\n",
       "      <td>0.005058</td>\n",
       "    </tr>\n",
       "    <tr>\n",
       "      <th>33</th>\n",
       "      <td>0.692671</td>\n",
       "      <td>0.307329</td>\n",
       "    </tr>\n",
       "    <tr>\n",
       "      <th>50</th>\n",
       "      <td>0.985415</td>\n",
       "      <td>0.014585</td>\n",
       "    </tr>\n",
       "    <tr>\n",
       "      <th>56</th>\n",
       "      <td>0.991537</td>\n",
       "      <td>0.008463</td>\n",
       "    </tr>\n",
       "    <tr>\n",
       "      <th>10</th>\n",
       "      <td>0.999267</td>\n",
       "      <td>0.000733</td>\n",
       "    </tr>\n",
       "    <tr>\n",
       "      <th>111</th>\n",
       "      <td>0.999602</td>\n",
       "      <td>0.000398</td>\n",
       "    </tr>\n",
       "    <tr>\n",
       "      <th>16</th>\n",
       "      <td>0.976366</td>\n",
       "      <td>0.023634</td>\n",
       "    </tr>\n",
       "    <tr>\n",
       "      <th>123</th>\n",
       "      <td>0.997803</td>\n",
       "      <td>0.002197</td>\n",
       "    </tr>\n",
       "    <tr>\n",
       "      <th>125</th>\n",
       "      <td>0.997173</td>\n",
       "      <td>0.002827</td>\n",
       "    </tr>\n",
       "    <tr>\n",
       "      <th>64</th>\n",
       "      <td>0.861972</td>\n",
       "      <td>0.138028</td>\n",
       "    </tr>\n",
       "  </tbody>\n",
       "</table>\n",
       "</div>"
      ],
      "text/plain": [
       "           악성        양성\n",
       "37   0.994942  0.005058\n",
       "33   0.692671  0.307329\n",
       "50   0.985415  0.014585\n",
       "56   0.991537  0.008463\n",
       "10   0.999267  0.000733\n",
       "111  0.999602  0.000398\n",
       "16   0.976366  0.023634\n",
       "123  0.997803  0.002197\n",
       "125  0.997173  0.002827\n",
       "64   0.861972  0.138028"
      ]
     },
     "execution_count": 53,
     "metadata": {},
     "output_type": "execute_result"
    }
   ],
   "source": [
    "pd.DataFrame(prob, columns=['악성','양성']).sample(10)"
   ]
  },
  {
   "cell_type": "markdown",
   "metadata": {},
   "source": [
    "### 3.1.7. 로지스틱 회귀 모델 튜닝"
   ]
  },
  {
   "cell_type": "markdown",
   "metadata": {},
   "source": [
    "#### 3.1.7.1. 파라미터를 조절"
   ]
  },
  {
   "cell_type": "code",
   "execution_count": 54,
   "metadata": {},
   "outputs": [
    {
     "name": "stderr",
     "output_type": "stream",
     "text": [
      "C:\\Users\\jhhong\\Anaconda3\\lib\\site-packages\\sklearn\\linear_model\\logistic.py:433: FutureWarning: Default solver will be changed to 'lbfgs' in 0.22. Specify a solver to silence this warning.\n",
      "  FutureWarning)\n",
      "C:\\Users\\jhhong\\Anaconda3\\lib\\site-packages\\sklearn\\linear_model\\logistic.py:433: FutureWarning: Default solver will be changed to 'lbfgs' in 0.22. Specify a solver to silence this warning.\n",
      "  FutureWarning)\n",
      "C:\\Users\\jhhong\\Anaconda3\\lib\\site-packages\\sklearn\\linear_model\\logistic.py:433: FutureWarning: Default solver will be changed to 'lbfgs' in 0.22. Specify a solver to silence this warning.\n",
      "  FutureWarning)\n",
      "C:\\Users\\jhhong\\Anaconda3\\lib\\site-packages\\sklearn\\linear_model\\logistic.py:433: FutureWarning: Default solver will be changed to 'lbfgs' in 0.22. Specify a solver to silence this warning.\n",
      "  FutureWarning)\n",
      "C:\\Users\\jhhong\\Anaconda3\\lib\\site-packages\\sklearn\\linear_model\\logistic.py:433: FutureWarning: Default solver will be changed to 'lbfgs' in 0.22. Specify a solver to silence this warning.\n",
      "  FutureWarning)\n",
      "C:\\Users\\jhhong\\Anaconda3\\lib\\site-packages\\sklearn\\linear_model\\logistic.py:433: FutureWarning: Default solver will be changed to 'lbfgs' in 0.22. Specify a solver to silence this warning.\n",
      "  FutureWarning)\n",
      "C:\\Users\\jhhong\\Anaconda3\\lib\\site-packages\\sklearn\\linear_model\\logistic.py:433: FutureWarning: Default solver will be changed to 'lbfgs' in 0.22. Specify a solver to silence this warning.\n",
      "  FutureWarning)\n"
     ]
    }
   ],
   "source": [
    "C_range = [0.001, 0.01, 0.1, 1., 10. , 100., 1000.]\n",
    "result_train = {}\n",
    "for C in C_range:\n",
    "    logreg = LogisticRegression(C=C).fit(X_train,y_train)\n",
    "    train_score = logreg.score(X_train, y_train)\n",
    "    test_score = logreg.score(X_test, y_test)\n",
    "    result_train[C] = {'train' : train_score,'test' : test_score}"
   ]
  },
  {
   "cell_type": "code",
   "execution_count": 55,
   "metadata": {},
   "outputs": [],
   "source": [
    "table_result_train = pd.DataFrame(result_train).T"
   ]
  },
  {
   "cell_type": "markdown",
   "metadata": {},
   "source": [
    "#### 3.1.7.2. 그리드 서치 결과의 시각화"
   ]
  },
  {
   "cell_type": "code",
   "execution_count": 56,
   "metadata": {},
   "outputs": [
    {
     "data": {
      "text/plain": [
       "<matplotlib.axes._subplots.AxesSubplot at 0x267d24e19b0>"
      ]
     },
     "execution_count": 56,
     "metadata": {},
     "output_type": "execute_result"
    },
    {
     "data": {
      "image/png": "[encoded data removed]",
      "text/plain": [
       "<Figure size 432x288 with 1 Axes>"
      ]
     },
     "metadata": {
      "needs_background": "light"
     },
     "output_type": "display_data"
    }
   ],
   "source": [
    "table_result_train.plot(style = style, logx=True)"
   ]
  },
  {
   "cell_type": "markdown",
   "metadata": {},
   "source": [
    "#### 3.1.7.3. 평가결과의 해석"
   ]
  },
  {
   "cell_type": "markdown",
   "metadata": {},
   "source": [
    "훈련점수가 높으면, 표현력이 크다는 것\n",
    "표현력을 제한하면 성능이 작아진다\n",
    "\n",
    "시험점수를 볼 때는, 훈련점수와의 간격을 본다 (간격이 작을 수록 좋은 것)"
   ]
  },
  {
   "cell_type": "markdown",
   "metadata": {},
   "source": [
    "(참고 교재 p97) 장단점과 매개변수 항목 참고"
   ]
  },
  {
   "cell_type": "markdown",
   "metadata": {},
   "source": [
    "## 3.2. 결정트리"
   ]
  },
  {
   "cell_type": "markdown",
   "metadata": {},
   "source": [
    "### 선형 모델외에 많이 쓰이는 머신러닝 알고리즘으로 비선형적 데이터에도 좋은 성능을 낸다"
   ]
  },
  {
   "cell_type": "markdown",
   "metadata": {},
   "source": [
    "### 3.2.1. 결정트리 (기본 파라미터 활용)"
   ]
  },
  {
   "cell_type": "markdown",
   "metadata": {},
   "source": [
    "#### 3.2.1.1. 결정트리 라이브러리의 적재"
   ]
  },
  {
   "cell_type": "code",
   "execution_count": 57,
   "metadata": {},
   "outputs": [],
   "source": [
    "from sklearn.tree import DecisionTreeClassifier"
   ]
  },
  {
   "cell_type": "markdown",
   "metadata": {},
   "source": [
    "####  3.2.1.2. 분석 데이터 준비"
   ]
  },
  {
   "cell_type": "code",
   "execution_count": 58,
   "metadata": {},
   "outputs": [],
   "source": [
    "y = cancer.values[:, 0]"
   ]
  },
  {
   "cell_type": "code",
   "execution_count": 59,
   "metadata": {},
   "outputs": [],
   "source": [
    "X = cancer.values[:, 1:].astype('float32')"
   ]
  },
  {
   "cell_type": "code",
   "execution_count": 60,
   "metadata": {},
   "outputs": [],
   "source": [
    "X_train, X_test, y_train, y_test = train_test_split(X, y)"
   ]
  },
  {
   "cell_type": "markdown",
   "metadata": {},
   "source": [
    "#### 3.2.1.3. 모델 훈련 및 평가"
   ]
  },
  {
   "cell_type": "code",
   "execution_count": 61,
   "metadata": {},
   "outputs": [
    {
     "data": {
      "text/plain": [
       "(1.0, 0.9090909090909091)"
      ]
     },
     "execution_count": 61,
     "metadata": {},
     "output_type": "execute_result"
    }
   ],
   "source": [
    "tree = DecisionTreeClassifier().fit(X_train, y_train)\n",
    "tree.score(X_train, y_train), tree.score(X_test, y_test)"
   ]
  },
  {
   "cell_type": "markdown",
   "metadata": {},
   "source": [
    "결정트리에서는 훈련데이터는 분류할 때까지 분류하는 것이므로, 1.0이 늘 나온다\n",
    "(1.0, 0.92307692307692313) <-- 우측의 숫자는 평가를 할 때마다 다르게 나올 것임 (but 전체 맥락을 보는데는 문제없음)\n",
    "\n",
    "즉 과소적합에 대해서는 걱정할 필요가 없다.\n",
    "하지만... 과대적합을 고려해야한다"
   ]
  },
  {
   "cell_type": "code",
   "execution_count": 62,
   "metadata": {
    "scrolled": true
   },
   "outputs": [
    {
     "data": {
      "text/plain": [
       "6"
      ]
     },
     "execution_count": 62,
     "metadata": {},
     "output_type": "execute_result"
    }
   ],
   "source": [
    "tree.tree_.max_depth # 만들어진 결정트리의 최대 깊이  # tree_ 의 의미 -> '훈련'"
   ]
  },
  {
   "cell_type": "markdown",
   "metadata": {},
   "source": [
    "### 3.2.2. 결정트리 모델 튜닝"
   ]
  },
  {
   "cell_type": "markdown",
   "metadata": {},
   "source": [
    "최대깊이를 제한하여 과적합을 개선한다"
   ]
  },
  {
   "cell_type": "markdown",
   "metadata": {},
   "source": [
    "#### 3.2.2.1. 트리의 깊이를 조정하여 모델 비교"
   ]
  },
  {
   "cell_type": "markdown",
   "metadata": {},
   "source": [
    "트리의 깊이를 조정해서 모델의 성능을 비교해본다"
   ]
  },
  {
   "cell_type": "code",
   "execution_count": 63,
   "metadata": {},
   "outputs": [
    {
     "data": {
      "text/plain": [
       "(0.9953051643192489, 0.8881118881118881)"
      ]
     },
     "execution_count": 63,
     "metadata": {},
     "output_type": "execute_result"
    }
   ],
   "source": [
    "tree_d4 = DecisionTreeClassifier(max_depth = 4).fit(X_train, y_train)\n",
    "tree_d4.score(X_train, y_train), tree_d4.score(X_test, y_test)"
   ]
  },
  {
   "cell_type": "code",
   "execution_count": 64,
   "metadata": {},
   "outputs": [
    {
     "data": {
      "text/plain": [
       "(0.9976525821596244, 0.9090909090909091)"
      ]
     },
     "execution_count": 64,
     "metadata": {},
     "output_type": "execute_result"
    }
   ],
   "source": [
    "tree_d5 = DecisionTreeClassifier(max_depth = 5).fit(X_train, y_train)\n",
    "tree_d5.score(X_train, y_train), tree_d5.score(X_test, y_test)"
   ]
  },
  {
   "cell_type": "code",
   "execution_count": 65,
   "metadata": {},
   "outputs": [
    {
     "data": {
      "text/plain": [
       "(0.9741784037558685, 0.8811188811188811)"
      ]
     },
     "execution_count": 65,
     "metadata": {},
     "output_type": "execute_result"
    }
   ],
   "source": [
    "tree_d3 = DecisionTreeClassifier(max_depth = 3).fit(X_train, y_train)\n",
    "tree_d3.score(X_train, y_train), tree_d3.score(X_test, y_test)"
   ]
  },
  {
   "cell_type": "code",
   "execution_count": 66,
   "metadata": {},
   "outputs": [
    {
     "data": {
      "text/plain": [
       "4"
      ]
     },
     "execution_count": 66,
     "metadata": {},
     "output_type": "execute_result"
    }
   ],
   "source": [
    "tree_d4.tree_.max_depth"
   ]
  },
  {
   "cell_type": "code",
   "execution_count": 67,
   "metadata": {
    "scrolled": true
   },
   "outputs": [
    {
     "data": {
      "text/plain": [
       "(0.9413145539906104, 0.8671328671328671)"
      ]
     },
     "execution_count": 67,
     "metadata": {},
     "output_type": "execute_result"
    }
   ],
   "source": [
    "tree_d2 = DecisionTreeClassifier(max_depth = 2).fit(X_train, y_train)\n",
    "tree_d2.score(X_train, y_train), tree_d2.score(X_test, y_test)"
   ]
  },
  {
   "cell_type": "markdown",
   "metadata": {},
   "source": [
    "위 트리의 깊이에 따른 모델의 성능을 비교해본다. \n",
    "\n",
    "과대적합을 피하면서 train score와 test score의 차이가 적은 모델이 무엇인지 확인한다"
   ]
  },
  {
   "cell_type": "markdown",
   "metadata": {},
   "source": [
    "### 3.2.3. 결정트리의 장점"
   ]
  },
  {
   "cell_type": "markdown",
   "metadata": {},
   "source": [
    "결정트리를 자주 사용하는 또 다른 이유는 모델의 시각화에 용이하기 때문이다."
   ]
  },
  {
   "cell_type": "markdown",
   "metadata": {},
   "source": [
    "#### 3.2.3.1. 그래프 라이브러리의 적재"
   ]
  },
  {
   "cell_type": "code",
   "execution_count": 68,
   "metadata": {},
   "outputs": [],
   "source": [
    "from sklearn.tree import export_graphviz"
   ]
  },
  {
   "cell_type": "code",
   "execution_count": 69,
   "metadata": {},
   "outputs": [],
   "source": [
    "export_graphviz(tree_d3, out_file ='tree.dot', class_names=['M', 'B'])"
   ]
  },
  {
   "cell_type": "markdown",
   "metadata": {},
   "source": [
    "내보낸 파일(*.dot)을 그림파일로 만들어주는 또 다른 라이브러리를 써야한다."
   ]
  },
  {
   "cell_type": "markdown",
   "metadata": {},
   "source": [
    "1. 아나콘다 프롬프트를 띄운다\n",
    "2. conda install graphviz\n",
    "3. conda install python-graphviz\n",
    "4. 다음과 같은 에러가 발생하면 \n",
    "     RuntimeError: failed to execute ['dot', '-Tpdf', '-O', 'test'], make sure the Graphviz executables are on your systems' path\n",
    "5. windows환경변수에 아래와 같은 항목을 추가한다.\n",
    "    * 사용자 변수의 path에 새로 추가를 클릭해서, 아래 내용을 추가\n",
    "        C:\\Users\\ 사용자계정이름 \\Anaconda3\\Library\\bin\\graphviz\n",
    "    * 시스템 변수의 path에 새로 추가를 클릭해서, 아래 내용을 추가\n",
    "        C:\\Users\\ 사용자계정이름 \\Anaconda3\\Library\\bin\\graphviz\\dot.exe\n",
    "        \n",
    "(관련한 stackoverflow) https://stackoverflow.com/questions/35064304/runtimeerror-make-sure-the-graphviz-executables-are-on-your-systems-path-aft/42875446"
   ]
  },
  {
   "cell_type": "code",
   "execution_count": 70,
   "metadata": {},
   "outputs": [],
   "source": [
    "import graphviz # 이 라이브러리는 아나콘다에 기본 탑재 되지 않은 것이므로 설치가 필요하다"
   ]
  },
  {
   "cell_type": "code",
   "execution_count": 71,
   "metadata": {},
   "outputs": [],
   "source": [
    "with open('tree.dot') as i_file:\n",
    "    t_graph = i_file.read()"
   ]
  },
  {
   "cell_type": "code",
   "execution_count": 72,
   "metadata": {},
   "outputs": [],
   "source": [
    "dot = graphviz.Source(t_graph)"
   ]
  },
  {
   "cell_type": "code",
   "execution_count": 73,
   "metadata": {},
   "outputs": [
    {
     "data": {
      "text/plain": [
       "'tree.dot.png'"
      ]
     },
     "execution_count": 73,
     "metadata": {},
     "output_type": "execute_result"
    }
   ],
   "source": [
    "dot.format='png'\n",
    "dot.render(filename ='tree.dot')"
   ]
  },
  {
   "cell_type": "code",
   "execution_count": 74,
   "metadata": {},
   "outputs": [
    {
     "data": {
      "image/svg+xml": [
       "<?xml version=\"1.0\" encoding=\"UTF-8\" standalone=\"no\"?>\r\n",
       "<!DOCTYPE svg PUBLIC \"-//W3C//DTD SVG 1.1//EN\"\r\n",
       " \"http://www.w3.org/Graphics/SVG/1.1/DTD/svg11.dtd\">\r\n",
       "<!-- Generated by graphviz version 2.38.0 (20140413.2041)\r\n",
       " -->\r\n",
       "<!-- Title: Tree Pages: 1 -->\r\n",
       "<svg width=\"905pt\" height=\"433pt\"\r\n",
       " viewBox=\"0.00 0.00 904.50 433.00\" xmlns=\"http://www.w3.org/2000/svg\" xmlns:xlink=\"http://www.w3.org/1999/xlink\">\r\n",
       "<g id=\"graph0\" class=\"graph\" transform=\"scale(1 1) rotate(0) translate(4 429)\">\r\n",
       "<title>Tree</title>\r\n",
       "<polygon fill=\"white\" stroke=\"none\" points=\"-4,4 -4,-429 900.5,-429 900.5,4 -4,4\"/>\r\n",
       "<!-- 0 -->\r\n",
       "<g id=\"node1\" class=\"node\"><title>0</title>\r\n",
       "<polygon fill=\"none\" stroke=\"black\" points=\"512,-425 394,-425 394,-342 512,-342 512,-425\"/>\r\n",
       "<text text-anchor=\"middle\" x=\"453\" y=\"-409.8\" font-family=\"Times New Roman,serif\" font-size=\"14.00\">X[7] &lt;= 0.056</text>\r\n",
       "<text text-anchor=\"middle\" x=\"453\" y=\"-394.8\" font-family=\"Times New Roman,serif\" font-size=\"14.00\">gini = 0.47</text>\r\n",
       "<text text-anchor=\"middle\" x=\"453\" y=\"-379.8\" font-family=\"Times New Roman,serif\" font-size=\"14.00\">samples = 426</text>\r\n",
       "<text text-anchor=\"middle\" x=\"453\" y=\"-364.8\" font-family=\"Times New Roman,serif\" font-size=\"14.00\">value = [265, 161]</text>\r\n",
       "<text text-anchor=\"middle\" x=\"453\" y=\"-349.8\" font-family=\"Times New Roman,serif\" font-size=\"14.00\">class = M</text>\r\n",
       "</g>\r\n",
       "<!-- 1 -->\r\n",
       "<g id=\"node2\" class=\"node\"><title>1</title>\r\n",
       "<polygon fill=\"none\" stroke=\"black\" points=\"422.5,-306 311.5,-306 311.5,-223 422.5,-223 422.5,-306\"/>\r\n",
       "<text text-anchor=\"middle\" x=\"367\" y=\"-290.8\" font-family=\"Times New Roman,serif\" font-size=\"14.00\">X[22] &lt;= 107.2</text>\r\n",
       "<text text-anchor=\"middle\" x=\"367\" y=\"-275.8\" font-family=\"Times New Roman,serif\" font-size=\"14.00\">gini = 0.134</text>\r\n",
       "<text text-anchor=\"middle\" x=\"367\" y=\"-260.8\" font-family=\"Times New Roman,serif\" font-size=\"14.00\">samples = 276</text>\r\n",
       "<text text-anchor=\"middle\" x=\"367\" y=\"-245.8\" font-family=\"Times New Roman,serif\" font-size=\"14.00\">value = [256, 20]</text>\r\n",
       "<text text-anchor=\"middle\" x=\"367\" y=\"-230.8\" font-family=\"Times New Roman,serif\" font-size=\"14.00\">class = M</text>\r\n",
       "</g>\r\n",
       "<!-- 0&#45;&gt;1 -->\r\n",
       "<g id=\"edge1\" class=\"edge\"><title>0&#45;&gt;1</title>\r\n",
       "<path fill=\"none\" stroke=\"black\" d=\"M423.163,-341.907C416.626,-333.014 409.639,-323.509 402.893,-314.331\"/>\r\n",
       "<polygon fill=\"black\" stroke=\"black\" points=\"405.527,-312.005 396.785,-306.021 399.887,-316.151 405.527,-312.005\"/>\r\n",
       "<text text-anchor=\"middle\" x=\"393.011\" y=\"-327.034\" font-family=\"Times New Roman,serif\" font-size=\"14.00\">True</text>\r\n",
       "</g>\r\n",
       "<!-- 8 -->\r\n",
       "<g id=\"node9\" class=\"node\"><title>8</title>\r\n",
       "<polygon fill=\"none\" stroke=\"black\" points=\"592,-306 488,-306 488,-223 592,-223 592,-306\"/>\r\n",
       "<text text-anchor=\"middle\" x=\"540\" y=\"-290.8\" font-family=\"Times New Roman,serif\" font-size=\"14.00\">X[21] &lt;= 18.4</text>\r\n",
       "<text text-anchor=\"middle\" x=\"540\" y=\"-275.8\" font-family=\"Times New Roman,serif\" font-size=\"14.00\">gini = 0.113</text>\r\n",
       "<text text-anchor=\"middle\" x=\"540\" y=\"-260.8\" font-family=\"Times New Roman,serif\" font-size=\"14.00\">samples = 150</text>\r\n",
       "<text text-anchor=\"middle\" x=\"540\" y=\"-245.8\" font-family=\"Times New Roman,serif\" font-size=\"14.00\">value = [9, 141]</text>\r\n",
       "<text text-anchor=\"middle\" x=\"540\" y=\"-230.8\" font-family=\"Times New Roman,serif\" font-size=\"14.00\">class = B</text>\r\n",
       "</g>\r\n",
       "<!-- 0&#45;&gt;8 -->\r\n",
       "<g id=\"edge8\" class=\"edge\"><title>0&#45;&gt;8</title>\r\n",
       "<path fill=\"none\" stroke=\"black\" d=\"M483.184,-341.907C489.865,-332.923 497.009,-323.315 503.899,-314.05\"/>\r\n",
       "<polygon fill=\"black\" stroke=\"black\" points=\"506.711,-316.134 509.869,-306.021 501.093,-311.957 506.711,-316.134\"/>\r\n",
       "<text text-anchor=\"middle\" x=\"513.506\" y=\"-327.055\" font-family=\"Times New Roman,serif\" font-size=\"14.00\">False</text>\r\n",
       "</g>\r\n",
       "<!-- 2 -->\r\n",
       "<g id=\"node3\" class=\"node\"><title>2</title>\r\n",
       "<polygon fill=\"none\" stroke=\"black\" points=\"220,-187 116,-187 116,-104 220,-104 220,-187\"/>\r\n",
       "<text text-anchor=\"middle\" x=\"168\" y=\"-171.8\" font-family=\"Times New Roman,serif\" font-size=\"14.00\">X[27] &lt;= 0.146</text>\r\n",
       "<text text-anchor=\"middle\" x=\"168\" y=\"-156.8\" font-family=\"Times New Roman,serif\" font-size=\"14.00\">gini = 0.033</text>\r\n",
       "<text text-anchor=\"middle\" x=\"168\" y=\"-141.8\" font-family=\"Times New Roman,serif\" font-size=\"14.00\">samples = 242</text>\r\n",
       "<text text-anchor=\"middle\" x=\"168\" y=\"-126.8\" font-family=\"Times New Roman,serif\" font-size=\"14.00\">value = [238, 4]</text>\r\n",
       "<text text-anchor=\"middle\" x=\"168\" y=\"-111.8\" font-family=\"Times New Roman,serif\" font-size=\"14.00\">class = M</text>\r\n",
       "</g>\r\n",
       "<!-- 1&#45;&gt;2 -->\r\n",
       "<g id=\"edge2\" class=\"edge\"><title>1&#45;&gt;2</title>\r\n",
       "<path fill=\"none\" stroke=\"black\" d=\"M311.303,-230.753C285.683,-215.691 255.223,-197.782 228.987,-182.357\"/>\r\n",
       "<polygon fill=\"black\" stroke=\"black\" points=\"230.659,-179.28 220.265,-177.228 227.111,-185.314 230.659,-179.28\"/>\r\n",
       "</g>\r\n",
       "<!-- 5 -->\r\n",
       "<g id=\"node6\" class=\"node\"><title>5</title>\r\n",
       "<polygon fill=\"none\" stroke=\"black\" points=\"419,-187 315,-187 315,-104 419,-104 419,-187\"/>\r\n",
       "<text text-anchor=\"middle\" x=\"367\" y=\"-171.8\" font-family=\"Times New Roman,serif\" font-size=\"14.00\">X[10] &lt;= 0.359</text>\r\n",
       "<text text-anchor=\"middle\" x=\"367\" y=\"-156.8\" font-family=\"Times New Roman,serif\" font-size=\"14.00\">gini = 0.498</text>\r\n",
       "<text text-anchor=\"middle\" x=\"367\" y=\"-141.8\" font-family=\"Times New Roman,serif\" font-size=\"14.00\">samples = 34</text>\r\n",
       "<text text-anchor=\"middle\" x=\"367\" y=\"-126.8\" font-family=\"Times New Roman,serif\" font-size=\"14.00\">value = [18, 16]</text>\r\n",
       "<text text-anchor=\"middle\" x=\"367\" y=\"-111.8\" font-family=\"Times New Roman,serif\" font-size=\"14.00\">class = M</text>\r\n",
       "</g>\r\n",
       "<!-- 1&#45;&gt;5 -->\r\n",
       "<g id=\"edge5\" class=\"edge\"><title>1&#45;&gt;5</title>\r\n",
       "<path fill=\"none\" stroke=\"black\" d=\"M367,-222.907C367,-214.649 367,-205.864 367,-197.302\"/>\r\n",
       "<polygon fill=\"black\" stroke=\"black\" points=\"370.5,-197.021 367,-187.021 363.5,-197.021 370.5,-197.021\"/>\r\n",
       "</g>\r\n",
       "<!-- 3 -->\r\n",
       "<g id=\"node4\" class=\"node\"><title>3</title>\r\n",
       "<polygon fill=\"none\" stroke=\"black\" points=\"104,-68 0,-68 0,-0 104,-0 104,-68\"/>\r\n",
       "<text text-anchor=\"middle\" x=\"52\" y=\"-52.8\" font-family=\"Times New Roman,serif\" font-size=\"14.00\">gini = 0.017</text>\r\n",
       "<text text-anchor=\"middle\" x=\"52\" y=\"-37.8\" font-family=\"Times New Roman,serif\" font-size=\"14.00\">samples = 239</text>\r\n",
       "<text text-anchor=\"middle\" x=\"52\" y=\"-22.8\" font-family=\"Times New Roman,serif\" font-size=\"14.00\">value = [237, 2]</text>\r\n",
       "<text text-anchor=\"middle\" x=\"52\" y=\"-7.8\" font-family=\"Times New Roman,serif\" font-size=\"14.00\">class = M</text>\r\n",
       "</g>\r\n",
       "<!-- 2&#45;&gt;3 -->\r\n",
       "<g id=\"edge3\" class=\"edge\"><title>2&#45;&gt;3</title>\r\n",
       "<path fill=\"none\" stroke=\"black\" d=\"M124.806,-103.726C114.95,-94.423 104.484,-84.5428 94.6511,-75.2612\"/>\r\n",
       "<polygon fill=\"black\" stroke=\"black\" points=\"96.9507,-72.6189 87.2763,-68.2996 92.1456,-77.7092 96.9507,-72.6189\"/>\r\n",
       "</g>\r\n",
       "<!-- 4 -->\r\n",
       "<g id=\"node5\" class=\"node\"><title>4</title>\r\n",
       "<polygon fill=\"none\" stroke=\"black\" points=\"213.5,-68 122.5,-68 122.5,-0 213.5,-0 213.5,-68\"/>\r\n",
       "<text text-anchor=\"middle\" x=\"168\" y=\"-52.8\" font-family=\"Times New Roman,serif\" font-size=\"14.00\">gini = 0.444</text>\r\n",
       "<text text-anchor=\"middle\" x=\"168\" y=\"-37.8\" font-family=\"Times New Roman,serif\" font-size=\"14.00\">samples = 3</text>\r\n",
       "<text text-anchor=\"middle\" x=\"168\" y=\"-22.8\" font-family=\"Times New Roman,serif\" font-size=\"14.00\">value = [1, 2]</text>\r\n",
       "<text text-anchor=\"middle\" x=\"168\" y=\"-7.8\" font-family=\"Times New Roman,serif\" font-size=\"14.00\">class = B</text>\r\n",
       "</g>\r\n",
       "<!-- 2&#45;&gt;4 -->\r\n",
       "<g id=\"edge4\" class=\"edge\"><title>2&#45;&gt;4</title>\r\n",
       "<path fill=\"none\" stroke=\"black\" d=\"M168,-103.726C168,-95.5175 168,-86.8595 168,-78.56\"/>\r\n",
       "<polygon fill=\"black\" stroke=\"black\" points=\"171.5,-78.2996 168,-68.2996 164.5,-78.2996 171.5,-78.2996\"/>\r\n",
       "</g>\r\n",
       "<!-- 6 -->\r\n",
       "<g id=\"node7\" class=\"node\"><title>6</title>\r\n",
       "<polygon fill=\"none\" stroke=\"black\" points=\"330,-68 232,-68 232,-0 330,-0 330,-68\"/>\r\n",
       "<text text-anchor=\"middle\" x=\"281\" y=\"-52.8\" font-family=\"Times New Roman,serif\" font-size=\"14.00\">gini = 0.363</text>\r\n",
       "<text text-anchor=\"middle\" x=\"281\" y=\"-37.8\" font-family=\"Times New Roman,serif\" font-size=\"14.00\">samples = 21</text>\r\n",
       "<text text-anchor=\"middle\" x=\"281\" y=\"-22.8\" font-family=\"Times New Roman,serif\" font-size=\"14.00\">value = [16, 5]</text>\r\n",
       "<text text-anchor=\"middle\" x=\"281\" y=\"-7.8\" font-family=\"Times New Roman,serif\" font-size=\"14.00\">class = M</text>\r\n",
       "</g>\r\n",
       "<!-- 5&#45;&gt;6 -->\r\n",
       "<g id=\"edge6\" class=\"edge\"><title>5&#45;&gt;6</title>\r\n",
       "<path fill=\"none\" stroke=\"black\" d=\"M334.977,-103.726C327.957,-94.7878 320.518,-85.3168 313.48,-76.3558\"/>\r\n",
       "<polygon fill=\"black\" stroke=\"black\" points=\"316.082,-74.0022 307.153,-68.2996 310.577,-78.3259 316.082,-74.0022\"/>\r\n",
       "</g>\r\n",
       "<!-- 7 -->\r\n",
       "<g id=\"node8\" class=\"node\"><title>7</title>\r\n",
       "<polygon fill=\"none\" stroke=\"black\" points=\"446,-68 348,-68 348,-0 446,-0 446,-68\"/>\r\n",
       "<text text-anchor=\"middle\" x=\"397\" y=\"-52.8\" font-family=\"Times New Roman,serif\" font-size=\"14.00\">gini = 0.26</text>\r\n",
       "<text text-anchor=\"middle\" x=\"397\" y=\"-37.8\" font-family=\"Times New Roman,serif\" font-size=\"14.00\">samples = 13</text>\r\n",
       "<text text-anchor=\"middle\" x=\"397\" y=\"-22.8\" font-family=\"Times New Roman,serif\" font-size=\"14.00\">value = [2, 11]</text>\r\n",
       "<text text-anchor=\"middle\" x=\"397\" y=\"-7.8\" font-family=\"Times New Roman,serif\" font-size=\"14.00\">class = B</text>\r\n",
       "</g>\r\n",
       "<!-- 5&#45;&gt;7 -->\r\n",
       "<g id=\"edge7\" class=\"edge\"><title>5&#45;&gt;7</title>\r\n",
       "<path fill=\"none\" stroke=\"black\" d=\"M378.171,-103.726C380.47,-95.3351 382.897,-86.4745 385.217,-78.0072\"/>\r\n",
       "<polygon fill=\"black\" stroke=\"black\" points=\"388.61,-78.869 387.877,-68.2996 381.859,-77.0193 388.61,-78.869\"/>\r\n",
       "</g>\r\n",
       "<!-- 9 -->\r\n",
       "<g id=\"node10\" class=\"node\"><title>9</title>\r\n",
       "<polygon fill=\"none\" stroke=\"black\" points=\"595,-187 485,-187 485,-104 595,-104 595,-187\"/>\r\n",
       "<text text-anchor=\"middle\" x=\"540\" y=\"-171.8\" font-family=\"Times New Roman,serif\" font-size=\"14.00\">X[23] &lt;= 978.15</text>\r\n",
       "<text text-anchor=\"middle\" x=\"540\" y=\"-156.8\" font-family=\"Times New Roman,serif\" font-size=\"14.00\">gini = 0.375</text>\r\n",
       "<text text-anchor=\"middle\" x=\"540\" y=\"-141.8\" font-family=\"Times New Roman,serif\" font-size=\"14.00\">samples = 8</text>\r\n",
       "<text text-anchor=\"middle\" x=\"540\" y=\"-126.8\" font-family=\"Times New Roman,serif\" font-size=\"14.00\">value = [6, 2]</text>\r\n",
       "<text text-anchor=\"middle\" x=\"540\" y=\"-111.8\" font-family=\"Times New Roman,serif\" font-size=\"14.00\">class = M</text>\r\n",
       "</g>\r\n",
       "<!-- 8&#45;&gt;9 -->\r\n",
       "<g id=\"edge9\" class=\"edge\"><title>8&#45;&gt;9</title>\r\n",
       "<path fill=\"none\" stroke=\"black\" d=\"M540,-222.907C540,-214.649 540,-205.864 540,-197.302\"/>\r\n",
       "<polygon fill=\"black\" stroke=\"black\" points=\"543.5,-197.021 540,-187.021 536.5,-197.021 543.5,-197.021\"/>\r\n",
       "</g>\r\n",
       "<!-- 12 -->\r\n",
       "<g id=\"node13\" class=\"node\"><title>12</title>\r\n",
       "<polygon fill=\"none\" stroke=\"black\" points=\"787,-187 683,-187 683,-104 787,-104 787,-187\"/>\r\n",
       "<text text-anchor=\"middle\" x=\"735\" y=\"-171.8\" font-family=\"Times New Roman,serif\" font-size=\"14.00\">X[19] &lt;= 0.012</text>\r\n",
       "<text text-anchor=\"middle\" x=\"735\" y=\"-156.8\" font-family=\"Times New Roman,serif\" font-size=\"14.00\">gini = 0.041</text>\r\n",
       "<text text-anchor=\"middle\" x=\"735\" y=\"-141.8\" font-family=\"Times New Roman,serif\" font-size=\"14.00\">samples = 142</text>\r\n",
       "<text text-anchor=\"middle\" x=\"735\" y=\"-126.8\" font-family=\"Times New Roman,serif\" font-size=\"14.00\">value = [3, 139]</text>\r\n",
       "<text text-anchor=\"middle\" x=\"735\" y=\"-111.8\" font-family=\"Times New Roman,serif\" font-size=\"14.00\">class = B</text>\r\n",
       "</g>\r\n",
       "<!-- 8&#45;&gt;12 -->\r\n",
       "<g id=\"edge12\" class=\"edge\"><title>8&#45;&gt;12</title>\r\n",
       "<path fill=\"none\" stroke=\"black\" d=\"M592,-232.3C617.24,-217.156 647.724,-198.865 674.051,-183.069\"/>\r\n",
       "<polygon fill=\"black\" stroke=\"black\" points=\"676.032,-185.963 682.806,-177.816 672.43,-179.96 676.032,-185.963\"/>\r\n",
       "</g>\r\n",
       "<!-- 10 -->\r\n",
       "<g id=\"node11\" class=\"node\"><title>10</title>\r\n",
       "<polygon fill=\"none\" stroke=\"black\" points=\"555.5,-68 464.5,-68 464.5,-0 555.5,-0 555.5,-68\"/>\r\n",
       "<text text-anchor=\"middle\" x=\"510\" y=\"-52.8\" font-family=\"Times New Roman,serif\" font-size=\"14.00\">gini = 0.0</text>\r\n",
       "<text text-anchor=\"middle\" x=\"510\" y=\"-37.8\" font-family=\"Times New Roman,serif\" font-size=\"14.00\">samples = 6</text>\r\n",
       "<text text-anchor=\"middle\" x=\"510\" y=\"-22.8\" font-family=\"Times New Roman,serif\" font-size=\"14.00\">value = [6, 0]</text>\r\n",
       "<text text-anchor=\"middle\" x=\"510\" y=\"-7.8\" font-family=\"Times New Roman,serif\" font-size=\"14.00\">class = M</text>\r\n",
       "</g>\r\n",
       "<!-- 9&#45;&gt;10 -->\r\n",
       "<g id=\"edge10\" class=\"edge\"><title>9&#45;&gt;10</title>\r\n",
       "<path fill=\"none\" stroke=\"black\" d=\"M528.829,-103.726C526.53,-95.3351 524.103,-86.4745 521.783,-78.0072\"/>\r\n",
       "<polygon fill=\"black\" stroke=\"black\" points=\"525.141,-77.0193 519.123,-68.2996 518.39,-78.869 525.141,-77.0193\"/>\r\n",
       "</g>\r\n",
       "<!-- 11 -->\r\n",
       "<g id=\"node12\" class=\"node\"><title>11</title>\r\n",
       "<polygon fill=\"none\" stroke=\"black\" points=\"664.5,-68 573.5,-68 573.5,-0 664.5,-0 664.5,-68\"/>\r\n",
       "<text text-anchor=\"middle\" x=\"619\" y=\"-52.8\" font-family=\"Times New Roman,serif\" font-size=\"14.00\">gini = 0.0</text>\r\n",
       "<text text-anchor=\"middle\" x=\"619\" y=\"-37.8\" font-family=\"Times New Roman,serif\" font-size=\"14.00\">samples = 2</text>\r\n",
       "<text text-anchor=\"middle\" x=\"619\" y=\"-22.8\" font-family=\"Times New Roman,serif\" font-size=\"14.00\">value = [0, 2]</text>\r\n",
       "<text text-anchor=\"middle\" x=\"619\" y=\"-7.8\" font-family=\"Times New Roman,serif\" font-size=\"14.00\">class = B</text>\r\n",
       "</g>\r\n",
       "<!-- 9&#45;&gt;11 -->\r\n",
       "<g id=\"edge11\" class=\"edge\"><title>9&#45;&gt;11</title>\r\n",
       "<path fill=\"none\" stroke=\"black\" d=\"M569.417,-103.726C575.8,-94.879 582.559,-85.51 588.965,-76.6303\"/>\r\n",
       "<polygon fill=\"black\" stroke=\"black\" points=\"591.963,-78.4571 594.976,-68.2996 586.286,-74.3615 591.963,-78.4571\"/>\r\n",
       "</g>\r\n",
       "<!-- 13 -->\r\n",
       "<g id=\"node14\" class=\"node\"><title>13</title>\r\n",
       "<polygon fill=\"none\" stroke=\"black\" points=\"787,-68 683,-68 683,-0 787,-0 787,-68\"/>\r\n",
       "<text text-anchor=\"middle\" x=\"735\" y=\"-52.8\" font-family=\"Times New Roman,serif\" font-size=\"14.00\">gini = 0.0</text>\r\n",
       "<text text-anchor=\"middle\" x=\"735\" y=\"-37.8\" font-family=\"Times New Roman,serif\" font-size=\"14.00\">samples = 138</text>\r\n",
       "<text text-anchor=\"middle\" x=\"735\" y=\"-22.8\" font-family=\"Times New Roman,serif\" font-size=\"14.00\">value = [0, 138]</text>\r\n",
       "<text text-anchor=\"middle\" x=\"735\" y=\"-7.8\" font-family=\"Times New Roman,serif\" font-size=\"14.00\">class = B</text>\r\n",
       "</g>\r\n",
       "<!-- 12&#45;&gt;13 -->\r\n",
       "<g id=\"edge13\" class=\"edge\"><title>12&#45;&gt;13</title>\r\n",
       "<path fill=\"none\" stroke=\"black\" d=\"M735,-103.726C735,-95.5175 735,-86.8595 735,-78.56\"/>\r\n",
       "<polygon fill=\"black\" stroke=\"black\" points=\"738.5,-78.2996 735,-68.2996 731.5,-78.2996 738.5,-78.2996\"/>\r\n",
       "</g>\r\n",
       "<!-- 14 -->\r\n",
       "<g id=\"node15\" class=\"node\"><title>14</title>\r\n",
       "<polygon fill=\"none\" stroke=\"black\" points=\"896.5,-68 805.5,-68 805.5,-0 896.5,-0 896.5,-68\"/>\r\n",
       "<text text-anchor=\"middle\" x=\"851\" y=\"-52.8\" font-family=\"Times New Roman,serif\" font-size=\"14.00\">gini = 0.375</text>\r\n",
       "<text text-anchor=\"middle\" x=\"851\" y=\"-37.8\" font-family=\"Times New Roman,serif\" font-size=\"14.00\">samples = 4</text>\r\n",
       "<text text-anchor=\"middle\" x=\"851\" y=\"-22.8\" font-family=\"Times New Roman,serif\" font-size=\"14.00\">value = [3, 1]</text>\r\n",
       "<text text-anchor=\"middle\" x=\"851\" y=\"-7.8\" font-family=\"Times New Roman,serif\" font-size=\"14.00\">class = M</text>\r\n",
       "</g>\r\n",
       "<!-- 12&#45;&gt;14 -->\r\n",
       "<g id=\"edge14\" class=\"edge\"><title>12&#45;&gt;14</title>\r\n",
       "<path fill=\"none\" stroke=\"black\" d=\"M778.194,-103.726C788.05,-94.423 798.516,-84.5428 808.349,-75.2612\"/>\r\n",
       "<polygon fill=\"black\" stroke=\"black\" points=\"810.854,-77.7092 815.724,-68.2996 806.049,-72.6189 810.854,-77.7092\"/>\r\n",
       "</g>\r\n",
       "</g>\r\n",
       "</svg>\r\n"
      ],
      "text/plain": [
       "<graphviz.files.Source at 0x267d26cd128>"
      ]
     },
     "execution_count": 74,
     "metadata": {},
     "output_type": "execute_result"
    }
   ],
   "source": [
    "graphviz.Source(t_graph)"
   ]
  },
  {
   "cell_type": "markdown",
   "metadata": {},
   "source": [
    "#### 3.2.3.2. 특성 중요도 정보제공"
   ]
  },
  {
   "cell_type": "code",
   "execution_count": 75,
   "metadata": {},
   "outputs": [],
   "source": [
    "imp_feature = tree.feature_importances_  # 특성 중요도\n",
    "nm_feature = cancer.columns[1:] # 특성명\n",
    "imp_feature = pd.Series(imp_feature, index = nm_feature)"
   ]
  },
  {
   "cell_type": "code",
   "execution_count": 76,
   "metadata": {},
   "outputs": [
    {
     "data": {
      "text/plain": [
       "<matplotlib.axes._subplots.AxesSubplot at 0x267d26d6eb8>"
      ]
     },
     "execution_count": 76,
     "metadata": {},
     "output_type": "execute_result"
    },
    {
     "data": {
      "image/png": "[encoded data removed]",
      "text/plain": [
       "<Figure size 432x288 with 1 Axes>"
      ]
     },
     "metadata": {
      "needs_background": "light"
     },
     "output_type": "display_data"
    }
   ],
   "source": [
    "imp_feature.plot(kind='barh')"
   ]
  },
  {
   "cell_type": "markdown",
   "metadata": {},
   "source": [
    "### 3.2.4. Random Forest (분류)"
   ]
  },
  {
   "cell_type": "markdown",
   "metadata": {},
   "source": [
    "#### 3.2.4.1. 라이브러리의 적재 "
   ]
  },
  {
   "cell_type": "code",
   "execution_count": 77,
   "metadata": {},
   "outputs": [],
   "source": [
    "from sklearn.tree import DecisionTreeClassifier # 의사결정트리"
   ]
  },
  {
   "cell_type": "code",
   "execution_count": 78,
   "metadata": {},
   "outputs": [],
   "source": [
    "from sklearn.ensemble import RandomForestClassifier # 랜덤포레스트"
   ]
  },
  {
   "cell_type": "code",
   "execution_count": 79,
   "metadata": {},
   "outputs": [],
   "source": [
    "from sklearn.model_selection import train_test_split"
   ]
  },
  {
   "cell_type": "markdown",
   "metadata": {},
   "source": [
    "(참고) 주피터에서 각 분석 알고리즘의 주요파라미터를 활용하는 법"
   ]
  },
  {
   "cell_type": "code",
   "execution_count": 80,
   "metadata": {},
   "outputs": [],
   "source": [
    "?RandomForestClassifier\n",
    "# 주요 파라미터를 확인하는 방법"
   ]
  },
  {
   "cell_type": "code",
   "execution_count": 82,
   "metadata": {},
   "outputs": [],
   "source": [
    "forest = RandomForestClassifier(n_estimators = 10, max_features='auto') # 모델의 갯수를 설정하는 것 (10개)\n",
    "  # 과적합이 개선되지 않으면 100개이상이 될 수도 있다 (<--매개변수의 튜닝)\n",
    "  # max_features : 최대 특성 수 (한 개의 특성만으로도 트리를 만들 수 있으므로 반드시 사용할 수가 아니라\n",
    "  # 사용할 수 있는 가능성의 숫자이다)  "
   ]
  },
  {
   "cell_type": "markdown",
   "metadata": {},
   "source": [
    "#### 3.2.4.2. 데이터 적재"
   ]
  },
  {
   "cell_type": "code",
   "execution_count": 83,
   "metadata": {},
   "outputs": [],
   "source": [
    "cancer = pd.read_csv('data/cancer.csv')\n",
    "\n",
    "y = cancer['type']\n",
    "X = cancer.values[:, 1:].astype('float32')"
   ]
  },
  {
   "cell_type": "markdown",
   "metadata": {},
   "source": [
    "#### 3.2.4.3. 분석 데이터 준비 "
   ]
  },
  {
   "cell_type": "code",
   "execution_count": 84,
   "metadata": {},
   "outputs": [],
   "source": [
    "X_train, X_test, y_train, y_test = train_test_split(X, y)"
   ]
  },
  {
   "cell_type": "markdown",
   "metadata": {},
   "source": [
    "#### 3.2.4.4. 모델 훈련 및 평가"
   ]
  },
  {
   "cell_type": "markdown",
   "metadata": {},
   "source": [
    "결정트리로 먼저 분석 수행하고 정확도를 확인"
   ]
  },
  {
   "cell_type": "code",
   "execution_count": 85,
   "metadata": {},
   "outputs": [
    {
     "data": {
      "text/plain": [
       "(1.0, 0.916083916083916)"
      ]
     },
     "execution_count": 85,
     "metadata": {},
     "output_type": "execute_result"
    }
   ],
   "source": [
    "tree = DecisionTreeClassifier().fit(X_train, y_train)\n",
    "tree.score(X_train, y_train), tree.score(X_test, y_test)"
   ]
  },
  {
   "cell_type": "markdown",
   "metadata": {},
   "source": [
    "RandomForest 분류로 분석 수행하고 정확도를 확인하고 결정트리와 비교\n",
    "\n",
    "    * 과대적합이 개선되고\n",
    "    * 테스트 데이터의 평가 결과도 정확도가 개선되었다"
   ]
  },
  {
   "cell_type": "code",
   "execution_count": 86,
   "metadata": {},
   "outputs": [
    {
     "name": "stderr",
     "output_type": "stream",
     "text": [
      "C:\\Users\\jhhong\\Anaconda3\\lib\\site-packages\\sklearn\\ensemble\\forest.py:246: FutureWarning: The default value of n_estimators will change from 10 in version 0.20 to 100 in 0.22.\n",
      "  \"10 in version 0.20 to 100 in 0.22.\", FutureWarning)\n"
     ]
    },
    {
     "data": {
      "text/plain": [
       "(0.9929577464788732, 0.951048951048951)"
      ]
     },
     "execution_count": 86,
     "metadata": {},
     "output_type": "execute_result"
    }
   ],
   "source": [
    "forest = RandomForestClassifier().fit(X_train, y_train)\n",
    "forest.score(X_train, y_train), forest.score(X_test, y_test) "
   ]
  },
  {
   "cell_type": "markdown",
   "metadata": {},
   "source": [
    "#### 3.2.4.5. 파라미터의 조정"
   ]
  },
  {
   "cell_type": "code",
   "execution_count": 87,
   "metadata": {},
   "outputs": [
    {
     "data": {
      "text/plain": [
       "(1.0, 0.9790209790209791)"
      ]
     },
     "execution_count": 87,
     "metadata": {},
     "output_type": "execute_result"
    }
   ],
   "source": [
    "forest = RandomForestClassifier(n_estimators = 100).fit(X_train, y_train) # 모델의 갯수를 10개에서 100개 증가\n",
    "forest.score(X_train, y_train), forest.score(X_test, y_test) "
   ]
  },
  {
   "cell_type": "markdown",
   "metadata": {},
   "source": [
    "#### 3.2.4.6. CPU 코어의 사용 여부 지정"
   ]
  },
  {
   "cell_type": "code",
   "execution_count": 88,
   "metadata": {},
   "outputs": [
    {
     "data": {
      "text/plain": [
       "(1.0, 0.965034965034965)"
      ]
     },
     "execution_count": 88,
     "metadata": {},
     "output_type": "execute_result"
    }
   ],
   "source": [
    "forest = RandomForestClassifier(n_estimators = 100, n_jobs = -1).fit(X_train, y_train)\n",
    "forest.score(X_train, y_train), forest.score(X_test, y_test) \n",
    "\n",
    "# n_jobs = -1 사용할 수 있는 모든 코어를 알아서 쓴다"
   ]
  },
  {
   "cell_type": "markdown",
   "metadata": {},
   "source": [
    "#### 3.2.4.7. 개선된 특성 중요도"
   ]
  },
  {
   "cell_type": "markdown",
   "metadata": {},
   "source": [
    "더욱 종합적인 특성 중요도를 알 수 있다.\n",
    "\n",
    "단일트리보다 훨씬 안정적이고, 신뢰할만하다."
   ]
  },
  {
   "cell_type": "code",
   "execution_count": 89,
   "metadata": {},
   "outputs": [
    {
     "data": {
      "text/plain": [
       "<matplotlib.axes._subplots.AxesSubplot at 0x267d26359b0>"
      ]
     },
     "execution_count": 89,
     "metadata": {},
     "output_type": "execute_result"
    },
    {
     "data": {
      "image/png": "[encoded data removed]",
      "text/plain": [
       "<Figure size 432x288 with 1 Axes>"
      ]
     },
     "metadata": {
      "needs_background": "light"
     },
     "output_type": "display_data"
    }
   ],
   "source": [
    "imp_f = forest.feature_importances_  # 특성 중요도\n",
    "n_f = cancer.columns[1:] # 특성명\n",
    "imp_f = pd.Series(imp_f, index = n_f)\n",
    "imp_f.plot(kind ='barh')"
   ]
  },
  {
   "cell_type": "markdown",
   "metadata": {},
   "source": [
    "중요도를 기준으로 내림차순 정렬을 한다."
   ]
  },
  {
   "cell_type": "code",
   "execution_count": 90,
   "metadata": {
    "scrolled": true
   },
   "outputs": [
    {
     "data": {
      "text/plain": [
       "<matplotlib.axes._subplots.AxesSubplot at 0x267d2635828>"
      ]
     },
     "execution_count": 90,
     "metadata": {},
     "output_type": "execute_result"
    },
    {
     "data": {
      "image/png": "[encoded data removed]",
      "text/plain": [
       "<Figure size 432x288 with 1 Axes>"
      ]
     },
     "metadata": {
      "needs_background": "light"
     },
     "output_type": "display_data"
    }
   ],
   "source": [
    "imp_f.sort_values().plot(kind ='barh')"
   ]
  },
  {
   "cell_type": "markdown",
   "metadata": {},
   "source": [
    "### 3.2.5. Random Forest (회귀)"
   ]
  },
  {
   "cell_type": "markdown",
   "metadata": {},
   "source": [
    "#### 3.2.5.1. 데이터 적재"
   ]
  },
  {
   "cell_type": "code",
   "execution_count": 91,
   "metadata": {},
   "outputs": [],
   "source": [
    "boston = pd.read_csv('data/boston.csv')"
   ]
  },
  {
   "cell_type": "markdown",
   "metadata": {},
   "source": [
    "#### 3.2.5.2. 분석 데이터 준비"
   ]
  },
  {
   "cell_type": "code",
   "execution_count": 92,
   "metadata": {},
   "outputs": [],
   "source": [
    "y = boston['Price']\n",
    "X = boston.values[:, 1:].astype('float32')\n",
    "\n",
    "X_train, X_test, y_train, y_test = train_test_split(X, y)"
   ]
  },
  {
   "cell_type": "markdown",
   "metadata": {},
   "source": [
    "#### 3.2.5.3. 모델 훈련 및 평가"
   ]
  },
  {
   "cell_type": "code",
   "execution_count": 93,
   "metadata": {},
   "outputs": [],
   "source": [
    "from sklearn.ensemble import RandomForestRegressor"
   ]
  },
  {
   "cell_type": "code",
   "execution_count": 94,
   "metadata": {},
   "outputs": [
    {
     "name": "stderr",
     "output_type": "stream",
     "text": [
      "C:\\Users\\jhhong\\Anaconda3\\lib\\site-packages\\sklearn\\ensemble\\forest.py:246: FutureWarning: The default value of n_estimators will change from 10 in version 0.20 to 100 in 0.22.\n",
      "  \"10 in version 0.20 to 100 in 0.22.\", FutureWarning)\n"
     ]
    },
    {
     "data": {
      "text/plain": [
       "(0.9801501077613277, 0.8475987638877764)"
      ]
     },
     "execution_count": 94,
     "metadata": {},
     "output_type": "execute_result"
    }
   ],
   "source": [
    "tree_reg = RandomForestRegressor().fit(X_train, y_train)\n",
    "tree_reg.score(X_train, y_train),tree_reg.score(X_test, y_test)"
   ]
  },
  {
   "cell_type": "markdown",
   "metadata": {},
   "source": [
    "#### 3.2.5.4. 그리드 서치"
   ]
  },
  {
   "cell_type": "markdown",
   "metadata": {},
   "source": [
    "과적합이 발생하므로 --> 파라미터를 조절해본다"
   ]
  },
  {
   "cell_type": "code",
   "execution_count": 95,
   "metadata": {},
   "outputs": [
    {
     "name": "stdout",
     "output_type": "stream",
     "text": [
      "나무: 100 훈련: 0.9834398533684952 시험: 0.8576440579327445\n",
      "나무: 200 훈련: 0.9830337444609354 시험: 0.857544113498755\n",
      "나무: 300 훈련: 0.9825053906441639 시험: 0.8560381727954686\n",
      "나무: 1000 훈련: 0.9836311595054347 시험: 0.8593352102780707\n"
     ]
    }
   ],
   "source": [
    "for n_tree in [100, 200, 300, 1000]:  # 나무개수\n",
    "    tree_reg = RandomForestRegressor(n_estimators = n_tree).fit(X_train, y_train)\n",
    "    train_score = tree_reg.score(X_train, y_train) # 훈련점수\n",
    "    test_score = tree_reg.score(X_test, y_test) # 시험점수\n",
    "    print('나무:', n_tree, '훈련:' , train_score, '시험:' , test_score)"
   ]
  },
  {
   "cell_type": "markdown",
   "metadata": {},
   "source": [
    "#### 3.2.5.5. RandomForest의 단점"
   ]
  },
  {
   "cell_type": "markdown",
   "metadata": {},
   "source": [
    "외삽을 수행하지 못한다\n",
    "\n",
    "    * 외삽 : 훈련 데이터 범위 밖의 데이터를 예측하는 것\n",
    "\n",
    "결정트리 모델군을 회귀에 적용할 때, 주의할 점 (p112)"
   ]
  },
  {
   "cell_type": "markdown",
   "metadata": {},
   "source": [
    "##### 3.2.5.5.1. 데이터 적재"
   ]
  },
  {
   "cell_type": "code",
   "execution_count": 96,
   "metadata": {},
   "outputs": [],
   "source": [
    "ram_price = pd.read_csv('data/ram_price.csv') # RAM 가격 (1메가바이트 당의 가격)"
   ]
  },
  {
   "cell_type": "code",
   "execution_count": 97,
   "metadata": {},
   "outputs": [
    {
     "data": {
      "text/html": [
       "<div>\n",
       "<style scoped>\n",
       "    .dataframe tbody tr th:only-of-type {\n",
       "        vertical-align: middle;\n",
       "    }\n",
       "\n",
       "    .dataframe tbody tr th {\n",
       "        vertical-align: top;\n",
       "    }\n",
       "\n",
       "    .dataframe thead th {\n",
       "        text-align: right;\n",
       "    }\n",
       "</style>\n",
       "<table border=\"1\" class=\"dataframe\">\n",
       "  <thead>\n",
       "    <tr style=\"text-align: right;\">\n",
       "      <th></th>\n",
       "      <th>date</th>\n",
       "      <th>price</th>\n",
       "    </tr>\n",
       "  </thead>\n",
       "  <tbody>\n",
       "    <tr>\n",
       "      <th>0</th>\n",
       "      <td>1957.0</td>\n",
       "      <td>411041792.0</td>\n",
       "    </tr>\n",
       "    <tr>\n",
       "      <th>1</th>\n",
       "      <td>1959.0</td>\n",
       "      <td>67947725.0</td>\n",
       "    </tr>\n",
       "    <tr>\n",
       "      <th>2</th>\n",
       "      <td>1960.0</td>\n",
       "      <td>5242880.0</td>\n",
       "    </tr>\n",
       "  </tbody>\n",
       "</table>\n",
       "</div>"
      ],
      "text/plain": [
       "     date        price\n",
       "0  1957.0  411041792.0\n",
       "1  1959.0   67947725.0\n",
       "2  1960.0    5242880.0"
      ]
     },
     "execution_count": 97,
     "metadata": {},
     "output_type": "execute_result"
    }
   ],
   "source": [
    "ram_price [:3]"
   ]
  },
  {
   "cell_type": "markdown",
   "metadata": {},
   "source": [
    "##### 3.2.5.5.2. 데이터 탐색"
   ]
  },
  {
   "cell_type": "code",
   "execution_count": 98,
   "metadata": {},
   "outputs": [
    {
     "data": {
      "text/plain": [
       "<matplotlib.axes._subplots.AxesSubplot at 0x267d2839320>"
      ]
     },
     "execution_count": 98,
     "metadata": {},
     "output_type": "execute_result"
    },
    {
     "data": {
      "image/png": "[encoded data removed]",
      "text/plain": [
       "<Figure size 432x288 with 1 Axes>"
      ]
     },
     "metadata": {
      "needs_background": "light"
     },
     "output_type": "display_data"
    }
   ],
   "source": [
    "ram_price.set_index('date').plot(logy=False)"
   ]
  },
  {
   "cell_type": "markdown",
   "metadata": {},
   "source": [
    "데이터의 패턴을 보니, 로그변형을 하면 선형 모델을 적용할 수 있을 것 같다"
   ]
  },
  {
   "cell_type": "code",
   "execution_count": 99,
   "metadata": {
    "scrolled": true
   },
   "outputs": [
    {
     "data": {
      "text/plain": [
       "<matplotlib.axes._subplots.AxesSubplot at 0x267d39d2ba8>"
      ]
     },
     "execution_count": 99,
     "metadata": {},
     "output_type": "execute_result"
    },
    {
     "data": {
      "image/png": "[encoded data removed]",
      "text/plain": [
       "<Figure size 432x288 with 1 Axes>"
      ]
     },
     "metadata": {
      "needs_background": "light"
     },
     "output_type": "display_data"
    }
   ],
   "source": [
    "ram_price.set_index('date').plot(logy=True)"
   ]
  },
  {
   "cell_type": "markdown",
   "metadata": {},
   "source": [
    "##### 3.2.5.5.3. 분석 데이터 준비"
   ]
  },
  {
   "cell_type": "code",
   "execution_count": 100,
   "metadata": {},
   "outputs": [],
   "source": [
    "y = ram_price['price']\n",
    "X = ram_price.values[:, 0].astype('float32')"
   ]
  },
  {
   "cell_type": "code",
   "execution_count": 101,
   "metadata": {},
   "outputs": [
    {
     "data": {
      "text/plain": [
       "(333, 1)"
      ]
     },
     "execution_count": 101,
     "metadata": {},
     "output_type": "execute_result"
    }
   ],
   "source": [
    "X = X.reshape(-1,1) # 특징이 하나만 있어도 2차원의 형상을 유지해야한다 (-1은 0축값 사용하는 것)\n",
    "X.shape "
   ]
  },
  {
   "cell_type": "code",
   "execution_count": 102,
   "metadata": {},
   "outputs": [
    {
     "data": {
      "text/plain": [
       "array([[1957.  ],\n",
       "       [1959.  ],\n",
       "       [1960.  ],\n",
       "       [1965.  ],\n",
       "       [1970.  ],\n",
       "       [1973.  ],\n",
       "       [1974.  ],\n",
       "       [1975.  ],\n",
       "       [1975.08],\n",
       "       [1975.25],\n",
       "       [1975.75],\n",
       "       [1976.  ],\n",
       "       [1976.17],\n",
       "       [1976.42],\n",
       "       [1976.58],\n",
       "       [1977.08],\n",
       "       [1978.17],\n",
       "       [1978.25],\n",
       "       [1978.33],\n",
       "       [1978.5 ],\n",
       "       [1978.58],\n",
       "       [1978.75],\n",
       "       [1979.  ],\n",
       "       [1979.75],\n",
       "       [1980.  ],\n",
       "       [1981.  ],\n",
       "       [1981.58],\n",
       "       [1982.  ],\n",
       "       [1982.17],\n",
       "       [1982.67],\n",
       "       [1983.  ],\n",
       "       [1983.67],\n",
       "       [1984.  ],\n",
       "       [1984.58],\n",
       "       [1985.  ],\n",
       "       [1985.33],\n",
       "       [1985.42],\n",
       "       [1985.5 ],\n",
       "       [1985.58],\n",
       "       [1985.67],\n",
       "       [1985.83],\n",
       "       [1985.92],\n",
       "       [1986.  ],\n",
       "       [1986.08],\n",
       "       [1986.17],\n",
       "       [1986.25],\n",
       "       [1986.33],\n",
       "       [1986.42],\n",
       "       [1986.5 ],\n",
       "       [1986.58],\n",
       "       [1986.67],\n",
       "       [1986.75],\n",
       "       [1986.92],\n",
       "       [1987.  ],\n",
       "       [1987.08],\n",
       "       [1987.17],\n",
       "       [1987.25],\n",
       "       [1987.33],\n",
       "       [1987.42],\n",
       "       [1987.5 ],\n",
       "       [1987.58],\n",
       "       [1987.67],\n",
       "       [1987.75],\n",
       "       [1987.83],\n",
       "       [1987.92],\n",
       "       [1988.  ],\n",
       "       [1988.08],\n",
       "       [1988.17],\n",
       "       [1988.33],\n",
       "       [1988.42],\n",
       "       [1988.5 ],\n",
       "       [1988.58],\n",
       "       [1988.67],\n",
       "       [1988.75],\n",
       "       [1988.83],\n",
       "       [1988.92],\n",
       "       [1989.  ],\n",
       "       [1989.08],\n",
       "       [1989.17],\n",
       "       [1989.25],\n",
       "       [1989.42],\n",
       "       [1989.5 ],\n",
       "       [1989.58],\n",
       "       [1989.67],\n",
       "       [1989.75],\n",
       "       [1989.83],\n",
       "       [1989.92],\n",
       "       [1990.  ],\n",
       "       [1990.17],\n",
       "       [1990.33],\n",
       "       [1990.42],\n",
       "       [1990.5 ],\n",
       "       [1990.58],\n",
       "       [1990.67],\n",
       "       [1990.75],\n",
       "       [1990.83],\n",
       "       [1990.92],\n",
       "       [1991.  ],\n",
       "       [1991.08],\n",
       "       [1991.17],\n",
       "       [1991.25],\n",
       "       [1991.33],\n",
       "       [1991.42],\n",
       "       [1991.5 ],\n",
       "       [1991.58],\n",
       "       [1991.67],\n",
       "       [1991.75],\n",
       "       [1991.83],\n",
       "       [1991.92],\n",
       "       [1992.  ],\n",
       "       [1992.08],\n",
       "       [1992.17],\n",
       "       [1992.25],\n",
       "       [1992.33],\n",
       "       [1992.42],\n",
       "       [1992.5 ],\n",
       "       [1992.58],\n",
       "       [1992.67],\n",
       "       [1992.75],\n",
       "       [1992.83],\n",
       "       [1992.92],\n",
       "       [1993.  ],\n",
       "       [1993.08],\n",
       "       [1993.17],\n",
       "       [1993.25],\n",
       "       [1993.33],\n",
       "       [1993.42],\n",
       "       [1993.5 ],\n",
       "       [1993.58],\n",
       "       [1993.67],\n",
       "       [1993.75],\n",
       "       [1993.83],\n",
       "       [1993.92],\n",
       "       [1994.  ],\n",
       "       [1994.08],\n",
       "       [1994.17],\n",
       "       [1994.25],\n",
       "       [1994.33],\n",
       "       [1994.42],\n",
       "       [1994.5 ],\n",
       "       [1994.58],\n",
       "       [1994.67],\n",
       "       [1994.75],\n",
       "       [1994.83],\n",
       "       [1994.92],\n",
       "       [1995.  ],\n",
       "       [1995.08],\n",
       "       [1995.17],\n",
       "       [1995.25],\n",
       "       [1995.33],\n",
       "       [1995.42],\n",
       "       [1995.5 ],\n",
       "       [1995.58],\n",
       "       [1995.67],\n",
       "       [1995.75],\n",
       "       [1995.83],\n",
       "       [1995.92],\n",
       "       [1996.  ],\n",
       "       [1996.08],\n",
       "       [1996.17],\n",
       "       [1996.25],\n",
       "       [1996.33],\n",
       "       [1996.42],\n",
       "       [1996.5 ],\n",
       "       [1996.58],\n",
       "       [1996.67],\n",
       "       [1996.75],\n",
       "       [1996.83],\n",
       "       [1996.92],\n",
       "       [1997.  ],\n",
       "       [1997.08],\n",
       "       [1997.17],\n",
       "       [1997.25],\n",
       "       [1997.33],\n",
       "       [1997.42],\n",
       "       [1997.5 ],\n",
       "       [1997.58],\n",
       "       [1997.67],\n",
       "       [1997.75],\n",
       "       [1997.83],\n",
       "       [1997.92],\n",
       "       [1998.  ],\n",
       "       [1998.08],\n",
       "       [1998.17],\n",
       "       [1998.25],\n",
       "       [1998.33],\n",
       "       [1998.42],\n",
       "       [1998.58],\n",
       "       [1998.67],\n",
       "       [1998.75],\n",
       "       [1998.83],\n",
       "       [1998.92],\n",
       "       [1999.08],\n",
       "       [1999.13],\n",
       "       [1999.17],\n",
       "       [1999.25],\n",
       "       [1999.33],\n",
       "       [1999.5 ],\n",
       "       [1999.67],\n",
       "       [1999.75],\n",
       "       [1999.83],\n",
       "       [1999.92],\n",
       "       [2000.  ],\n",
       "       [2000.08],\n",
       "       [2000.17],\n",
       "       [2000.25],\n",
       "       [2000.33],\n",
       "       [2000.42],\n",
       "       [2000.5 ],\n",
       "       [2000.58],\n",
       "       [2000.67],\n",
       "       [2000.75],\n",
       "       [2000.83],\n",
       "       [2000.92],\n",
       "       [2001.  ],\n",
       "       [2001.08],\n",
       "       [2001.17],\n",
       "       [2001.25],\n",
       "       [2001.33],\n",
       "       [2001.42],\n",
       "       [2001.5 ],\n",
       "       [2001.5 ],\n",
       "       [2001.58],\n",
       "       [2001.67],\n",
       "       [2001.75],\n",
       "       [2001.77],\n",
       "       [2002.08],\n",
       "       [2002.08],\n",
       "       [2002.25],\n",
       "       [2002.33],\n",
       "       [2002.42],\n",
       "       [2002.58],\n",
       "       [2002.75],\n",
       "       [2003.17],\n",
       "       [2003.25],\n",
       "       [2003.33],\n",
       "       [2003.42],\n",
       "       [2003.5 ],\n",
       "       [2003.58],\n",
       "       [2003.67],\n",
       "       [2003.75],\n",
       "       [2003.83],\n",
       "       [2003.99],\n",
       "       [2004.  ],\n",
       "       [2004.08],\n",
       "       [2004.17],\n",
       "       [2004.33],\n",
       "       [2004.42],\n",
       "       [2004.5 ],\n",
       "       [2005.25],\n",
       "       [2005.42],\n",
       "       [2005.83],\n",
       "       [2005.92],\n",
       "       [2006.17],\n",
       "       [2006.33],\n",
       "       [2006.5 ],\n",
       "       [2006.67],\n",
       "       [2006.75],\n",
       "       [2006.83],\n",
       "       [2006.99],\n",
       "       [2007.  ],\n",
       "       [2007.08],\n",
       "       [2007.17],\n",
       "       [2007.33],\n",
       "       [2007.5 ],\n",
       "       [2007.67],\n",
       "       [2007.75],\n",
       "       [2007.83],\n",
       "       [2007.92],\n",
       "       [2008.  ],\n",
       "       [2008.08],\n",
       "       [2008.33],\n",
       "       [2008.5 ],\n",
       "       [2008.58],\n",
       "       [2008.67],\n",
       "       [2008.83],\n",
       "       [2008.92],\n",
       "       [2009.  ],\n",
       "       [2009.08],\n",
       "       [2009.25],\n",
       "       [2009.42],\n",
       "       [2009.5 ],\n",
       "       [2009.58],\n",
       "       [2009.75],\n",
       "       [2009.92],\n",
       "       [2010.  ],\n",
       "       [2010.08],\n",
       "       [2010.17],\n",
       "       [2010.33],\n",
       "       [2010.5 ],\n",
       "       [2010.58],\n",
       "       [2010.75],\n",
       "       [2010.83],\n",
       "       [2010.92],\n",
       "       [2011.  ],\n",
       "       [2011.08],\n",
       "       [2011.33],\n",
       "       [2011.42],\n",
       "       [2011.67],\n",
       "       [2011.75],\n",
       "       [2012.  ],\n",
       "       [2012.08],\n",
       "       [2012.25],\n",
       "       [2012.33],\n",
       "       [2012.58],\n",
       "       [2012.67],\n",
       "       [2012.83],\n",
       "       [2013.  ],\n",
       "       [2013.08],\n",
       "       [2013.33],\n",
       "       [2013.42],\n",
       "       [2013.58],\n",
       "       [2013.67],\n",
       "       [2013.75],\n",
       "       [2013.83],\n",
       "       [2013.92],\n",
       "       [2014.08],\n",
       "       [2014.17],\n",
       "       [2014.25],\n",
       "       [2014.42],\n",
       "       [2014.58],\n",
       "       [2014.67],\n",
       "       [2014.83],\n",
       "       [2015.  ],\n",
       "       [2015.08],\n",
       "       [2015.25],\n",
       "       [2015.33],\n",
       "       [2015.5 ],\n",
       "       [2015.58],\n",
       "       [2015.67],\n",
       "       [2015.75],\n",
       "       [2015.83],\n",
       "       [2015.92]], dtype=float32)"
      ]
     },
     "execution_count": 102,
     "metadata": {},
     "output_type": "execute_result"
    }
   ],
   "source": [
    "X"
   ]
  },
  {
   "cell_type": "code",
   "execution_count": 103,
   "metadata": {},
   "outputs": [],
   "source": [
    "X_train, X_test, y_train, y_test = train_test_split(X, y, shuffle = False) #섞지 않는 이유, 그래프를 그릴 목적"
   ]
  },
  {
   "cell_type": "markdown",
   "metadata": {},
   "source": [
    "##### 3.2.5.5.4. 모델 훈련 및 평가"
   ]
  },
  {
   "cell_type": "code",
   "execution_count": 104,
   "metadata": {},
   "outputs": [],
   "source": [
    "from sklearn.tree import DecisionTreeRegressor\n",
    "from sklearn.ensemble import RandomForestRegressor"
   ]
  },
  {
   "cell_type": "code",
   "execution_count": 105,
   "metadata": {},
   "outputs": [],
   "source": [
    "tree_reg = DecisionTreeRegressor().fit(X_train, y_train)"
   ]
  },
  {
   "cell_type": "code",
   "execution_count": 106,
   "metadata": {},
   "outputs": [
    {
     "data": {
      "text/plain": [
       "(1.0, -14.414393924451142)"
      ]
     },
     "execution_count": 106,
     "metadata": {},
     "output_type": "execute_result"
    }
   ],
   "source": [
    "tree_reg.score(X_train, y_train), tree_reg.score(X_test, y_test)"
   ]
  },
  {
   "cell_type": "markdown",
   "metadata": {},
   "source": [
    "regressor를 사용하고 시험 점수를 봤는데... (-14.4로 나왔다) R^2가 -가 나온 것은 (너무 틀리면 -가 나오기도) --> 0으로 보면 된다.\n",
    "\n",
    "즉... R^2 <=0 일수도 있다. (외삽의 결과가 좋지 않다는 의미이다)"
   ]
  },
  {
   "cell_type": "code",
   "execution_count": 107,
   "metadata": {},
   "outputs": [],
   "source": [
    "y_train_pred = tree_reg.predict(X_train)\n",
    "y_test_pred = tree_reg.predict(X_test)"
   ]
  },
  {
   "cell_type": "code",
   "execution_count": 108,
   "metadata": {
    "scrolled": false
   },
   "outputs": [
    {
     "data": {
      "text/plain": [
       "[<matplotlib.lines.Line2D at 0x267d29639e8>]"
      ]
     },
     "execution_count": 108,
     "metadata": {},
     "output_type": "execute_result"
    },
    {
     "data": {
      "image/png": "[encoded data removed]",
      "text/plain": [
       "<Figure size 432x288 with 1 Axes>"
      ]
     },
     "metadata": {
      "needs_background": "light"
     },
     "output_type": "display_data"
    }
   ],
   "source": [
    "graph = ram_price.set_index('date').plot(logy=True)\n",
    "graph.plot(X_train.flatten(), y_train_pred, color = 'g')\n",
    "graph.plot(X_test.flatten(), y_test_pred, color ='r')"
   ]
  },
  {
   "cell_type": "markdown",
   "metadata": {},
   "source": [
    "* 그래프의 해석\n",
    "\n",
    "    1) 초록색은 훈련데이터로 예측한 그래프이고, 초록색 밑에 파란색이 깔려 있는 것이다.\n",
    "    \n",
    "    2) 파란색은 원본데이터이다.\n",
    "    \n",
    "    3) 훈련데이터 (초록색)은 원본인 파란색과 완벽하게 일치한다 (훈련 스코어가 1.0인 이유) \n",
    "    \n",
    "    4) 하지만 외삽을 한 시험점수는 마지막값을 그대로 사용하는 것이다 (빨간 라인)"
   ]
  },
  {
   "cell_type": "markdown",
   "metadata": {},
   "source": [
    "정리해보면\n",
    "\n",
    "randomforest에서 회귀를 사용하는 경우에는 훈련 때의 최대, 최소를 벗어나는 경우에는 예측을 아예 할 수가 없다."
   ]
  },
  {
   "cell_type": "markdown",
   "metadata": {},
   "source": [
    "#### 외삽의 문제를 해결하는 방법 -> 선형모델\n",
    "\n",
    "선형모델은 외삽의 문제를 겪지 않기 때문에 RandomForest로 하지 않고 선형모델을 적용한다."
   ]
  },
  {
   "cell_type": "markdown",
   "metadata": {},
   "source": [
    "### 3.2.6. 외삽을 위한 선형모델"
   ]
  },
  {
   "cell_type": "markdown",
   "metadata": {},
   "source": [
    "#### 3.2.6.1. 모델 훈련 및 평가"
   ]
  },
  {
   "cell_type": "code",
   "execution_count": 109,
   "metadata": {},
   "outputs": [],
   "source": [
    "from sklearn.linear_model import Ridge"
   ]
  },
  {
   "cell_type": "code",
   "execution_count": 110,
   "metadata": {},
   "outputs": [
    {
     "data": {
      "text/plain": [
       "(0.09387412586451915, -1.6896646873064077e+17)"
      ]
     },
     "execution_count": 110,
     "metadata": {},
     "output_type": "execute_result"
    }
   ],
   "source": [
    "ridge = Ridge(alpha = 1.0).fit(X_train, y_train)\n",
    "ridge.score(X_train, y_train),ridge.score(X_test, y_test)"
   ]
  },
  {
   "cell_type": "markdown",
   "metadata": {},
   "source": [
    "0.093874125864519153, -1.6896646873064077e+17) 훈련점수도 낮고, 시험점수도 낮다..."
   ]
  },
  {
   "cell_type": "code",
   "execution_count": 111,
   "metadata": {},
   "outputs": [],
   "source": [
    "y2_train_pred = ridge.predict(X_train)\n",
    "y2_test_pred = ridge.predict(X_test)"
   ]
  },
  {
   "cell_type": "code",
   "execution_count": 112,
   "metadata": {},
   "outputs": [
    {
     "data": {
      "text/plain": [
       "[<matplotlib.lines.Line2D at 0x267d4a7c2b0>]"
      ]
     },
     "execution_count": 112,
     "metadata": {},
     "output_type": "execute_result"
    },
    {
     "data": {
      "image/png": "[encoded data removed]",
      "text/plain": [
       "<Figure size 432x288 with 1 Axes>"
      ]
     },
     "metadata": {
      "needs_background": "light"
     },
     "output_type": "display_data"
    }
   ],
   "source": [
    "graph = ram_price.set_index('date').plot(logy=True)\n",
    "graph.plot(X_train.flatten(), y2_train_pred, color = 'g')\n",
    "graph.plot(X_test.flatten(), y2_test_pred, color ='r')"
   ]
  },
  {
   "cell_type": "markdown",
   "metadata": {},
   "source": [
    "타켓변수를 로그변환을 해야 선형모델에 적절하므로, 모델 훈련할 때 로그변환을 하는 것을 잊지 않는다"
   ]
  },
  {
   "cell_type": "code",
   "execution_count": 113,
   "metadata": {},
   "outputs": [],
   "source": [
    "logy_train = np.log(y_train)\n",
    "logy_test = np.log(y_test)"
   ]
  },
  {
   "cell_type": "code",
   "execution_count": 114,
   "metadata": {},
   "outputs": [
    {
     "data": {
      "text/plain": [
       "(0.9686154682995611, 0.3752057284252303)"
      ]
     },
     "execution_count": 114,
     "metadata": {},
     "output_type": "execute_result"
    }
   ],
   "source": [
    "ridge = Ridge(alpha = 1.0).fit(X_train, logy_train)\n",
    "ridge.score(X_train, logy_train),ridge.score(X_test, logy_test)"
   ]
  },
  {
   "cell_type": "code",
   "execution_count": 115,
   "metadata": {},
   "outputs": [],
   "source": [
    "logy_train_pred = ridge.predict(X_train)\n",
    "logy_test_pred = ridge.predict(X_test)"
   ]
  },
  {
   "cell_type": "code",
   "execution_count": 116,
   "metadata": {},
   "outputs": [
    {
     "data": {
      "text/plain": [
       "[<matplotlib.lines.Line2D at 0x267d4b00518>]"
      ]
     },
     "execution_count": 116,
     "metadata": {},
     "output_type": "execute_result"
    },
    {
     "data": {
      "image/png": "[encoded data removed]",
      "text/plain": [
       "<Figure size 432x288 with 1 Axes>"
      ]
     },
     "metadata": {
      "needs_background": "light"
     },
     "output_type": "display_data"
    }
   ],
   "source": [
    "log_graph = ram_price.set_index('date').plot(logy=True)\n",
    "log_graph.plot(X_train.flatten(), np.exp(logy_train_pred), color = 'g')\n",
    "log_graph.plot(X_test.flatten(), np.exp(logy_test_pred), color ='r')"
   ]
  },
  {
   "cell_type": "markdown",
   "metadata": {},
   "source": [
    "#### 그래프의 해석\n",
    "    1) 파란색 : 원본 데이터\n",
    "    2) 초록색 : train 데이터로 모델 훈련한 결과\n",
    "    3) 빨간색 : test 데이터로 예측한 결과 \n",
    "RandomForest의 외삽의 문제와는 달리 외삽의 효과가 개선된 것을 확인할 수 있다."
   ]
  },
  {
   "cell_type": "markdown",
   "metadata": {},
   "source": [
    "### 3.2.7. GBRT - Gradient Boosting Regression Tree (p122)"
   ]
  },
  {
   "cell_type": "markdown",
   "metadata": {},
   "source": [
    "#### 3.2.7.1. 라이브러리 적재"
   ]
  },
  {
   "cell_type": "code",
   "execution_count": 117,
   "metadata": {},
   "outputs": [],
   "source": [
    "from sklearn.ensemble import GradientBoostingClassifier"
   ]
  },
  {
   "cell_type": "code",
   "execution_count": 118,
   "metadata": {},
   "outputs": [],
   "source": [
    "? GradientBoostingClassifier  \n",
    "\n",
    "# 모델에 대한 도움말 확인"
   ]
  },
  {
   "cell_type": "markdown",
   "metadata": {},
   "source": [
    "#### 3.2.7.2. 데이터 준비"
   ]
  },
  {
   "cell_type": "code",
   "execution_count": 119,
   "metadata": {},
   "outputs": [],
   "source": [
    "y = cancer['type']\n",
    "X = cancer.values[:, 1:].astype('float32')"
   ]
  },
  {
   "cell_type": "code",
   "execution_count": 120,
   "metadata": {},
   "outputs": [],
   "source": [
    "X_train, X_test, y_train, y_test = train_test_split(X, y)"
   ]
  },
  {
   "cell_type": "markdown",
   "metadata": {},
   "source": [
    "#### 3.2.7.3. 모델 훈련 및 평가"
   ]
  },
  {
   "cell_type": "code",
   "execution_count": 121,
   "metadata": {},
   "outputs": [],
   "source": [
    "gbrt = GradientBoostingClassifier(n_estimators  = 100, max_depth= 3, learning_rate= 0.1)\n",
    "  # learning_rate : 이전 오차를 얼마나 강하게 보정하는가 라는 의미"
   ]
  },
  {
   "cell_type": "code",
   "execution_count": 122,
   "metadata": {},
   "outputs": [
    {
     "data": {
      "text/plain": [
       "GradientBoostingClassifier(criterion='friedman_mse', init=None,\n",
       "              learning_rate=0.1, loss='deviance', max_depth=3,\n",
       "              max_features=None, max_leaf_nodes=None,\n",
       "              min_impurity_decrease=0.0, min_impurity_split=None,\n",
       "              min_samples_leaf=1, min_samples_split=2,\n",
       "              min_weight_fraction_leaf=0.0, n_estimators=100,\n",
       "              n_iter_no_change=None, presort='auto', random_state=None,\n",
       "              subsample=1.0, tol=0.0001, validation_fraction=0.1,\n",
       "              verbose=0, warm_start=False)"
      ]
     },
     "execution_count": 122,
     "metadata": {},
     "output_type": "execute_result"
    }
   ],
   "source": [
    "gbrt.fit(X_train, y_train)"
   ]
  },
  {
   "cell_type": "code",
   "execution_count": 123,
   "metadata": {},
   "outputs": [
    {
     "data": {
      "text/plain": [
       "(1.0, 0.916083916083916)"
      ]
     },
     "execution_count": 123,
     "metadata": {},
     "output_type": "execute_result"
    }
   ],
   "source": [
    "gbrt.score(X_train, y_train), gbrt.score(X_test, y_test)"
   ]
  },
  {
   "cell_type": "markdown",
   "metadata": {},
   "source": [
    "위 평가 결과와 randomforest의 평가결과와 비교를 해본다.\n",
    "\n",
    "Gradient Boosting Regression Tree 의 적용은 randomforest의 결과를 개선해보려고 할 때, 적용해볼 수 있으나\n",
    "\n",
    "파라미터의 조절이 어렵다는 특징이 있으나, 종종 randomforest보도 좋은 결과를 얻기도 한다."
   ]
  },
  {
   "cell_type": "code",
   "execution_count": 124,
   "metadata": {},
   "outputs": [
    {
     "name": "stderr",
     "output_type": "stream",
     "text": [
      "C:\\Users\\jhhong\\Anaconda3\\lib\\site-packages\\sklearn\\ensemble\\forest.py:246: FutureWarning: The default value of n_estimators will change from 10 in version 0.20 to 100 in 0.22.\n",
      "  \"10 in version 0.20 to 100 in 0.22.\", FutureWarning)\n"
     ]
    },
    {
     "data": {
      "text/plain": [
       "(1.0, 0.916083916083916)"
      ]
     },
     "execution_count": 124,
     "metadata": {},
     "output_type": "execute_result"
    }
   ],
   "source": [
    "forest = RandomForestClassifier()\n",
    "forest.fit(X_train, y_train)\n",
    "forest.score(X_train, y_train), forest.score(X_test, y_test)"
   ]
  },
  {
   "cell_type": "markdown",
   "metadata": {},
   "source": [
    "위 결과의 해석\n",
    "\n",
    "gbrt는 설정에 민감하다. 위 결과를 보면 (1.0, 0.972027972027972) <-- gbrt는 과대적합도 있고, 성능은 R.F와 비슷하다고 해석한다 (0.9953051643192489, 0.965034965034965)\n",
    "\n",
    "bbrt에 과대적합이 발생하는 이유 -> 모델이 복잡하기 때문에... (즉 파라미터를 조정해본다) 파라미터 (n_estimators, max_depth, learning_rate)"
   ]
  },
  {
   "cell_type": "markdown",
   "metadata": {},
   "source": [
    "### 3.2.8. GBRT의 파라미터 변경"
   ]
  },
  {
   "cell_type": "code",
   "execution_count": 124,
   "metadata": {},
   "outputs": [
    {
     "data": {
      "text/plain": [
       "(0.9929577464788732, 0.951048951048951)"
      ]
     },
     "execution_count": 124,
     "metadata": {},
     "output_type": "execute_result"
    }
   ],
   "source": [
    "gbrt = GradientBoostingClassifier(n_estimators  = 100, max_depth= 1, learning_rate= 0.1)\n",
    "gbrt.fit(X_train, y_train)\n",
    "gbrt.score(X_train, y_train), gbrt.score(X_test, y_test)"
   ]
  },
  {
   "cell_type": "code",
   "execution_count": 125,
   "metadata": {},
   "outputs": [
    {
     "data": {
      "text/plain": [
       "(0.9366197183098591, 0.8951048951048951)"
      ]
     },
     "execution_count": 125,
     "metadata": {},
     "output_type": "execute_result"
    }
   ],
   "source": [
    "gbrt = GradientBoostingClassifier(n_estimators  = 10, max_depth= 1, learning_rate= 0.1)\n",
    "gbrt.fit(X_train, y_train)\n",
    "gbrt.score(X_train, y_train), gbrt.score(X_test, y_test)"
   ]
  },
  {
   "cell_type": "code",
   "execution_count": 126,
   "metadata": {},
   "outputs": [
    {
     "data": {
      "text/plain": [
       "(0.971830985915493, 0.958041958041958)"
      ]
     },
     "execution_count": 126,
     "metadata": {},
     "output_type": "execute_result"
    }
   ],
   "source": [
    "gbrt = GradientBoostingClassifier(n_estimators  = 10, max_depth= 1, learning_rate= 0.5)\n",
    "gbrt.fit(X_train, y_train)\n",
    "gbrt.score(X_train, y_train), gbrt.score(X_test, y_test)"
   ]
  },
  {
   "cell_type": "markdown",
   "metadata": {},
   "source": [
    "매개변수를 설정하는 것이 민감한 모델인 경우에는, 설정하는 것이 부담이되고, 일이 될 수 있다.\n",
    "\n",
    "-> '그리드 서치'를 활용한다"
   ]
  },
  {
   "cell_type": "markdown",
   "metadata": {},
   "source": [
    "### 3.2.9. GBRT에 그리드 서치의 적용"
   ]
  },
  {
   "cell_type": "markdown",
   "metadata": {},
   "source": [
    "그리드 탐색을 활용한 모델 최적 설정 찾기 (p337)"
   ]
  },
  {
   "cell_type": "code",
   "execution_count": 127,
   "metadata": {},
   "outputs": [],
   "source": [
    "set_range = {\n",
    "    'n_estimators' : list(range(50,550,50)),  # 50, 100, 150, ..., 550까지\n",
    "    'max_depth' : [1, 2, 3, 4], \n",
    "    'learning_rate' : [0.001, 0.01, 0.1, 1., 10.] # 경험적으로 로그스케일이 유의미한 차이를 아는데 도움이 되었다\n",
    "} # 설정범위"
   ]
  },
  {
   "cell_type": "markdown",
   "metadata": {},
   "source": [
    "#### 3.2.9.1. 그리드 서치 라이브러리의 적재"
   ]
  },
  {
   "cell_type": "code",
   "execution_count": 128,
   "metadata": {},
   "outputs": [],
   "source": [
    "from sklearn.model_selection import GridSearchCV"
   ]
  },
  {
   "cell_type": "markdown",
   "metadata": {},
   "source": [
    "#### 3.2.9.2. 그리드 서치의 실행"
   ]
  },
  {
   "cell_type": "code",
   "execution_count": 129,
   "metadata": {},
   "outputs": [
    {
     "name": "stderr",
     "output_type": "stream",
     "text": [
      "C:\\Users\\jhhong\\Anaconda3\\lib\\site-packages\\sklearn\\model_selection\\_split.py:2053: FutureWarning: You should specify a value for 'cv' instead of relying on the default value. The default value will change from 3 to 5 in version 0.22.\n",
      "  warnings.warn(CV_WARNING, FutureWarning)\n",
      "C:\\Users\\jhhong\\Anaconda3\\lib\\site-packages\\sklearn\\model_selection\\_search.py:841: DeprecationWarning: The default of the `iid` parameter will change from True to False in version 0.22 and will be removed in 0.24. This will change numeric results when test-set sizes are unequal.\n",
      "  DeprecationWarning)\n"
     ]
    },
    {
     "data": {
      "text/plain": [
       "GridSearchCV(cv='warn', error_score='raise-deprecating',\n",
       "       estimator=GradientBoostingClassifier(criterion='friedman_mse', init=None,\n",
       "              learning_rate=0.5, loss='deviance', max_depth=1,\n",
       "              max_features=None, max_leaf_nodes=None,\n",
       "              min_impurity_decrease=0.0, min_impurity_split=None,\n",
       "              min_samples_leaf=1, min_sampl...      subsample=1.0, tol=0.0001, validation_fraction=0.1,\n",
       "              verbose=0, warm_start=False),\n",
       "       fit_params=None, iid='warn', n_jobs=None,\n",
       "       param_grid={'n_estimators': [50, 100, 150, 200, 250, 300, 350, 400, 450, 500], 'max_depth': [1, 2, 3, 4], 'learning_rate': [0.001, 0.01, 0.1, 1.0, 10.0]},\n",
       "       pre_dispatch='2*n_jobs', refit=True, return_train_score='warn',\n",
       "       scoring=None, verbose=0)"
      ]
     },
     "execution_count": 129,
     "metadata": {},
     "output_type": "execute_result"
    }
   ],
   "source": [
    "grid_search = GridSearchCV(estimator=gbrt, param_grid= set_range) \n",
    "  # gbrt : 평가모델을 의미, set_range : 설정조합\n",
    "grid_search.fit(X_train, y_train) \n",
    "  # 모델을 훈련하듯이 fit을 한다 (조합을 탐색하므로 시간이 걸릴 수 있다)"
   ]
  },
  {
   "cell_type": "markdown",
   "metadata": {},
   "source": [
    "#### 3.2.9.3. 그리드 서치 실행 결과의 확인"
   ]
  },
  {
   "cell_type": "code",
   "execution_count": 130,
   "metadata": {},
   "outputs": [
    {
     "data": {
      "text/plain": [
       "0.9647887323943662"
      ]
     },
     "execution_count": 130,
     "metadata": {},
     "output_type": "execute_result"
    }
   ],
   "source": [
    "grid_search.best_score_ # 최적의 평가결과가 무엇인지 확인"
   ]
  },
  {
   "cell_type": "code",
   "execution_count": 131,
   "metadata": {},
   "outputs": [
    {
     "data": {
      "text/plain": [
       "{'learning_rate': 1.0, 'max_depth': 1, 'n_estimators': 50}"
      ]
     },
     "execution_count": 131,
     "metadata": {},
     "output_type": "execute_result"
    }
   ],
   "source": [
    "grid_search.best_params_ # 최적의 결과를 얻는 파라미터가 무엇인지 확인"
   ]
  },
  {
   "cell_type": "markdown",
   "metadata": {},
   "source": [
    "#### 3.2.9.4. 최적의 모델을 적용"
   ]
  },
  {
   "cell_type": "code",
   "execution_count": 132,
   "metadata": {},
   "outputs": [
    {
     "data": {
      "text/plain": [
       "(1.0, 0.958041958041958)"
      ]
     },
     "execution_count": 132,
     "metadata": {},
     "output_type": "execute_result"
    }
   ],
   "source": [
    "best_model = grid_search.best_estimator_\n",
    "best_model.score(X_train, y_train), best_model.score(X_test, y_test)"
   ]
  },
  {
   "cell_type": "markdown",
   "metadata": {},
   "source": [
    "위에 제일 상단의 best_score에는 '0.9647887323943662'였는데...\n",
    "\n",
    "하단의 내용에는 (1.0, 0.97202797202797198)으로 나온다 이유는\n",
    "\n",
    "그리드 탐색에는 훈련데이터만 가지고 사용한 것이고...테스트 데이터로 평가를 한 결과가 '0.972027972027972' 이기 때문"
   ]
  },
  {
   "cell_type": "markdown",
   "metadata": {},
   "source": [
    "### 최적의 조합을 찾는 방법은 알았는데, 검증의 효과를 더 개선하고 싶다 (p324)\n",
    "### 교차검증을 활용해본다."
   ]
  },
  {
   "cell_type": "markdown",
   "metadata": {},
   "source": [
    "### 3.2.10. 교차검증"
   ]
  },
  {
   "cell_type": "markdown",
   "metadata": {},
   "source": [
    "#### 3.2.10.1. 라이브러리 적재"
   ]
  },
  {
   "cell_type": "code",
   "execution_count": 133,
   "metadata": {},
   "outputs": [],
   "source": [
    "from sklearn.model_selection import cross_val_score"
   ]
  },
  {
   "cell_type": "markdown",
   "metadata": {},
   "source": [
    "#### 3.2.10.2. 교차검증 실행"
   ]
  },
  {
   "cell_type": "code",
   "execution_count": 134,
   "metadata": {},
   "outputs": [],
   "source": [
    "scores = cross_val_score(estimator=gbrt, X = X, y = y, cv = 3) \n",
    "  #  대상모델은 gbrt, CV가 train, test 로 나누므로, X_train, y_train으로 하지 않고, 통째로 X,y 넣어준다"
   ]
  },
  {
   "cell_type": "markdown",
   "metadata": {},
   "source": [
    "#### 3.2.10.3. 교차검증의 평가"
   ]
  },
  {
   "cell_type": "code",
   "execution_count": 135,
   "metadata": {},
   "outputs": [
    {
     "data": {
      "text/plain": [
       "array([0.93157895, 0.95263158, 0.95238095])"
      ]
     },
     "execution_count": 135,
     "metadata": {},
     "output_type": "execute_result"
    }
   ],
   "source": [
    "scores # 훈련을 3번 한 뒤에 각 test score를 아래에 보여준다"
   ]
  },
  {
   "cell_type": "code",
   "execution_count": 136,
   "metadata": {},
   "outputs": [
    {
     "data": {
      "text/plain": [
       "0.945530492898914"
      ]
     },
     "execution_count": 136,
     "metadata": {},
     "output_type": "execute_result"
    }
   ],
   "source": [
    "np.mean(scores)"
   ]
  },
  {
   "cell_type": "markdown",
   "metadata": {},
   "source": [
    "#### 3.2.10.4. 교차검증 파라미터의 변경"
   ]
  },
  {
   "cell_type": "code",
   "execution_count": 137,
   "metadata": {},
   "outputs": [],
   "source": [
    "scores = cross_val_score(estimator=gbrt, X = X, y = y, cv = 5) "
   ]
  },
  {
   "cell_type": "code",
   "execution_count": 138,
   "metadata": {},
   "outputs": [
    {
     "data": {
      "text/plain": [
       "array([0.93043478, 0.93043478, 0.98230088, 0.95575221, 0.9380531 ])"
      ]
     },
     "execution_count": 138,
     "metadata": {},
     "output_type": "execute_result"
    }
   ],
   "source": [
    "scores # cv = 5인경우 (80%를 훈련데이터로 쓸 수 있기 때문에 성능이 좋아진다 cv=3보다)"
   ]
  },
  {
   "cell_type": "code",
   "execution_count": 139,
   "metadata": {},
   "outputs": [
    {
     "data": {
      "text/plain": [
       "0.9473951519815313"
      ]
     },
     "execution_count": 139,
     "metadata": {},
     "output_type": "execute_result"
    }
   ],
   "source": [
    "np.mean(scores)  # cv = 5인경우"
   ]
  },
  {
   "cell_type": "markdown",
   "metadata": {},
   "source": [
    "### 3.2.11. 교차검증과 그리드 서치의 결합"
   ]
  },
  {
   "cell_type": "markdown",
   "metadata": {},
   "source": [
    "#### 3.2.11.1. 교차검증을 적용한 그리드 서치 실행"
   ]
  },
  {
   "cell_type": "code",
   "execution_count": 140,
   "metadata": {},
   "outputs": [],
   "source": [
    "grid_search = GridSearchCV(estimator=gbrt, param_grid= set_range, cv = 10)"
   ]
  },
  {
   "cell_type": "markdown",
   "metadata": {},
   "source": [
    "#### 3.2.11.2. 최적의 결과를 찾는다"
   ]
  },
  {
   "cell_type": "code",
   "execution_count": 141,
   "metadata": {},
   "outputs": [
    {
     "name": "stderr",
     "output_type": "stream",
     "text": [
      "C:\\Users\\jhhong\\Anaconda3\\lib\\site-packages\\sklearn\\model_selection\\_search.py:841: DeprecationWarning: The default of the `iid` parameter will change from True to False in version 0.22 and will be removed in 0.24. This will change numeric results when test-set sizes are unequal.\n",
      "  DeprecationWarning)\n"
     ]
    },
    {
     "data": {
      "text/plain": [
       "GridSearchCV(cv=10, error_score='raise-deprecating',\n",
       "       estimator=GradientBoostingClassifier(criterion='friedman_mse', init=None,\n",
       "              learning_rate=0.5, loss='deviance', max_depth=1,\n",
       "              max_features=None, max_leaf_nodes=None,\n",
       "              min_impurity_decrease=0.0, min_impurity_split=None,\n",
       "              min_samples_leaf=1, min_sampl...      subsample=1.0, tol=0.0001, validation_fraction=0.1,\n",
       "              verbose=0, warm_start=False),\n",
       "       fit_params=None, iid='warn', n_jobs=None,\n",
       "       param_grid={'n_estimators': [50, 100, 150, 200, 250, 300, 350, 400, 450, 500], 'max_depth': [1, 2, 3, 4], 'learning_rate': [0.001, 0.01, 0.1, 1.0, 10.0]},\n",
       "       pre_dispatch='2*n_jobs', refit=True, return_train_score='warn',\n",
       "       scoring=None, verbose=0)"
      ]
     },
     "execution_count": 141,
     "metadata": {},
     "output_type": "execute_result"
    }
   ],
   "source": [
    "grid_search.fit(X_train, y_train) # 실행에 오랜 시간이 걸린다."
   ]
  },
  {
   "cell_type": "code",
   "execution_count": 142,
   "metadata": {},
   "outputs": [
    {
     "data": {
      "text/plain": [
       "0.9671361502347418"
      ]
     },
     "execution_count": 142,
     "metadata": {},
     "output_type": "execute_result"
    }
   ],
   "source": [
    "# CV를 적용한 결과를 확인하는 법\n",
    "grid_search.best_score_"
   ]
  },
  {
   "cell_type": "code",
   "execution_count": 143,
   "metadata": {},
   "outputs": [
    {
     "data": {
      "text/plain": [
       "{'learning_rate': 0.1, 'max_depth': 1, 'n_estimators': 350}"
      ]
     },
     "execution_count": 143,
     "metadata": {},
     "output_type": "execute_result"
    }
   ],
   "source": [
    "# 최적의 파라미터를 확인\n",
    "grid_search.best_params_"
   ]
  },
  {
   "cell_type": "code",
   "execution_count": 144,
   "metadata": {},
   "outputs": [],
   "source": [
    "# 모델에 최적의 파라미터를 적용\n",
    "best_model = grid_search.best_estimator_"
   ]
  },
  {
   "cell_type": "code",
   "execution_count": 145,
   "metadata": {},
   "outputs": [
    {
     "data": {
      "text/plain": [
       "(1.0, 0.965034965034965)"
      ]
     },
     "execution_count": 145,
     "metadata": {},
     "output_type": "execute_result"
    }
   ],
   "source": [
    "# 적용 결과의 확인\n",
    "best_model.score(X_train, y_train), best_model.score(X_test, y_test)"
   ]
  },
  {
   "cell_type": "markdown",
   "metadata": {},
   "source": [
    "## 3.3. Support Vector Machine (p134)"
   ]
  },
  {
   "cell_type": "markdown",
   "metadata": {},
   "source": [
    "### 3.3.1. 라이브러리의 적재"
   ]
  },
  {
   "cell_type": "code",
   "execution_count": 146,
   "metadata": {},
   "outputs": [],
   "source": [
    "from sklearn.svm import SVC, SVR # SVC 분류기, SVR 회귀"
   ]
  },
  {
   "cell_type": "code",
   "execution_count": 147,
   "metadata": {},
   "outputs": [],
   "source": [
    "SVC?"
   ]
  },
  {
   "cell_type": "markdown",
   "metadata": {},
   "source": [
    "### 3.3.2. 모델 선택"
   ]
  },
  {
   "cell_type": "code",
   "execution_count": 148,
   "metadata": {},
   "outputs": [],
   "source": [
    "svc = SVC(kernel ='rbf', C = 1.0, gamma = 'auto') \n",
    "  # kernel : 거리측정방식, rbf = 가우시안 커널\n",
    "  # C : 로지스틱 회의에서 사용한 것과 같음\n",
    "  # gamma가 커지면 거리의 효과가 작아진다"
   ]
  },
  {
   "cell_type": "markdown",
   "metadata": {},
   "source": [
    "### 3.3.3. 모델의 훈련 및 평가"
   ]
  },
  {
   "cell_type": "code",
   "execution_count": 149,
   "metadata": {},
   "outputs": [
    {
     "data": {
      "text/plain": [
       "SVC(C=1.0, cache_size=200, class_weight=None, coef0=0.0,\n",
       "  decision_function_shape='ovr', degree=3, gamma='auto', kernel='rbf',\n",
       "  max_iter=-1, probability=False, random_state=None, shrinking=True,\n",
       "  tol=0.001, verbose=False)"
      ]
     },
     "execution_count": 149,
     "metadata": {},
     "output_type": "execute_result"
    }
   ],
   "source": [
    "svc.fit(X_train, y_train)"
   ]
  },
  {
   "cell_type": "code",
   "execution_count": 150,
   "metadata": {},
   "outputs": [
    {
     "data": {
      "text/plain": [
       "(1.0, 0.6223776223776224)"
      ]
     },
     "execution_count": 150,
     "metadata": {},
     "output_type": "execute_result"
    }
   ],
   "source": [
    "svc.score(X_train, y_train), svc.score(X_test, y_test)"
   ]
  },
  {
   "cell_type": "markdown",
   "metadata": {},
   "source": [
    "* 성능 평가 결과를 보면 좋지 않다\n",
    "\n",
    "    (1.0, 0.6503496503496503) test 점수가 좋지 않다\n",
    "\n",
    "    왜 ? --> SVM은 설정이 까다로운 모델이면서 데이터에 영향을 많이 받는 모델이다. (거리를 활용하기 때문)"
   ]
  },
  {
   "cell_type": "markdown",
   "metadata": {},
   "source": [
    "* SVM은 거리를 기반으로 새 차원을 만들기 때문에 단위에 민감하다"
   ]
  },
  {
   "cell_type": "markdown",
   "metadata": {},
   "source": [
    "### 3.3.4. 데이터의 특징 확인"
   ]
  },
  {
   "cell_type": "code",
   "execution_count": 151,
   "metadata": {},
   "outputs": [
    {
     "data": {
      "text/html": [
       "<div>\n",
       "<style scoped>\n",
       "    .dataframe tbody tr th:only-of-type {\n",
       "        vertical-align: middle;\n",
       "    }\n",
       "\n",
       "    .dataframe tbody tr th {\n",
       "        vertical-align: top;\n",
       "    }\n",
       "\n",
       "    .dataframe thead th {\n",
       "        text-align: right;\n",
       "    }\n",
       "</style>\n",
       "<table border=\"1\" class=\"dataframe\">\n",
       "  <thead>\n",
       "    <tr style=\"text-align: right;\">\n",
       "      <th></th>\n",
       "      <th>type</th>\n",
       "      <th>mean radius</th>\n",
       "      <th>mean texture</th>\n",
       "      <th>mean perimeter</th>\n",
       "      <th>mean area</th>\n",
       "      <th>mean smoothness</th>\n",
       "      <th>mean compactness</th>\n",
       "      <th>mean concavity</th>\n",
       "      <th>mean concave points</th>\n",
       "      <th>mean symmetry</th>\n",
       "      <th>...</th>\n",
       "      <th>worst radius</th>\n",
       "      <th>worst texture</th>\n",
       "      <th>worst perimeter</th>\n",
       "      <th>worst area</th>\n",
       "      <th>worst smoothness</th>\n",
       "      <th>worst compactness</th>\n",
       "      <th>worst concavity</th>\n",
       "      <th>worst concave points</th>\n",
       "      <th>worst symmetry</th>\n",
       "      <th>worst fractal dimension</th>\n",
       "    </tr>\n",
       "  </thead>\n",
       "  <tbody>\n",
       "    <tr>\n",
       "      <th>0</th>\n",
       "      <td>malignant</td>\n",
       "      <td>17.99</td>\n",
       "      <td>10.38</td>\n",
       "      <td>122.80</td>\n",
       "      <td>1001.0</td>\n",
       "      <td>0.11840</td>\n",
       "      <td>0.27760</td>\n",
       "      <td>0.3001</td>\n",
       "      <td>0.14710</td>\n",
       "      <td>0.2419</td>\n",
       "      <td>...</td>\n",
       "      <td>25.38</td>\n",
       "      <td>17.33</td>\n",
       "      <td>184.60</td>\n",
       "      <td>2019.0</td>\n",
       "      <td>0.1622</td>\n",
       "      <td>0.6656</td>\n",
       "      <td>0.7119</td>\n",
       "      <td>0.2654</td>\n",
       "      <td>0.4601</td>\n",
       "      <td>0.11890</td>\n",
       "    </tr>\n",
       "    <tr>\n",
       "      <th>1</th>\n",
       "      <td>malignant</td>\n",
       "      <td>20.57</td>\n",
       "      <td>17.77</td>\n",
       "      <td>132.90</td>\n",
       "      <td>1326.0</td>\n",
       "      <td>0.08474</td>\n",
       "      <td>0.07864</td>\n",
       "      <td>0.0869</td>\n",
       "      <td>0.07017</td>\n",
       "      <td>0.1812</td>\n",
       "      <td>...</td>\n",
       "      <td>24.99</td>\n",
       "      <td>23.41</td>\n",
       "      <td>158.80</td>\n",
       "      <td>1956.0</td>\n",
       "      <td>0.1238</td>\n",
       "      <td>0.1866</td>\n",
       "      <td>0.2416</td>\n",
       "      <td>0.1860</td>\n",
       "      <td>0.2750</td>\n",
       "      <td>0.08902</td>\n",
       "    </tr>\n",
       "    <tr>\n",
       "      <th>2</th>\n",
       "      <td>malignant</td>\n",
       "      <td>19.69</td>\n",
       "      <td>21.25</td>\n",
       "      <td>130.00</td>\n",
       "      <td>1203.0</td>\n",
       "      <td>0.10960</td>\n",
       "      <td>0.15990</td>\n",
       "      <td>0.1974</td>\n",
       "      <td>0.12790</td>\n",
       "      <td>0.2069</td>\n",
       "      <td>...</td>\n",
       "      <td>23.57</td>\n",
       "      <td>25.53</td>\n",
       "      <td>152.50</td>\n",
       "      <td>1709.0</td>\n",
       "      <td>0.1444</td>\n",
       "      <td>0.4245</td>\n",
       "      <td>0.4504</td>\n",
       "      <td>0.2430</td>\n",
       "      <td>0.3613</td>\n",
       "      <td>0.08758</td>\n",
       "    </tr>\n",
       "    <tr>\n",
       "      <th>3</th>\n",
       "      <td>malignant</td>\n",
       "      <td>11.42</td>\n",
       "      <td>20.38</td>\n",
       "      <td>77.58</td>\n",
       "      <td>386.1</td>\n",
       "      <td>0.14250</td>\n",
       "      <td>0.28390</td>\n",
       "      <td>0.2414</td>\n",
       "      <td>0.10520</td>\n",
       "      <td>0.2597</td>\n",
       "      <td>...</td>\n",
       "      <td>14.91</td>\n",
       "      <td>26.50</td>\n",
       "      <td>98.87</td>\n",
       "      <td>567.7</td>\n",
       "      <td>0.2098</td>\n",
       "      <td>0.8663</td>\n",
       "      <td>0.6869</td>\n",
       "      <td>0.2575</td>\n",
       "      <td>0.6638</td>\n",
       "      <td>0.17300</td>\n",
       "    </tr>\n",
       "    <tr>\n",
       "      <th>4</th>\n",
       "      <td>malignant</td>\n",
       "      <td>20.29</td>\n",
       "      <td>14.34</td>\n",
       "      <td>135.10</td>\n",
       "      <td>1297.0</td>\n",
       "      <td>0.10030</td>\n",
       "      <td>0.13280</td>\n",
       "      <td>0.1980</td>\n",
       "      <td>0.10430</td>\n",
       "      <td>0.1809</td>\n",
       "      <td>...</td>\n",
       "      <td>22.54</td>\n",
       "      <td>16.67</td>\n",
       "      <td>152.20</td>\n",
       "      <td>1575.0</td>\n",
       "      <td>0.1374</td>\n",
       "      <td>0.2050</td>\n",
       "      <td>0.4000</td>\n",
       "      <td>0.1625</td>\n",
       "      <td>0.2364</td>\n",
       "      <td>0.07678</td>\n",
       "    </tr>\n",
       "  </tbody>\n",
       "</table>\n",
       "<p>5 rows × 31 columns</p>\n",
       "</div>"
      ],
      "text/plain": [
       "        type  mean radius  mean texture  mean perimeter  mean area  \\\n",
       "0  malignant        17.99         10.38          122.80     1001.0   \n",
       "1  malignant        20.57         17.77          132.90     1326.0   \n",
       "2  malignant        19.69         21.25          130.00     1203.0   \n",
       "3  malignant        11.42         20.38           77.58      386.1   \n",
       "4  malignant        20.29         14.34          135.10     1297.0   \n",
       "\n",
       "   mean smoothness  mean compactness  mean concavity  mean concave points  \\\n",
       "0          0.11840           0.27760          0.3001              0.14710   \n",
       "1          0.08474           0.07864          0.0869              0.07017   \n",
       "2          0.10960           0.15990          0.1974              0.12790   \n",
       "3          0.14250           0.28390          0.2414              0.10520   \n",
       "4          0.10030           0.13280          0.1980              0.10430   \n",
       "\n",
       "   mean symmetry  ...  worst radius  worst texture  worst perimeter  \\\n",
       "0         0.2419  ...         25.38          17.33           184.60   \n",
       "1         0.1812  ...         24.99          23.41           158.80   \n",
       "2         0.2069  ...         23.57          25.53           152.50   \n",
       "3         0.2597  ...         14.91          26.50            98.87   \n",
       "4         0.1809  ...         22.54          16.67           152.20   \n",
       "\n",
       "   worst area  worst smoothness  worst compactness  worst concavity  \\\n",
       "0      2019.0            0.1622             0.6656           0.7119   \n",
       "1      1956.0            0.1238             0.1866           0.2416   \n",
       "2      1709.0            0.1444             0.4245           0.4504   \n",
       "3       567.7            0.2098             0.8663           0.6869   \n",
       "4      1575.0            0.1374             0.2050           0.4000   \n",
       "\n",
       "   worst concave points  worst symmetry  worst fractal dimension  \n",
       "0                0.2654          0.4601                  0.11890  \n",
       "1                0.1860          0.2750                  0.08902  \n",
       "2                0.2430          0.3613                  0.08758  \n",
       "3                0.2575          0.6638                  0.17300  \n",
       "4                0.1625          0.2364                  0.07678  \n",
       "\n",
       "[5 rows x 31 columns]"
      ]
     },
     "execution_count": 151,
     "metadata": {},
     "output_type": "execute_result"
    }
   ],
   "source": [
    "cancer[:5]"
   ]
  },
  {
   "cell_type": "markdown",
   "metadata": {},
   "source": [
    "* 위 데이터의 특징을 보면\n",
    "\n",
    "    데이터의 각 스케일이 다르다 "
   ]
  },
  {
   "cell_type": "markdown",
   "metadata": {},
   "source": [
    "### 3.3.5. 데이터 전처리와 스케일 조정"
   ]
  },
  {
   "cell_type": "markdown",
   "metadata": {},
   "source": [
    "#### (p177) 데이터전처리와 스케일 조정\n",
    "\n",
    "랜덤포리스트는 (결정트리)는 이런 조정이 필요없다\n",
    "\n",
    "but SVM은 까다로워서 잘 맞춰줘야한다"
   ]
  },
  {
   "cell_type": "markdown",
   "metadata": {},
   "source": [
    "#### 3.3.5.1. 라이브러리의 적재 (MinMax Scaling)"
   ]
  },
  {
   "cell_type": "markdown",
   "metadata": {},
   "source": [
    "여러 스케일링 방법 중 (MinMax Scaling)을 적용함  - p179"
   ]
  },
  {
   "cell_type": "code",
   "execution_count": 152,
   "metadata": {},
   "outputs": [],
   "source": [
    "from sklearn.preprocessing import MinMaxScaler  # minmax scaling의 결과는 0과 1사이에 값이 분포한다"
   ]
  },
  {
   "cell_type": "markdown",
   "metadata": {},
   "source": [
    "#### 3.3.5.2. 스케일링 준비"
   ]
  },
  {
   "cell_type": "code",
   "execution_count": 153,
   "metadata": {},
   "outputs": [],
   "source": [
    "change_scale = MinMaxScaler().fit(X_train) # 단위변환기 -> 각 열별 최대, 최소를 구해서 저장하는 함수"
   ]
  },
  {
   "cell_type": "code",
   "execution_count": 154,
   "metadata": {},
   "outputs": [],
   "source": [
    "X_train_scaled = change_scale.transform(X_train) # 각 샘플에 스케일을 적용하는 것\n",
    "X_test_scaled = change_scale.transform(X_test)"
   ]
  },
  {
   "cell_type": "markdown",
   "metadata": {},
   "source": [
    "#### 3.3.5.3. 스케일링 적용 데이터 프레임의 확인"
   ]
  },
  {
   "cell_type": "code",
   "execution_count": 155,
   "metadata": {},
   "outputs": [
    {
     "data": {
      "text/html": [
       "<div>\n",
       "<style scoped>\n",
       "    .dataframe tbody tr th:only-of-type {\n",
       "        vertical-align: middle;\n",
       "    }\n",
       "\n",
       "    .dataframe tbody tr th {\n",
       "        vertical-align: top;\n",
       "    }\n",
       "\n",
       "    .dataframe thead th {\n",
       "        text-align: right;\n",
       "    }\n",
       "</style>\n",
       "<table border=\"1\" class=\"dataframe\">\n",
       "  <thead>\n",
       "    <tr style=\"text-align: right;\">\n",
       "      <th></th>\n",
       "      <th>mean radius</th>\n",
       "      <th>mean texture</th>\n",
       "      <th>mean perimeter</th>\n",
       "      <th>mean area</th>\n",
       "      <th>mean smoothness</th>\n",
       "      <th>mean compactness</th>\n",
       "      <th>mean concavity</th>\n",
       "      <th>mean concave points</th>\n",
       "      <th>mean symmetry</th>\n",
       "      <th>mean fractal dimension</th>\n",
       "      <th>...</th>\n",
       "      <th>worst radius</th>\n",
       "      <th>worst texture</th>\n",
       "      <th>worst perimeter</th>\n",
       "      <th>worst area</th>\n",
       "      <th>worst smoothness</th>\n",
       "      <th>worst compactness</th>\n",
       "      <th>worst concavity</th>\n",
       "      <th>worst concave points</th>\n",
       "      <th>worst symmetry</th>\n",
       "      <th>worst fractal dimension</th>\n",
       "    </tr>\n",
       "  </thead>\n",
       "  <tbody>\n",
       "    <tr>\n",
       "      <th>0</th>\n",
       "      <td>0.251677</td>\n",
       "      <td>0.203585</td>\n",
       "      <td>0.248755</td>\n",
       "      <td>0.144383</td>\n",
       "      <td>0.340977</td>\n",
       "      <td>0.216800</td>\n",
       "      <td>0.136715</td>\n",
       "      <td>0.152982</td>\n",
       "      <td>0.325758</td>\n",
       "      <td>0.183156</td>\n",
       "      <td>...</td>\n",
       "      <td>0.197793</td>\n",
       "      <td>0.208594</td>\n",
       "      <td>0.196889</td>\n",
       "      <td>0.094829</td>\n",
       "      <td>0.405666</td>\n",
       "      <td>0.256652</td>\n",
       "      <td>0.277636</td>\n",
       "      <td>0.336186</td>\n",
       "      <td>0.283912</td>\n",
       "      <td>0.193650</td>\n",
       "    </tr>\n",
       "    <tr>\n",
       "      <th>1</th>\n",
       "      <td>0.096822</td>\n",
       "      <td>0.283734</td>\n",
       "      <td>0.093470</td>\n",
       "      <td>0.049730</td>\n",
       "      <td>0.275165</td>\n",
       "      <td>0.119512</td>\n",
       "      <td>0.034653</td>\n",
       "      <td>0.028673</td>\n",
       "      <td>0.313131</td>\n",
       "      <td>0.289552</td>\n",
       "      <td>...</td>\n",
       "      <td>0.090344</td>\n",
       "      <td>0.358566</td>\n",
       "      <td>0.084490</td>\n",
       "      <td>0.038855</td>\n",
       "      <td>0.446609</td>\n",
       "      <td>0.107851</td>\n",
       "      <td>0.051190</td>\n",
       "      <td>0.085911</td>\n",
       "      <td>0.293967</td>\n",
       "      <td>0.199847</td>\n",
       "    </tr>\n",
       "    <tr>\n",
       "      <th>2</th>\n",
       "      <td>0.142465</td>\n",
       "      <td>0.312479</td>\n",
       "      <td>0.151942</td>\n",
       "      <td>0.075517</td>\n",
       "      <td>0.399476</td>\n",
       "      <td>0.326416</td>\n",
       "      <td>0.149649</td>\n",
       "      <td>0.131312</td>\n",
       "      <td>0.435354</td>\n",
       "      <td>0.306397</td>\n",
       "      <td>...</td>\n",
       "      <td>0.117024</td>\n",
       "      <td>0.310757</td>\n",
       "      <td>0.120939</td>\n",
       "      <td>0.049921</td>\n",
       "      <td>0.331044</td>\n",
       "      <td>0.246220</td>\n",
       "      <td>0.153035</td>\n",
       "      <td>0.272371</td>\n",
       "      <td>0.270899</td>\n",
       "      <td>0.175397</td>\n",
       "    </tr>\n",
       "    <tr>\n",
       "      <th>3</th>\n",
       "      <td>0.266859</td>\n",
       "      <td>0.373013</td>\n",
       "      <td>0.270736</td>\n",
       "      <td>0.157256</td>\n",
       "      <td>0.308026</td>\n",
       "      <td>0.306554</td>\n",
       "      <td>0.254217</td>\n",
       "      <td>0.174453</td>\n",
       "      <td>0.253535</td>\n",
       "      <td>0.205970</td>\n",
       "      <td>...</td>\n",
       "      <td>0.223741</td>\n",
       "      <td>0.382470</td>\n",
       "      <td>0.235931</td>\n",
       "      <td>0.115497</td>\n",
       "      <td>0.422175</td>\n",
       "      <td>0.359770</td>\n",
       "      <td>0.359744</td>\n",
       "      <td>0.405842</td>\n",
       "      <td>0.196569</td>\n",
       "      <td>0.225231</td>\n",
       "    </tr>\n",
       "    <tr>\n",
       "      <th>4</th>\n",
       "      <td>0.247759</td>\n",
       "      <td>0.236388</td>\n",
       "      <td>0.246052</td>\n",
       "      <td>0.138763</td>\n",
       "      <td>0.540489</td>\n",
       "      <td>0.316143</td>\n",
       "      <td>0.090909</td>\n",
       "      <td>0.148857</td>\n",
       "      <td>0.535354</td>\n",
       "      <td>0.334542</td>\n",
       "      <td>...</td>\n",
       "      <td>0.210949</td>\n",
       "      <td>0.276608</td>\n",
       "      <td>0.198973</td>\n",
       "      <td>0.099370</td>\n",
       "      <td>0.504061</td>\n",
       "      <td>0.187358</td>\n",
       "      <td>0.113658</td>\n",
       "      <td>0.276460</td>\n",
       "      <td>0.296727</td>\n",
       "      <td>0.257747</td>\n",
       "    </tr>\n",
       "  </tbody>\n",
       "</table>\n",
       "<p>5 rows × 30 columns</p>\n",
       "</div>"
      ],
      "text/plain": [
       "   mean radius  mean texture  mean perimeter  mean area  mean smoothness  \\\n",
       "0     0.251677      0.203585        0.248755   0.144383         0.340977   \n",
       "1     0.096822      0.283734        0.093470   0.049730         0.275165   \n",
       "2     0.142465      0.312479        0.151942   0.075517         0.399476   \n",
       "3     0.266859      0.373013        0.270736   0.157256         0.308026   \n",
       "4     0.247759      0.236388        0.246052   0.138763         0.540489   \n",
       "\n",
       "   mean compactness  mean concavity  mean concave points  mean symmetry  \\\n",
       "0          0.216800        0.136715             0.152982       0.325758   \n",
       "1          0.119512        0.034653             0.028673       0.313131   \n",
       "2          0.326416        0.149649             0.131312       0.435354   \n",
       "3          0.306554        0.254217             0.174453       0.253535   \n",
       "4          0.316143        0.090909             0.148857       0.535354   \n",
       "\n",
       "   mean fractal dimension  ...  worst radius  worst texture  worst perimeter  \\\n",
       "0                0.183156  ...      0.197793       0.208594         0.196889   \n",
       "1                0.289552  ...      0.090344       0.358566         0.084490   \n",
       "2                0.306397  ...      0.117024       0.310757         0.120939   \n",
       "3                0.205970  ...      0.223741       0.382470         0.235931   \n",
       "4                0.334542  ...      0.210949       0.276608         0.198973   \n",
       "\n",
       "   worst area  worst smoothness  worst compactness  worst concavity  \\\n",
       "0    0.094829          0.405666           0.256652         0.277636   \n",
       "1    0.038855          0.446609           0.107851         0.051190   \n",
       "2    0.049921          0.331044           0.246220         0.153035   \n",
       "3    0.115497          0.422175           0.359770         0.359744   \n",
       "4    0.099370          0.504061           0.187358         0.113658   \n",
       "\n",
       "   worst concave points  worst symmetry  worst fractal dimension  \n",
       "0              0.336186        0.283912                 0.193650  \n",
       "1              0.085911        0.293967                 0.199847  \n",
       "2              0.272371        0.270899                 0.175397  \n",
       "3              0.405842        0.196569                 0.225231  \n",
       "4              0.276460        0.296727                 0.257747  \n",
       "\n",
       "[5 rows x 30 columns]"
      ]
     },
     "execution_count": 155,
     "metadata": {},
     "output_type": "execute_result"
    }
   ],
   "source": [
    "pd.DataFrame(X_train_scaled, columns=cancer.columns[1:])[:5]"
   ]
  },
  {
   "cell_type": "markdown",
   "metadata": {},
   "source": [
    "### 3.3.6. 모델의 훈련 및 성과 평가 (스케일링의 효과 확인)"
   ]
  },
  {
   "cell_type": "code",
   "execution_count": 156,
   "metadata": {},
   "outputs": [
    {
     "data": {
      "text/plain": [
       "SVC(C=1.0, cache_size=200, class_weight=None, coef0=0.0,\n",
       "  decision_function_shape='ovr', degree=3, gamma='auto', kernel='rbf',\n",
       "  max_iter=-1, probability=False, random_state=None, shrinking=True,\n",
       "  tol=0.001, verbose=False)"
      ]
     },
     "execution_count": 156,
     "metadata": {},
     "output_type": "execute_result"
    }
   ],
   "source": [
    "svc.fit(X_train_scaled, y_train)"
   ]
  },
  {
   "cell_type": "code",
   "execution_count": 157,
   "metadata": {},
   "outputs": [
    {
     "data": {
      "text/plain": [
       "(0.9530516431924883, 0.9300699300699301)"
      ]
     },
     "execution_count": 157,
     "metadata": {},
     "output_type": "execute_result"
    }
   ],
   "source": [
    "svc.score(X_train_scaled, y_train), svc.score(X_test_scaled, y_test)"
   ]
  },
  {
   "cell_type": "markdown",
   "metadata": {},
   "source": [
    "* 결과의 해석\n",
    "\n",
    "    (0.9577464788732394, 0.9230769230769231) <-- 이 수치는 스크립트가 실행될 때마다 달라진다.\n",
    "\n",
    "    모델의 정확도가 개선되었다... 즉 SVM에게는 데이터의 전처리가 중요하다..."
   ]
  },
  {
   "cell_type": "markdown",
   "metadata": {},
   "source": [
    "### 3.3.7. SVM에 그리드 서치의 적용 "
   ]
  },
  {
   "cell_type": "markdown",
   "metadata": {},
   "source": [
    "#### 그리고 SVM은 파라미터의 설정도 중요하므로 그리드 서치도 해본다"
   ]
  },
  {
   "cell_type": "markdown",
   "metadata": {},
   "source": [
    "* cancer 데이터는 30차원의 선형모델도 좋은 성과가 나왔다 (즉... 선형성이 확인된 데이터다)\n",
    "\n",
    "    그러므로 SVM을 하면 선형모델보다 좋지 않을 수 있다.\n",
    "\n",
    "    따라서 비선형성이 강한 데이터 (boston과 같은)에서 SVM의 효과를 확인할 수 있을 것이다"
   ]
  },
  {
   "cell_type": "markdown",
   "metadata": {},
   "source": [
    "* 선형성이 강한 데이터셋이라면 그냥 선형모델을 쓰는 것이 낫다\n",
    "    \n",
    "    비선형적 데이터셋에 대해 적용하는 것이 SVM을 쓸만한 이유가 되는 것 (결정트리 모델군과도 비교할만하다)"
   ]
  },
  {
   "cell_type": "markdown",
   "metadata": {},
   "source": [
    "#### 3.3.7.1. 분석 데이터 준비"
   ]
  },
  {
   "cell_type": "code",
   "execution_count": 158,
   "metadata": {},
   "outputs": [],
   "source": [
    "y = boston['Price']\n",
    "X = boston.values[:, 1:].astype('float32')"
   ]
  },
  {
   "cell_type": "code",
   "execution_count": 159,
   "metadata": {},
   "outputs": [],
   "source": [
    "X_train, X_test, y_train, y_test = train_test_split(X, y)"
   ]
  },
  {
   "cell_type": "markdown",
   "metadata": {},
   "source": [
    "#### 3.3.7.2. 모델 훈련 및 평가"
   ]
  },
  {
   "cell_type": "code",
   "execution_count": 160,
   "metadata": {},
   "outputs": [],
   "source": [
    "change_scale = MinMaxScaler().fit(X_train)\n",
    "X_train_scaled = change_scale.transform(X_train)\n",
    "X_test_scaled = change_scale.transform(X_test)"
   ]
  },
  {
   "cell_type": "markdown",
   "metadata": {},
   "source": [
    "#### 3.3.7.3. 그리드 서치의 실행"
   ]
  },
  {
   "cell_type": "code",
   "execution_count": 161,
   "metadata": {},
   "outputs": [
    {
     "name": "stderr",
     "output_type": "stream",
     "text": [
      "C:\\Users\\jhhong\\Anaconda3\\lib\\site-packages\\sklearn\\model_selection\\_search.py:841: DeprecationWarning: The default of the `iid` parameter will change from True to False in version 0.22 and will be removed in 0.24. This will change numeric results when test-set sizes are unequal.\n",
      "  DeprecationWarning)\n"
     ]
    },
    {
     "data": {
      "text/plain": [
       "GridSearchCV(cv=5, error_score='raise-deprecating',\n",
       "       estimator=SVR(C=1.0, cache_size=200, coef0=0.0, degree=3, epsilon=0.1,\n",
       "  gamma='auto_deprecated', kernel='rbf', max_iter=-1, shrinking=True,\n",
       "  tol=0.001, verbose=False),\n",
       "       fit_params=None, iid='warn', n_jobs=None,\n",
       "       param_grid={'C': [0.001, 0.01, 0.1, 1.0, 10.0, 100.0, 1000.0], 'gamma': [0.001, 0.01, 0.1, 1.0, 10.0, 100.0, 1000.0]},\n",
       "       pre_dispatch='2*n_jobs', refit=True, return_train_score='warn',\n",
       "       scoring=None, verbose=0)"
      ]
     },
     "execution_count": 161,
     "metadata": {},
     "output_type": "execute_result"
    }
   ],
   "source": [
    "set_range = {  # 설정범위\n",
    "    'C' : [0.001, 0.01, 0.1, 1., 10., 100., 1000.],\n",
    "    'gamma' : [0.001, 0.01, 0.1, 1., 10., 100., 1000.]    \n",
    "} \n",
    "\n",
    "svm_gs = GridSearchCV(estimator=SVR(), param_grid= set_range, cv = 5)\n",
    "svm_gs.fit(X_train_scaled, y_train)"
   ]
  },
  {
   "cell_type": "code",
   "execution_count": 162,
   "metadata": {},
   "outputs": [
    {
     "data": {
      "text/plain": [
       "0.8965158020997448"
      ]
     },
     "execution_count": 162,
     "metadata": {},
     "output_type": "execute_result"
    }
   ],
   "source": [
    "# 최적의 평가결과를 확인\n",
    "svm_gs.best_score_"
   ]
  },
  {
   "cell_type": "code",
   "execution_count": 163,
   "metadata": {},
   "outputs": [
    {
     "data": {
      "text/plain": [
       "{'C': 100.0, 'gamma': 1.0}"
      ]
     },
     "execution_count": 163,
     "metadata": {},
     "output_type": "execute_result"
    }
   ],
   "source": [
    "# 최적의 파라미터를 확인\n",
    "svm_gs.best_params_"
   ]
  },
  {
   "cell_type": "markdown",
   "metadata": {},
   "source": [
    "#### 3.3.7.4. 모델에 최적 파라미터의 적용"
   ]
  },
  {
   "cell_type": "code",
   "execution_count": 164,
   "metadata": {},
   "outputs": [
    {
     "data": {
      "text/plain": [
       "(0.965384394598595, 0.7371856866197869)"
      ]
     },
     "execution_count": 164,
     "metadata": {},
     "output_type": "execute_result"
    }
   ],
   "source": [
    "best_svr = svm_gs.best_estimator_\n",
    "best_svr.score(X_train_scaled, y_train), best_svr.score(X_test_scaled, y_test)"
   ]
  },
  {
   "cell_type": "markdown",
   "metadata": {},
   "source": [
    "* 위 결과의 해석\n",
    "    \n",
    "    (0.89480571127930086, 0.77927993362036263) 이 점수 중 오른쪽은 결정트리가 못 넘었던 점수이다 \n",
    "    <-- 위 숫자는 실행할 때마다 변경될 것임\n",
    "\n",
    "    SVM은 까다롭지만, 좋은 결과를 내 줄 수 있는 모델이다"
   ]
  },
  {
   "cell_type": "code",
   "execution_count": 165,
   "metadata": {},
   "outputs": [],
   "source": [
    "# 그리드 서치에 대한 도움말 확인하기\n",
    "? GridSearchCV"
   ]
  },
  {
   "cell_type": "markdown",
   "metadata": {},
   "source": [
    "### 3.3.8. 다른 스케일링 기법의 확인"
   ]
  },
  {
   "cell_type": "markdown",
   "metadata": {},
   "source": [
    "#### 3.3.8.1. 정규분포"
   ]
  },
  {
   "cell_type": "code",
   "execution_count": 166,
   "metadata": {},
   "outputs": [],
   "source": [
    "from sklearn.preprocessing import StandardScaler"
   ]
  },
  {
   "cell_type": "code",
   "execution_count": 167,
   "metadata": {},
   "outputs": [],
   "source": [
    "change_scale_normal = StandardScaler().fit(X_train, y_train)\n",
    "X_train_normal = change_scale_normal.transform(X_train)"
   ]
  },
  {
   "cell_type": "code",
   "execution_count": 168,
   "metadata": {},
   "outputs": [
    {
     "data": {
      "text/html": [
       "<div>\n",
       "<style scoped>\n",
       "    .dataframe tbody tr th:only-of-type {\n",
       "        vertical-align: middle;\n",
       "    }\n",
       "\n",
       "    .dataframe tbody tr th {\n",
       "        vertical-align: top;\n",
       "    }\n",
       "\n",
       "    .dataframe thead th {\n",
       "        text-align: right;\n",
       "    }\n",
       "</style>\n",
       "<table border=\"1\" class=\"dataframe\">\n",
       "  <thead>\n",
       "    <tr style=\"text-align: right;\">\n",
       "      <th></th>\n",
       "      <th>0</th>\n",
       "      <th>1</th>\n",
       "      <th>2</th>\n",
       "      <th>3</th>\n",
       "      <th>4</th>\n",
       "      <th>5</th>\n",
       "      <th>6</th>\n",
       "      <th>7</th>\n",
       "      <th>8</th>\n",
       "      <th>9</th>\n",
       "      <th>10</th>\n",
       "      <th>11</th>\n",
       "      <th>12</th>\n",
       "    </tr>\n",
       "  </thead>\n",
       "  <tbody>\n",
       "    <tr>\n",
       "      <th>0</th>\n",
       "      <td>-0.387961</td>\n",
       "      <td>-0.483808</td>\n",
       "      <td>-1.026557</td>\n",
       "      <td>-0.271394</td>\n",
       "      <td>-0.362780</td>\n",
       "      <td>-1.020329</td>\n",
       "      <td>0.729251</td>\n",
       "      <td>-0.583419</td>\n",
       "      <td>-0.503101</td>\n",
       "      <td>-0.634147</td>\n",
       "      <td>-0.856576</td>\n",
       "      <td>0.433456</td>\n",
       "      <td>0.285269</td>\n",
       "    </tr>\n",
       "    <tr>\n",
       "      <th>1</th>\n",
       "      <td>-0.394771</td>\n",
       "      <td>-0.483808</td>\n",
       "      <td>0.413587</td>\n",
       "      <td>-0.271394</td>\n",
       "      <td>-1.005731</td>\n",
       "      <td>-0.385680</td>\n",
       "      <td>-0.922459</td>\n",
       "      <td>0.810566</td>\n",
       "      <td>-0.619937</td>\n",
       "      <td>-0.675917</td>\n",
       "      <td>-1.135758</td>\n",
       "      <td>0.433456</td>\n",
       "      <td>-0.318775</td>\n",
       "    </tr>\n",
       "    <tr>\n",
       "      <th>2</th>\n",
       "      <td>-0.112978</td>\n",
       "      <td>-0.483808</td>\n",
       "      <td>1.239446</td>\n",
       "      <td>-0.271394</td>\n",
       "      <td>2.816744</td>\n",
       "      <td>-1.456015</td>\n",
       "      <td>0.925883</td>\n",
       "      <td>-0.995725</td>\n",
       "      <td>-0.503101</td>\n",
       "      <td>0.004346</td>\n",
       "      <td>-1.740653</td>\n",
       "      <td>-2.923846</td>\n",
       "      <td>0.489433</td>\n",
       "    </tr>\n",
       "    <tr>\n",
       "      <th>3</th>\n",
       "      <td>-0.387796</td>\n",
       "      <td>-0.483808</td>\n",
       "      <td>-0.072297</td>\n",
       "      <td>-0.271394</td>\n",
       "      <td>-0.547739</td>\n",
       "      <td>0.145857</td>\n",
       "      <td>-1.279972</td>\n",
       "      <td>0.063696</td>\n",
       "      <td>-0.619937</td>\n",
       "      <td>-0.747524</td>\n",
       "      <td>0.074031</td>\n",
       "      <td>0.312677</td>\n",
       "      <td>-0.462394</td>\n",
       "    </tr>\n",
       "    <tr>\n",
       "      <th>4</th>\n",
       "      <td>-0.356634</td>\n",
       "      <td>-0.483808</td>\n",
       "      <td>-0.172976</td>\n",
       "      <td>-0.271394</td>\n",
       "      <td>-0.063323</td>\n",
       "      <td>0.156023</td>\n",
       "      <td>-0.032252</td>\n",
       "      <td>-0.134328</td>\n",
       "      <td>-0.619937</td>\n",
       "      <td>-0.586409</td>\n",
       "      <td>-0.019030</td>\n",
       "      <td>0.415050</td>\n",
       "      <td>-0.324407</td>\n",
       "    </tr>\n",
       "  </tbody>\n",
       "</table>\n",
       "</div>"
      ],
      "text/plain": [
       "         0         1         2         3         4         5         6   \\\n",
       "0 -0.387961 -0.483808 -1.026557 -0.271394 -0.362780 -1.020329  0.729251   \n",
       "1 -0.394771 -0.483808  0.413587 -0.271394 -1.005731 -0.385680 -0.922459   \n",
       "2 -0.112978 -0.483808  1.239446 -0.271394  2.816744 -1.456015  0.925883   \n",
       "3 -0.387796 -0.483808 -0.072297 -0.271394 -0.547739  0.145857 -1.279972   \n",
       "4 -0.356634 -0.483808 -0.172976 -0.271394 -0.063323  0.156023 -0.032252   \n",
       "\n",
       "         7         8         9         10        11        12  \n",
       "0 -0.583419 -0.503101 -0.634147 -0.856576  0.433456  0.285269  \n",
       "1  0.810566 -0.619937 -0.675917 -1.135758  0.433456 -0.318775  \n",
       "2 -0.995725 -0.503101  0.004346 -1.740653 -2.923846  0.489433  \n",
       "3  0.063696 -0.619937 -0.747524  0.074031  0.312677 -0.462394  \n",
       "4 -0.134328 -0.619937 -0.586409 -0.019030  0.415050 -0.324407  "
      ]
     },
     "execution_count": 168,
     "metadata": {},
     "output_type": "execute_result"
    }
   ],
   "source": [
    "pd.DataFrame(X_train_normal)[:5]"
   ]
  },
  {
   "cell_type": "markdown",
   "metadata": {},
   "source": [
    "# 4. 기타"
   ]
  },
  {
   "cell_type": "markdown",
   "metadata": {},
   "source": [
    "## 4.1. 훈련모델을 파일로 내보내기"
   ]
  },
  {
   "cell_type": "markdown",
   "metadata": {},
   "source": [
    "### 4.1.1. 라이브러리 적재"
   ]
  },
  {
   "cell_type": "code",
   "execution_count": 169,
   "metadata": {},
   "outputs": [],
   "source": [
    "import pickle # 바닐라 파이썬에서 제공하는 기능"
   ]
  },
  {
   "cell_type": "markdown",
   "metadata": {},
   "source": [
    "### 4.1.2. 모델을 파일로 내보내기"
   ]
  },
  {
   "cell_type": "code",
   "execution_count": 170,
   "metadata": {},
   "outputs": [],
   "source": [
    "y = ram_price['price']\n",
    "X = ram_price.values[:, 0].astype('float32')"
   ]
  },
  {
   "cell_type": "code",
   "execution_count": 171,
   "metadata": {},
   "outputs": [
    {
     "data": {
      "text/plain": [
       "(333, 1)"
      ]
     },
     "execution_count": 171,
     "metadata": {},
     "output_type": "execute_result"
    }
   ],
   "source": [
    "X = X.reshape(-1,1) # 특징이 하나만 있어도 2차원의 형상을 유지해야한다 (-1은 0축값 사용하는 것)\n",
    "X.shape "
   ]
  },
  {
   "cell_type": "code",
   "execution_count": 172,
   "metadata": {},
   "outputs": [],
   "source": [
    "X_train, X_test, y_train, y_test = train_test_split(X, y, shuffle = False) #섞지 않는 이유, 그래프를 그릴 목적"
   ]
  },
  {
   "cell_type": "code",
   "execution_count": 173,
   "metadata": {},
   "outputs": [],
   "source": [
    "ridge = Ridge(alpha = 1.0).fit(X_train, logy_train)"
   ]
  },
  {
   "cell_type": "code",
   "execution_count": 174,
   "metadata": {},
   "outputs": [],
   "source": [
    "model = ridge"
   ]
  },
  {
   "cell_type": "code",
   "execution_count": 175,
   "metadata": {},
   "outputs": [],
   "source": [
    "with open('trained_model.pkl', 'wb') as pkl_file:  # 'wb'는 쓰기모드이면서 binary 파일로 연다는 의미\n",
    "    pickle.dump(model, pkl_file) # trained_model.pkl 파일이 생성되었다."
   ]
  },
  {
   "cell_type": "markdown",
   "metadata": {},
   "source": [
    "### 4.1.3. 모델을 삭제"
   ]
  },
  {
   "cell_type": "code",
   "execution_count": 176,
   "metadata": {},
   "outputs": [],
   "source": [
    "del model # 모델을 지운다"
   ]
  },
  {
   "cell_type": "code",
   "execution_count": 177,
   "metadata": {},
   "outputs": [
    {
     "ename": "NameError",
     "evalue": "name 'model' is not defined",
     "output_type": "error",
     "traceback": [
      "\u001b[1;31m---------------------------------------------------------------------------\u001b[0m",
      "\u001b[1;31mNameError\u001b[0m                                 Traceback (most recent call last)",
      "\u001b[1;32m<ipython-input-177-a2c0bfa77d1a>\u001b[0m in \u001b[0;36m<module>\u001b[1;34m\u001b[0m\n\u001b[1;32m----> 1\u001b[1;33m \u001b[0mmodel\u001b[0m \u001b[1;31m# error가 발생하는 것을 알 수 있다 (모델이 지워졌음을 확인)\u001b[0m\u001b[1;33m\u001b[0m\u001b[1;33m\u001b[0m\u001b[0m\n\u001b[0m",
      "\u001b[1;31mNameError\u001b[0m: name 'model' is not defined"
     ]
    }
   ],
   "source": [
    "model # error가 발생하는 것을 알 수 있다 (모델이 지워졌음을 확인)"
   ]
  },
  {
   "cell_type": "markdown",
   "metadata": {},
   "source": [
    "### 4.1.4. 파일에서 모델을 읽기"
   ]
  },
  {
   "cell_type": "code",
   "execution_count": 178,
   "metadata": {},
   "outputs": [],
   "source": [
    "with open('trained_model.pkl','rb') as pkl_file: # 'rb' = read binary\n",
    "    model = pickle.load(pkl_file)"
   ]
  },
  {
   "cell_type": "code",
   "execution_count": 179,
   "metadata": {},
   "outputs": [
    {
     "data": {
      "text/plain": [
       "Ridge(alpha=1.0, copy_X=True, fit_intercept=True, max_iter=None,\n",
       "   normalize=False, random_state=None, solver='auto', tol=0.001)"
      ]
     },
     "execution_count": 179,
     "metadata": {},
     "output_type": "execute_result"
    }
   ],
   "source": [
    "model # error가 발생하지 않는다"
   ]
  },
  {
   "cell_type": "code",
   "execution_count": 180,
   "metadata": {},
   "outputs": [],
   "source": [
    "y_pred = model.predict(X) # 모델에 새로운 데이터를 적용해서 예측을 수행한다"
   ]
  },
  {
   "cell_type": "code",
   "execution_count": 181,
   "metadata": {},
   "outputs": [
    {
     "data": {
      "text/plain": [
       "array([ 1.93800049e+01,  1.84849243e+01,  1.80374146e+01,  1.57997437e+01,\n",
       "        1.35620728e+01,  1.22194824e+01,  1.17719727e+01,  1.13244019e+01,\n",
       "        1.12886353e+01,  1.12125244e+01,  1.09887695e+01,  1.08768921e+01,\n",
       "        1.08007812e+01,  1.06889038e+01,  1.06173706e+01,  1.03935547e+01,\n",
       "        9.90570068e+00,  9.86993408e+00,  9.83416748e+00,  9.75805664e+00,\n",
       "        9.72229004e+00,  9.64617920e+00,  9.53430176e+00,  9.19866943e+00,\n",
       "        9.08679199e+00,  8.63922119e+00,  8.37969971e+00,  8.19171143e+00,\n",
       "        8.11560059e+00,  7.89184570e+00,  7.74414062e+00,  7.44427490e+00,\n",
       "        7.29663086e+00,  7.03710938e+00,  6.84912109e+00,  6.70141602e+00,\n",
       "        6.66113281e+00,  6.62536621e+00,  6.58953857e+00,  6.54925537e+00,\n",
       "        6.47766113e+00,  6.43737793e+00,  6.40155029e+00,  6.36578369e+00,\n",
       "        6.32550049e+00,  6.28967285e+00,  6.25390625e+00,  6.21356201e+00,\n",
       "        6.17779541e+00,  6.14202881e+00,  6.10168457e+00,  6.06591797e+00,\n",
       "        5.98980713e+00,  5.95404053e+00,  5.91827393e+00,  5.87792969e+00,\n",
       "        5.84216309e+00,  5.80639648e+00,  5.76605225e+00,  5.73028564e+00,\n",
       "        5.69451904e+00,  5.65417480e+00,  5.61840820e+00,  5.58258057e+00,\n",
       "        5.54229736e+00,  5.50653076e+00,  5.47070312e+00,  5.43041992e+00,\n",
       "        5.35882568e+00,  5.31854248e+00,  5.28271484e+00,  5.24694824e+00,\n",
       "        5.20666504e+00,  5.17083740e+00,  5.13507080e+00,  5.09478760e+00,\n",
       "        5.05895996e+00,  5.02319336e+00,  4.98284912e+00,  4.94708252e+00,\n",
       "        4.87097168e+00,  4.83520508e+00,  4.79943848e+00,  4.75909424e+00,\n",
       "        4.72332764e+00,  4.68756104e+00,  4.64721680e+00,  4.61145020e+00,\n",
       "        4.53533936e+00,  4.46380615e+00,  4.42346191e+00,  4.38769531e+00,\n",
       "        4.35186768e+00,  4.31158447e+00,  4.27581787e+00,  4.23999023e+00,\n",
       "        4.19970703e+00,  4.16394043e+00,  4.12811279e+00,  4.08782959e+00,\n",
       "        4.05200195e+00,  4.01623535e+00,  3.97595215e+00,  3.94012451e+00,\n",
       "        3.90435791e+00,  3.86407471e+00,  3.82824707e+00,  3.79248047e+00,\n",
       "        3.75213623e+00,  3.71636963e+00,  3.68060303e+00,  3.64025879e+00,\n",
       "        3.60449219e+00,  3.56872559e+00,  3.52838135e+00,  3.49261475e+00,\n",
       "        3.45684814e+00,  3.41650391e+00,  3.38073730e+00,  3.34497070e+00,\n",
       "        3.30462646e+00,  3.26885986e+00,  3.23309326e+00,  3.19274902e+00,\n",
       "        3.15698242e+00,  3.12115479e+00,  3.08087158e+00,  3.04510498e+00,\n",
       "        3.00927734e+00,  2.96899414e+00,  2.93322754e+00,  2.89739990e+00,\n",
       "        2.85711670e+00,  2.82128906e+00,  2.78552246e+00,  2.74523926e+00,\n",
       "        2.70941162e+00,  2.67364502e+00,  2.63336182e+00,  2.59753418e+00,\n",
       "        2.56176758e+00,  2.52142334e+00,  2.48565674e+00,  2.44989014e+00,\n",
       "        2.40954590e+00,  2.37377930e+00,  2.33801270e+00,  2.29766846e+00,\n",
       "        2.26190186e+00,  2.22613525e+00,  2.18579102e+00,  2.15002441e+00,\n",
       "        2.11425781e+00,  2.07391357e+00,  2.03814697e+00,  2.00238037e+00,\n",
       "        1.96203613e+00,  1.92626953e+00,  1.89044189e+00,  1.85015869e+00,\n",
       "        1.81439209e+00,  1.77856445e+00,  1.73828125e+00,  1.70251465e+00,\n",
       "        1.66668701e+00,  1.62640381e+00,  1.59057617e+00,  1.55480957e+00,\n",
       "        1.51452637e+00,  1.47869873e+00,  1.44293213e+00,  1.40264893e+00,\n",
       "        1.36682129e+00,  1.33105469e+00,  1.29071045e+00,  1.25494385e+00,\n",
       "        1.21917725e+00,  1.17883301e+00,  1.14306641e+00,  1.10729980e+00,\n",
       "        1.06695557e+00,  1.03118896e+00,  9.95422363e-01,  9.55078125e-01,\n",
       "        9.19311523e-01,  8.83544922e-01,  8.43200684e-01,  7.71667480e-01,\n",
       "        7.31323242e-01,  6.95556641e-01,  6.59790039e-01,  6.19445801e-01,\n",
       "        5.47851562e-01,  5.25451660e-01,  5.07568359e-01,  4.71801758e-01,\n",
       "        4.35974121e-01,  3.59924316e-01,  2.83813477e-01,  2.47985840e-01,\n",
       "        2.12219238e-01,  1.71936035e-01,  1.36108398e-01,  1.00341797e-01,\n",
       "        5.99975586e-02,  2.42309570e-02, -1.15356445e-02, -5.18798828e-02,\n",
       "       -8.76464844e-02, -1.23413086e-01, -1.63757324e-01, -1.99523926e-01,\n",
       "       -2.35290527e-01, -2.75634766e-01, -3.11401367e-01, -3.47167969e-01,\n",
       "       -3.87512207e-01, -4.23278809e-01, -4.59045410e-01, -4.99389648e-01,\n",
       "       -5.35156250e-01, -5.35156250e-01, -5.70922852e-01, -6.11267090e-01,\n",
       "       -6.47033691e-01, -6.56005859e-01, -7.94738770e-01, -7.94738770e-01,\n",
       "       -8.70788574e-01, -9.06616211e-01, -9.46899414e-01, -1.01849365e+00,\n",
       "       -1.09460449e+00, -1.28259277e+00, -1.31835938e+00, -1.35412598e+00,\n",
       "       -1.39447021e+00, -1.43023682e+00, -1.46600342e+00, -1.50634766e+00,\n",
       "       -1.54211426e+00, -1.57788086e+00, -1.64953613e+00, -1.65399170e+00,\n",
       "       -1.68975830e+00, -1.73010254e+00, -1.80163574e+00, -1.84197998e+00,\n",
       "       -1.87774658e+00, -2.21343994e+00, -2.28948975e+00, -2.47296143e+00,\n",
       "       -2.51330566e+00, -2.62518311e+00, -2.69671631e+00, -2.77282715e+00,\n",
       "       -2.84893799e+00, -2.88470459e+00, -2.92047119e+00, -2.99212646e+00,\n",
       "       -2.99658203e+00, -3.03234863e+00, -3.07269287e+00, -3.14428711e+00,\n",
       "       -3.22033691e+00, -3.29644775e+00, -3.33221436e+00, -3.36804199e+00,\n",
       "       -3.40832520e+00, -3.44415283e+00, -3.47991943e+00, -3.59179688e+00,\n",
       "       -3.66790771e+00, -3.70367432e+00, -3.74401855e+00, -3.81555176e+00,\n",
       "       -3.85589600e+00, -3.89166260e+00, -3.92742920e+00, -4.00354004e+00,\n",
       "       -4.07965088e+00, -4.11541748e+00, -4.15118408e+00, -4.22729492e+00,\n",
       "       -4.30340576e+00, -4.33917236e+00, -4.37500000e+00, -4.41528320e+00,\n",
       "       -4.48687744e+00, -4.56292725e+00, -4.59875488e+00, -4.67486572e+00,\n",
       "       -4.71063232e+00, -4.75091553e+00, -4.78674316e+00, -4.82250977e+00,\n",
       "       -4.93438721e+00, -4.97473145e+00, -5.08660889e+00, -5.12237549e+00,\n",
       "       -5.23425293e+00, -5.27001953e+00, -5.34613037e+00, -5.38189697e+00,\n",
       "       -5.49377441e+00, -5.53411865e+00, -5.60571289e+00, -5.68176270e+00,\n",
       "       -5.71759033e+00, -5.82946777e+00, -5.86975098e+00, -5.94134521e+00,\n",
       "       -5.98162842e+00, -6.01745605e+00, -6.05322266e+00, -6.09350586e+00,\n",
       "       -6.16510010e+00, -6.20544434e+00, -6.24121094e+00, -6.31732178e+00,\n",
       "       -6.38885498e+00, -6.42919922e+00, -6.50073242e+00, -6.57684326e+00,\n",
       "       -6.61260986e+00, -6.68872070e+00, -6.72448730e+00, -6.80059814e+00,\n",
       "       -6.83642578e+00, -6.87670898e+00, -6.91247559e+00, -6.94830322e+00,\n",
       "       -6.98858643e+00], dtype=float32)"
      ]
     },
     "execution_count": 181,
     "metadata": {},
     "output_type": "execute_result"
    }
   ],
   "source": [
    "y_pred"
   ]
  },
  {
   "cell_type": "markdown",
   "metadata": {},
   "source": [
    "# Ch03의 끝."
   ]
  }
 ],
 "metadata": {
  "kernelspec": {
   "display_name": "Python 3",
   "language": "python",
   "name": "python3"
  },
  "language_info": {
   "codemirror_mode": {
    "name": "ipython",
    "version": 3
   },
   "file_extension": ".py",
   "mimetype": "text/x-python",
   "name": "python",
   "nbconvert_exporter": "python",
   "pygments_lexer": "ipython3",
   "version": "3.7.3"
  }
 },
 "nbformat": 4,
 "nbformat_minor": 2
}
