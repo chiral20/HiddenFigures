{
 "cells": [
  {
   "cell_type": "markdown",
   "metadata": {},
   "source": [
    "# Fundamental Techniques of Feature Engineering for Machine Learning\n",
    "### (source : https://towardsdatascience.com/feature-engineering-for-machine-learning-3a5e293a5114)"
   ]
  },
  {
   "cell_type": "markdown",
   "metadata": {},
   "source": [
    "# 0. Introduction "
   ]
  },
  {
   "cell_type": "markdown",
   "metadata": {},
   "source": [
    "모든 머신러닝 알고리즘은 output을 생성하기 위해서 몇 개의 input data를 사용한다. 이 input data들은 feature를 구성하는데, 흔히 구조화된 열들이 feature에 해당한다. \n",
    "\n",
    "알고리즘은 제대로 동작하기 위해서는 특별한 특징을 가지는 feature를 필요로 하는데, feature engineering이 필요한 이유가 여기에 있다.\n",
    "\n",
    "feature engineering의 2가지 주요 목적은 다음과 같다.\n",
    "\n",
    "    1) 머신러닝 알고리즘의 필요에 부합하는 적절한 input 데이터셋을 준비하기 위해서 \n",
    "    2) 머신러닝 모델의 성능을 향상시키기 위해서\n",
    "\n",
    "Forbes의 설문에 따르면, Data scientist는 그들의 시간의 80%를 data preparation에 쓴다고 한다.\n",
    "\n",
    "\n",
    "![title](Fobes_Survey.jpg)"
   ]
  },
  {
   "cell_type": "markdown",
   "metadata": {},
   "source": [
    "Feature Engineering을 위한 python scripts를 작성하기 위해서 기본적인 library를 import한다."
   ]
  },
  {
   "cell_type": "code",
   "execution_count": 1,
   "metadata": {},
   "outputs": [],
   "source": [
    "import pandas as pd\n",
    "import numpy as np"
   ]
  },
  {
   "cell_type": "markdown",
   "metadata": {},
   "source": [
    "## 0.1. List of Techniques\n",
    "\n",
    "    1.Imputation\n",
    "    2.Handling Outliers\n",
    "    3.Binning\n",
    "    4.Log Transform\n",
    "    5.One-Hot Encoding\n",
    "    6.Grouping Operations\n",
    "    7.Feature Split\n",
    "    8.Scaling\n",
    "    9.Extracting Date"
   ]
  },
  {
   "cell_type": "markdown",
   "metadata": {},
   "source": [
    "# 1. Imputation"
   ]
  },
  {
   "cell_type": "markdown",
   "metadata": {},
   "source": [
    "결측치는 머신러닝을 위한 데이터를 준비할 때 가장 흔하게 경험하는 문제이다. 결측치가 발생하는 이유는 human error, 개인정보의 보호 이유, 데이터 흐름에 있어서의 끊어짐 등에 의해서 발생할 수 있다. 이유가 무엇이든 결측치는 머신러닝의 성능에 영향을 준다.\n",
    "\n",
    "어떤 머신러닝 플랫폼에서는 자동으로 결측치를 포함하는 행을 지우기도 하는데 이것은 훈련할 수 있는 train 데이터의 규모를 줄이는 효과가 있기 때문에 모델의 성능이 나빠지는 결과를 가져오기도 한다. 반면에 대부분의 알고리즘은 결측치가 있는 데이터셋을 받아들이지 않고, 에러를 발생시키기도 한다.\n",
    "\n",
    "결측치에 대한 가장 단순한 해결법은 행을 지우는 거나 전체 컬럼을 지우는 것이다. "
   ]
  },
  {
   "cell_type": "markdown",
   "metadata": {},
   "source": [
    "## 1.1. Numerical Imputation"
   ]
  },
  {
   "cell_type": "markdown",
   "metadata": {},
   "source": [
    "## 1.2. Categorical Imputation"
   ]
  },
  {
   "cell_type": "markdown",
   "metadata": {},
   "source": [
    "# 2. Handling Outliers"
   ]
  },
  {
   "cell_type": "markdown",
   "metadata": {},
   "source": [
    "## 2.1. Outlier Detection with Standard Deviation"
   ]
  },
  {
   "cell_type": "markdown",
   "metadata": {},
   "source": [
    "## 2.2. Outlier Detection with Percentiles"
   ]
  },
  {
   "cell_type": "markdown",
   "metadata": {},
   "source": [
    "## 2.3. An Outlier Dilemma: Drop or Cap"
   ]
  },
  {
   "cell_type": "markdown",
   "metadata": {},
   "source": [
    "# 3. Binning"
   ]
  },
  {
   "cell_type": "markdown",
   "metadata": {},
   "source": [
    "# 4. Log Transform"
   ]
  },
  {
   "cell_type": "markdown",
   "metadata": {},
   "source": [
    "# 5. One-hot encoding"
   ]
  },
  {
   "cell_type": "markdown",
   "metadata": {},
   "source": [
    "# 6. Grouping Operations"
   ]
  },
  {
   "cell_type": "markdown",
   "metadata": {},
   "source": [
    "## 6.1. Categorical Column Grouping"
   ]
  },
  {
   "cell_type": "markdown",
   "metadata": {},
   "source": [
    "## 6.2. Numerical Column Grouping"
   ]
  },
  {
   "cell_type": "markdown",
   "metadata": {},
   "source": [
    "# 7. Feature Split"
   ]
  },
  {
   "cell_type": "markdown",
   "metadata": {},
   "source": [
    "# 8. Scaling"
   ]
  },
  {
   "cell_type": "markdown",
   "metadata": {},
   "source": [
    "## 8.1. Normalization"
   ]
  },
  {
   "cell_type": "markdown",
   "metadata": {},
   "source": [
    "## 8.2. Standardization"
   ]
  },
  {
   "cell_type": "markdown",
   "metadata": {},
   "source": [
    "# 9. Extracting Date"
   ]
  },
  {
   "cell_type": "markdown",
   "metadata": {},
   "source": [
    "# 10. Conclusion"
   ]
  },
  {
   "cell_type": "code",
   "execution_count": null,
   "metadata": {},
   "outputs": [],
   "source": []
  },
  {
   "cell_type": "code",
   "execution_count": null,
   "metadata": {},
   "outputs": [],
   "source": []
  }
 ],
 "metadata": {
  "kernelspec": {
   "display_name": "Python 3",
   "language": "python",
   "name": "python3"
  },
  "language_info": {
   "codemirror_mode": {
    "name": "ipython",
    "version": 3
   },
   "file_extension": ".py",
   "mimetype": "text/x-python",
   "name": "python",
   "nbconvert_exporter": "python",
   "pygments_lexer": "ipython3",
   "version": "3.7.3"
  }
 },
 "nbformat": 4,
 "nbformat_minor": 2
}
